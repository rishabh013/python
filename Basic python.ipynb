{
 "cells": [
  {
   "cell_type": "markdown",
   "id": "8f8937a7",
   "metadata": {},
   "source": [
    "## Chapter-1\n",
    "1.Write a program to print Twinkle-Twinkle Little Star poem in python.\n"
   ]
  },
  {
   "cell_type": "code",
   "execution_count": 1,
   "id": "4f583ef6",
   "metadata": {},
   "outputs": [
    {
     "name": "stdout",
     "output_type": "stream",
     "text": [
      "Twinkle, twinkle, little star\n",
      "How I wonder what you are\n",
      "nUp above the world so high\n",
      "Like a diamond in the sky\n"
     ]
    }
   ],
   "source": [
    "Harry = (\"Twinkle, twinkle, little star\\nHow I wonder what you are\\nnUp above the world so high\\nLike a diamond in the sky\")\n",
    "print(Harry)"
   ]
  },
  {
   "cell_type": "code",
   "execution_count": 2,
   "id": "75f5d5c4",
   "metadata": {},
   "outputs": [],
   "source": [
    "import os\n",
    "#print(os.listdir())\n"
   ]
  },
  {
   "cell_type": "markdown",
   "id": "e1fc518a",
   "metadata": {},
   "source": [
    "## Chapter-2\n",
    "1.Write a Python program to add two numbers."
   ]
  },
  {
   "cell_type": "code",
   "execution_count": 3,
   "id": "ecf121fa",
   "metadata": {},
   "outputs": [
    {
     "name": "stdout",
     "output_type": "stream",
     "text": [
      "11\n"
     ]
    }
   ],
   "source": [
    "A = 5\n",
    "B = 6\n",
    "D = A+B\n",
    "print(D)"
   ]
  },
  {
   "cell_type": "markdown",
   "id": "04e8512c",
   "metadata": {},
   "source": [
    "2.Write a Python program to find the remainder when a number is divided by Z(Integer).\n"
   ]
  },
  {
   "cell_type": "code",
   "execution_count": 4,
   "id": "e5262a7e",
   "metadata": {},
   "outputs": [
    {
     "name": "stdout",
     "output_type": "stream",
     "text": [
      "the remainder when a A is divided by B 3\n"
     ]
    }
   ],
   "source": [
    "A = 35\n",
    "B = A%4\n",
    "print(\"the remainder when a A is divided by B\", B)\n"
   ]
  },
  {
   "cell_type": "markdown",
   "id": "08b3fdb4",
   "metadata": {},
   "source": [
    "3.Check the type of the variable assigned using the input() function.\n"
   ]
  },
  {
   "cell_type": "code",
   "execution_count": 5,
   "id": "2dd64af1",
   "metadata": {},
   "outputs": [
    {
     "name": "stdout",
     "output_type": "stream",
     "text": [
      "<class 'int'>\n",
      "<class 'str'>\n",
      "<class 'float'>\n"
     ]
    }
   ],
   "source": [
    "a = 67\n",
    "b = \"Rishabh is a goog boy\"\n",
    "c = 65.1\n",
    "print(type(a))\n",
    "print(type(b))\n",
    "print(type(c))\n"
   ]
  },
  {
   "cell_type": "markdown",
   "id": "89549c17",
   "metadata": {},
   "source": [
    "4.Use a comparison operator to find out whether a given variable a is greater than b or not. (Take a=34 and b=80 )\n"
   ]
  },
  {
   "cell_type": "code",
   "execution_count": 8,
   "id": "62389a0e",
   "metadata": {},
   "outputs": [
    {
     "name": "stdout",
     "output_type": "stream",
     "text": [
      "lesser\n"
     ]
    }
   ],
   "source": [
    "a = 34\n",
    "b = 80\n",
    "if a>b:\n",
    " print('Greater')\n",
    "else:\n",
    " print('lesser')\n"
   ]
  },
  {
   "cell_type": "code",
   "execution_count": 10,
   "id": "f874ec7e",
   "metadata": {},
   "outputs": [
    {
     "data": {
      "text/plain": [
       "False"
      ]
     },
     "execution_count": 10,
     "metadata": {},
     "output_type": "execute_result"
    }
   ],
   "source": [
    "a>b"
   ]
  },
  {
   "cell_type": "markdown",
   "id": "8b9fa661",
   "metadata": {},
   "source": [
    "5.Write a Python program to find the average of two numbers entered by the user."
   ]
  },
  {
   "cell_type": "code",
   "execution_count": 11,
   "id": "163b7767",
   "metadata": {},
   "outputs": [
    {
     "name": "stdout",
     "output_type": "stream",
     "text": [
      "enter the 1st num 2\n",
      "enter the 2st num 3\n",
      "9.333333333333334\n"
     ]
    }
   ],
   "source": [
    "a = int(input(\"enter the 1st num \"))\n",
    "b = int(input(\"enter the 2st num \"))\n",
    "c = 23\n",
    "avg = (a+b+c)/3\n",
    "print(avg)"
   ]
  },
  {
   "cell_type": "markdown",
   "id": "63597edc",
   "metadata": {},
   "source": [
    "6.Write a Python program to calculate the square of a number entered by the user."
   ]
  },
  {
   "cell_type": "code",
   "execution_count": 12,
   "id": "6b402cd0",
   "metadata": {},
   "outputs": [
    {
     "name": "stdout",
     "output_type": "stream",
     "text": [
      "Enter the Square num 5\n",
      "25\n"
     ]
    }
   ],
   "source": [
    "a = int(input(\"Enter the Square num \"))\n",
    "b = a*a\n",
    "print(b)"
   ]
  },
  {
   "cell_type": "markdown",
   "id": "41f35b99",
   "metadata": {},
   "source": [
    "## Chapter -3\n",
    "1.Write a Python program to display a user-entered name followed by Good Afternoon using input() function."
   ]
  },
  {
   "cell_type": "code",
   "execution_count": 13,
   "id": "3407554d",
   "metadata": {},
   "outputs": [
    {
     "name": "stdout",
     "output_type": "stream",
     "text": [
      "Enter the user nameRishabh\n",
      "Good morning Rishabh\n"
     ]
    }
   ],
   "source": [
    "A = input(\"Enter the user name\")\n",
    "print(\"Good morning\",A)"
   ]
  },
  {
   "cell_type": "markdown",
   "id": "09ac2710",
   "metadata": {},
   "source": [
    "2.Write a program to fill in a letter template given below with name and date. letter = ‘’’ Dear <|NAME|>,\n",
    " You are selected!\n",
    " <|DATE|>\n"
   ]
  },
  {
   "cell_type": "code",
   "execution_count": 14,
   "id": "dc6f69fe",
   "metadata": {},
   "outputs": [
    {
     "name": "stdout",
     "output_type": "stream",
     "text": [
      "Enter Your Name\n",
      "Rishabh\n",
      "Enter Date\n",
      "8/8/1996\n",
      "Dear Rishabh,\n",
      "Greetings from ABC coding house. I am happy to tell you about your selection\n",
      "You are selected!\n",
      "Have a great day ahead!\n",
      "Thanks and regards,\n",
      "Bill\n",
      "Date: 8/8/1996\n",
      "\n"
     ]
    }
   ],
   "source": [
    "letter = '''Dear <|NAME|>,\n",
    "Greetings from ABC coding house. I am happy to tell you about your selection\n",
    "You are selected!\n",
    "Have a great day ahead!\n",
    "Thanks and regards,\n",
    "Bill\n",
    "Date: <|DATE|>\n",
    "'''\n",
    "name = input(\"Enter Your Name\\n\")\n",
    "date = input(\"Enter Date\\n\")\n",
    "letter = letter.replace(\"<|NAME|>\", name)\n",
    "letter = letter.replace(\"<|DATE|>\", date)\n",
    "print(letter)"
   ]
  },
  {
   "cell_type": "markdown",
   "id": "0da9c925",
   "metadata": {},
   "source": [
    "3.Write a program to detect double spaces in a string"
   ]
  },
  {
   "cell_type": "code",
   "execution_count": 18,
   "id": "217ddde3",
   "metadata": {},
   "outputs": [
    {
     "name": "stdout",
     "output_type": "stream",
     "text": [
      "18\n"
     ]
    }
   ],
   "source": [
    "st = (\"i am a junion man.  what you are.i am a super man\")\n",
    "doublespace = st.find(\"  \")\n",
    "print(doublespace)"
   ]
  },
  {
   "cell_type": "markdown",
   "id": "4fb3d7aa",
   "metadata": {},
   "source": [
    "4.Replace the double spaces from problem 3 with single spaces."
   ]
  },
  {
   "cell_type": "code",
   "execution_count": 19,
   "id": "0413c4fa",
   "metadata": {},
   "outputs": [
    {
     "name": "stdout",
     "output_type": "stream",
     "text": [
      "i am a junion man. what you are. i am a super man\n"
     ]
    }
   ],
   "source": [
    "st = (\"i am a junion man. what you are. i am a super man\")\n",
    "doublespace = st.replace(\" \",\" \") # replace double space into single space\n",
    "print(doublespace)"
   ]
  },
  {
   "cell_type": "markdown",
   "id": "b7dc43f9",
   "metadata": {},
   "source": [
    "5.Write a program to format the following letter using escape sequence characters. letter = “Dear Harry, This Python course in nice. Thanks"
   ]
  },
  {
   "cell_type": "code",
   "execution_count": 21,
   "id": "114fd08b",
   "metadata": {},
   "outputs": [
    {
     "name": "stdout",
     "output_type": "stream",
     "text": [
      "Dear Harry, This Python course is nice! Thanks!\n",
      "Dear Harry,\n",
      "\tThis Python course is nice!\n",
      "Thanks!\n"
     ]
    }
   ],
   "source": [
    "letter = \"Dear Harry, This Python course is nice! Thanks!\"\n",
    "print(letter)\n",
    "formatted_letter = \"Dear Harry,\\n\\tThis Python course is nice!\\nThanks!\"\n",
    "print(formatted_letter)\n"
   ]
  },
  {
   "cell_type": "markdown",
   "id": "9f745038",
   "metadata": {},
   "source": [
    "## Chapter-4\n",
    "1.Write a program to store seven fruits in a list entered by the user."
   ]
  },
  {
   "cell_type": "code",
   "execution_count": 23,
   "id": "b679d9dd",
   "metadata": {},
   "outputs": [
    {
     "name": "stdout",
     "output_type": "stream",
     "text": [
      "Enter Fruit Number 1: orange\n",
      "Enter Fruit Number 2: mango\n",
      "Enter Fruit Number 3: bannan\n",
      "Enter Fruit Number 4: graps\n",
      "Enter Fruit Number 5: coco\n",
      "Enter Fruit Number 6: lemon\n",
      "Enter Fruit Number 7: sugar\n",
      "['orange', 'mango', 'bannan', 'graps', 'coco', 'lemon', 'sugar']\n"
     ]
    }
   ],
   "source": [
    "f1 = input(\"Enter Fruit Number 1: \")\n",
    "f2 = input(\"Enter Fruit Number 2: \")\n",
    "f3 = input(\"Enter Fruit Number 3: \")\n",
    "f4 = input(\"Enter Fruit Number 4: \")\n",
    "f5 = input(\"Enter Fruit Number 5: \")\n",
    "f6 = input(\"Enter Fruit Number 6: \")\n",
    "f7 = input(\"Enter Fruit Number 7: \")\n",
    "myFruitList = [f1, f2, f3, f4, f5, f6, f7]\n",
    "print(myFruitList)"
   ]
  },
  {
   "cell_type": "code",
   "execution_count": 24,
   "id": "02416a22",
   "metadata": {},
   "outputs": [
    {
     "name": "stdout",
     "output_type": "stream",
     "text": [
      "Enter Marks for Student Number 1: 32\n",
      "Enter Marks for Student Number 2: 4\n",
      "Enter Marks for Student Number 3: 1\n",
      "Enter Marks for Student Number 4: 23\n",
      "Enter Marks for Student Number 5: 53\n",
      "Enter Marks for Student Number 6: 34\n",
      "[1, 4, 23, 32, 34, 53]\n"
     ]
    }
   ],
   "source": [
    "m1 = int(input(\"Enter Marks for Student Number 1: \"))\n",
    "m2 = int(input(\"Enter Marks for Student Number 2: \"))\n",
    "m3 = int(input(\"Enter Marks for Student Number 3: \"))\n",
    "m4 = int(input(\"Enter Marks for Student Number 4: \"))\n",
    "m5 = int(input(\"Enter Marks for Student Number 5: \"))\n",
    "m6 = int(input(\"Enter Marks for Student Number 6: \"))\n",
    "myList = [m1, m2, m3, m4, m5, m6]\n",
    "myList.sort()\n",
    "print(myList)"
   ]
  },
  {
   "cell_type": "markdown",
   "id": "9f00f49c",
   "metadata": {},
   "source": [
    "3.Write a program to sum a list with 4 numbers."
   ]
  },
  {
   "cell_type": "code",
   "execution_count": 25,
   "id": "e68da531",
   "metadata": {},
   "outputs": [
    {
     "name": "stdout",
     "output_type": "stream",
     "text": [
      "69\n",
      "69\n"
     ]
    }
   ],
   "source": [
    "a = [2, 4, 56, 7]\n",
    "print(a[0] + a[1] + a[2] + a[3])\n",
    "print(sum(a))"
   ]
  },
  {
   "cell_type": "markdown",
   "id": "5661e6e4",
   "metadata": {},
   "source": [
    "5.Write a program to count the number of zeros in the following tuple: a = (7, 0, 8, 0, 0, 9)"
   ]
  },
  {
   "cell_type": "code",
   "execution_count": 26,
   "id": "921bed28",
   "metadata": {},
   "outputs": [
    {
     "name": "stdout",
     "output_type": "stream",
     "text": [
      "3\n"
     ]
    }
   ],
   "source": [
    "a = (7,0,8,0,0,9)\n",
    "b = a.count(0)\n",
    "print(b)"
   ]
  },
  {
   "cell_type": "markdown",
   "id": "90bbf352",
   "metadata": {},
   "source": [
    "## Chapter-5\n",
    "1.Write a program to create a dictionary of Hindi words with values as their English translation. Provide the user with an option to look it up!\n"
   ]
  },
  {
   "cell_type": "code",
   "execution_count": 29,
   "id": "ad93ad7c",
   "metadata": {},
   "outputs": [
    {
     "name": "stdout",
     "output_type": "stream",
     "text": [
      "Options are  dict_keys(['Pankha', 'Dabba', 'Vastu'])\n",
      "Enter the Hindi Word\n",
      "Pankha\n",
      "The meaning of your word is: Fan\n",
      "The meaning of your word is: Fan\n"
     ]
    }
   ],
   "source": [
    "myDict = {\n",
    " \"Pankha\": \"Fan\",\n",
    " \"Dabba\": \"Box\",\n",
    " \"Vastu\": \"Item\"\n",
    "}\n",
    "print(\"Options are \", myDict.keys())\n",
    "a = input(\"Enter the Hindi Word\\n\")\n",
    "print(\"The meaning of your word is:\", myDict[a])\n",
    "# Below line will not throw an error if the key is not present in the dictionary\n",
    "print(\"The meaning of your word is:\", myDict.get(a))"
   ]
  },
  {
   "cell_type": "markdown",
   "id": "57fa0a63",
   "metadata": {},
   "source": [
    "2.Write a program to input eight numbers from the user and display all the unique numbers (once)."
   ]
  },
  {
   "cell_type": "code",
   "execution_count": 31,
   "id": "0f2168f5",
   "metadata": {},
   "outputs": [
    {
     "name": "stdout",
     "output_type": "stream",
     "text": [
      "Enter number 1\n",
      "1\n",
      "Enter number 2\n",
      "2\n",
      "Enter number 3\n",
      "3\n",
      "Enter number 4\n",
      "4\n",
      "Enter number 5\n",
      "5\n",
      "Enter number 6\n",
      "6\n",
      "Enter number 7\n",
      "7\n",
      "Enter number 8\n",
      "8\n",
      "{1, 2, 3, 4, 5, 6, 7, 8}\n"
     ]
    }
   ],
   "source": [
    "num1 = int(input(\"Enter number 1\\n\"))\n",
    "num2 = int(input(\"Enter number 2\\n\"))\n",
    "num3 = int(input(\"Enter number 3\\n\"))\n",
    "num4 = int(input(\"Enter number 4\\n\"))\n",
    "num5 = int(input(\"Enter number 5\\n\"))\n",
    "num6 = int(input(\"Enter number 6\\n\"))\n",
    "num7 = int(input(\"Enter number 7\\n\"))\n",
    "num8 = int(input(\"Enter number 8\\n\"))\n",
    "s = {num1, num2, num3, num4, num5, num6, num7, num8}\n",
    "print(s)"
   ]
  },
  {
   "cell_type": "markdown",
   "id": "105b1864",
   "metadata": {},
   "source": [
    "3.Can we have a set with 18(int) and “18”(str) as a value in it?"
   ]
  },
  {
   "cell_type": "code",
   "execution_count": 32,
   "id": "c4face69",
   "metadata": {},
   "outputs": [
    {
     "name": "stdout",
     "output_type": "stream",
     "text": [
      "{18, 18.1, '18'}\n"
     ]
    }
   ],
   "source": [
    "s = {18, \"18\", 18.1}\n",
    "print(s)"
   ]
  },
  {
   "cell_type": "markdown",
   "id": "296f0a06",
   "metadata": {},
   "source": [
    "4.What will be the length of the following set S:"
   ]
  },
  {
   "cell_type": "code",
   "execution_count": 33,
   "id": "6317afec",
   "metadata": {},
   "outputs": [
    {
     "name": "stdout",
     "output_type": "stream",
     "text": [
      "{'20', 20}\n",
      "2\n"
     ]
    }
   ],
   "source": [
    "s = {20, 20.0, \"20\"}\n",
    "print(s)\n",
    "print(len(s))"
   ]
  },
  {
   "cell_type": "markdown",
   "id": "5a8e28a8",
   "metadata": {},
   "source": [
    "5.Create an empty dictionary. Allow 4 friends to enter their favorite language as values and use keys as their names. Assume that the names are unique.\n"
   ]
  },
  {
   "cell_type": "code",
   "execution_count": 34,
   "id": "ea8a6b2e",
   "metadata": {},
   "outputs": [
    {
     "name": "stdout",
     "output_type": "stream",
     "text": [
      "Enter your favorite language Shubham\n",
      "hindi\n",
      "Enter your favorite language Ankit\n",
      "marahi\n",
      "Enter your favorite language Sonali\n",
      "gujrahi\n",
      "Enter your favorite language Harshita\n",
      "kannad\n",
      "{'shubham': 'hindi', 'ankit': 'marahi', 'sonali': 'gujrahi', 'harshita': 'kannad'}\n"
     ]
    }
   ],
   "source": [
    "favLang = {}\n",
    "a = input(\"Enter your favorite language Shubham\\n\")\n",
    "b = input(\"Enter your favorite language Ankit\\n\")\n",
    "c = input(\"Enter your favorite language Sonali\\n\")\n",
    "d = input(\"Enter your favorite language Harshita\\n\")\n",
    "favLang['shubham'] = a\n",
    "favLang['ankit'] = b\n",
    "favLang['sonali'] = c\n",
    "favLang['harshita'] = d\n",
    "print(favLang)"
   ]
  },
  {
   "cell_type": "markdown",
   "id": "7c171b14",
   "metadata": {},
   "source": [
    "## Chapter-6\n",
    "1.Write a program to find the greatest of four numbers entered by the user.\n"
   ]
  },
  {
   "cell_type": "code",
   "execution_count": 35,
   "id": "19c189ab",
   "metadata": {},
   "outputs": [
    {
     "name": "stdout",
     "output_type": "stream",
     "text": [
      "Enter the 1st num2\n",
      "Enter the 2st num3\n",
      "Enter the 3st num4\n",
      "Enter the 4st num5\n",
      "f1 is Greater\n",
      "5\n"
     ]
    }
   ],
   "source": [
    "a = int(input(\"Enter the 1st num\"))\n",
    "b = int(input(\"Enter the 2st num\"))\n",
    "c = int(input(\"Enter the 3st num\"))\n",
    "d = int(input(\"Enter the 4st num\"))\n",
    "if a>d:\n",
    " f1 = a\n",
    "else:\n",
    " f1 = d\n",
    "if b>c:\n",
    " f2 = b\n",
    "else:\n",
    " f2 = c\n",
    "if f1>f2:\n",
    " print(\"f1 is Greater\")\n",
    "else:\n",
    " print(\"f2 is Greater\")\n",
    "print(f1)"
   ]
  },
  {
   "cell_type": "markdown",
   "id": "04867082",
   "metadata": {},
   "source": [
    "2.Write a program to find out whether a student is pass or fail if it requires a total of 40% and at least 33% in each subject to pass. Assume 3 subjects and take marks as an input from the user"
   ]
  },
  {
   "cell_type": "code",
   "execution_count": 36,
   "id": "19f59c06",
   "metadata": {},
   "outputs": [
    {
     "name": "stdout",
     "output_type": "stream",
     "text": [
      "Enter first subject marks\n",
      "23\n",
      "Enter second subject marks\n",
      "56\n",
      "Enter third subject marks\n",
      "78\n",
      "You are fail because you have less than 33% in one of the subjects\n"
     ]
    }
   ],
   "source": [
    "sub1 = int(input(\"Enter first subject marks\\n\"))\n",
    "sub2 = int(input(\"Enter second subject marks\\n\"))\n",
    "sub3 = int(input(\"Enter third subject marks\\n\"))\n",
    "if(sub1<33 or sub2<33 or sub3<33):\n",
    " print(\"You are fail because you have less than 33% in one of the subjects\")\n",
    "elif(sub1+sub2+sub3)/3 < 40:\n",
    " print(\"You are fail due to total percentage less than 40\")\n",
    "else:\n",
    " print(\"Congatulations! You passed the exam\")"
   ]
  },
  {
   "cell_type": "markdown",
   "id": "e969bf88",
   "metadata": {},
   "source": [
    "3.A spam comment is defined as a text containing the following keywords: “make a lot of money”, “buy now”, “subscribe this”, “click this”. Write a program to detect these spams."
   ]
  },
  {
   "cell_type": "code",
   "execution_count": 37,
   "id": "05a12213",
   "metadata": {},
   "outputs": [
    {
     "name": "stdout",
     "output_type": "stream",
     "text": [
      "Enter the text\n",
      "buy now\n",
      "This text is spam\n"
     ]
    }
   ],
   "source": [
    "# a = None\n",
    "# if (a is None):\n",
    "# print(\"Yes\")\n",
    "# else:\n",
    "# print(\"No\")\n",
    "text = input(\"Enter the text\\n\")\n",
    "if(\"make a lot of money\" in text):\n",
    " spam = True\n",
    "elif(\"buy now\" in text):\n",
    " spam = True\n",
    "elif(\"click this\" in text):\n",
    " spam = True\n",
    "elif(\"subscribe this\" in text):\n",
    " spam = True\n",
    "else:\n",
    " spam = False\n",
    "if(spam):\n",
    " print(\"This text is spam\")\n",
    "else:\n",
    " print(\"This text is not spam\")"
   ]
  },
  {
   "cell_type": "markdown",
   "id": "6bd77294",
   "metadata": {},
   "source": [
    "4.Write a program to find whether a given username contains less than 10 characters or not."
   ]
  },
  {
   "cell_type": "code",
   "execution_count": 38,
   "id": "52d5f817",
   "metadata": {},
   "outputs": [
    {
     "name": "stdout",
     "output_type": "stream",
     "text": [
      "10 no is in a\n"
     ]
    }
   ],
   "source": [
    "a = \"hello kya ho raha hai\"\n",
    "if len(a)<10:\n",
    " print(\"less no in 10\")\n",
    "else:\n",
    " print(\"10 no is in a\")"
   ]
  },
  {
   "cell_type": "markdown",
   "id": "127ffaa1",
   "metadata": {},
   "source": [
    "5.Write a program that finds out whether a given name is present in a list or not."
   ]
  },
  {
   "cell_type": "code",
   "execution_count": 39,
   "id": "443cc102",
   "metadata": {},
   "outputs": [
    {
     "name": "stdout",
     "output_type": "stream",
     "text": [
      "Enter the name to check\n",
      "rohit\n",
      "Your name is present in the list\n"
     ]
    }
   ],
   "source": [
    "names = [\"harry\", \"shubham\", \"rohit\", \"rohan\", \"aditi\", \"shipra\"]\n",
    "name = input(\"Enter the name to check\\n\")\n",
    "if name in names:\n",
    " print(\"Your name is present in the list\")\n",
    "else:\n",
    " print(\"Your name is not present in the list\")"
   ]
  },
  {
   "cell_type": "markdown",
   "id": "b94d1d36",
   "metadata": {},
   "source": [
    "6.Write a program to calculate the grade of a student from his marks from the following scheme:90 – 100 -> Ex\n",
    "80 - 90 -> A\n",
    "\n",
    "70 – 80 -> B\n",
    "\n",
    "60 – 70 -> C\n",
    "\n",
    "50 – 60 -> D\n",
    "\n",
    "<50 – F\n"
   ]
  },
  {
   "cell_type": "code",
   "execution_count": 40,
   "id": "e11b50b0",
   "metadata": {},
   "outputs": [
    {
     "name": "stdout",
     "output_type": "stream",
     "text": [
      "Enter Your Marks\n",
      "75\n",
      "Your grade is B\n"
     ]
    }
   ],
   "source": [
    "marks = int(input(\"Enter Your Marks\\n\"))\n",
    "if marks>=90:\n",
    " grade = \"Ex\"\n",
    "elif marks>=80:\n",
    " grade = \"A\"\n",
    "elif marks>=70:\n",
    " grade = \"B\"\n",
    "elif marks>=60:\n",
    " grade = \"C\"\n",
    "elif marks>=50:\n",
    " grade = \"D\"\n",
    "else:\n",
    " grade = \"F\"\n",
    "print(\"Your grade is \" + grade)"
   ]
  },
  {
   "cell_type": "markdown",
   "id": "02328f24",
   "metadata": {},
   "source": [
    "7.Write a program to find out whether a given post is talking about “Harry” or not."
   ]
  },
  {
   "cell_type": "code",
   "execution_count": null,
   "id": "1994f06b",
   "metadata": {},
   "outputs": [],
   "source": [
    "a = [\" harry how are you \"]\n",
    "if harry in a:\n",
    " print(\"a is taking about harry\")\n",
    "else:\n",
    " print(\"a is not taking about hrry\")"
   ]
  },
  {
   "cell_type": "markdown",
   "id": "60d84319",
   "metadata": {},
   "source": [
    "## Chapter-7 loop\n",
    "1.Write a program to print the multiplication table of a given number using for loop."
   ]
  },
  {
   "cell_type": "code",
   "execution_count": 42,
   "id": "a8bbabc7",
   "metadata": {},
   "outputs": [
    {
     "name": "stdout",
     "output_type": "stream",
     "text": [
      "Enter the number4\n",
      "4X1=4\n",
      "4X2=8\n",
      "4X3=12\n",
      "4X4=16\n",
      "4X5=20\n",
      "4X6=24\n",
      "4X7=28\n",
      "4X8=32\n",
      "4X9=36\n",
      "4X10=40\n"
     ]
    }
   ],
   "source": [
    "num = int(input(\"Enter the number\"))\n",
    "for i in range(1, 11):\n",
    " # print(str(num) + \" X \" + str(i) + \"=\" + str(i*num))\n",
    " print(f\"{num}X{i}={num*i}\")"
   ]
  },
  {
   "cell_type": "markdown",
   "id": "43468cec",
   "metadata": {},
   "source": [
    "2.Write a program to greet all the person names stored in a list l1 and which starts with S. l1 = [“Harry”, “Sohan”, “Sachin”, “Rahul”]"
   ]
  },
  {
   "cell_type": "code",
   "execution_count": 44,
   "id": "b1fc8f56",
   "metadata": {},
   "outputs": [
    {
     "name": "stdout",
     "output_type": "stream",
     "text": [
      "Hello Sohan\n",
      "Hello Sachin\n"
     ]
    }
   ],
   "source": [
    "l1 = [\"Harry\", \"Sohan\", \"Sachin\", \"Rahul\"]\n",
    "for name in l1:\n",
    " if name.startswith(\"S\"):\n",
    "    print(\"Hello \" + name)"
   ]
  },
  {
   "cell_type": "markdown",
   "id": "df6deebb",
   "metadata": {},
   "source": [
    "3.Write a program to find whether a given number is prime or not."
   ]
  },
  {
   "cell_type": "code",
   "execution_count": 48,
   "id": "ff0cbb0f",
   "metadata": {},
   "outputs": [
    {
     "name": "stdout",
     "output_type": "stream",
     "text": [
      "Enter the number: 4\n",
      "This number is not Prime\n"
     ]
    }
   ],
   "source": [
    "num = int(input(\"Enter the number: \"))\n",
    "prime = True\n",
    "for i in range(2, num):\n",
    "    if(num%i == 0):\n",
    "        \n",
    "        prime = False\n",
    "        break\n",
    "if prime:\n",
    "    print(\"This number is Prime\")\n",
    "else:\n",
    "    print(\"This number is not Prime\")"
   ]
  },
  {
   "cell_type": "markdown",
   "id": "9e4fa95c",
   "metadata": {},
   "source": [
    "4.Write a program to calculate the factorial of a given number using for loop."
   ]
  },
  {
   "cell_type": "code",
   "execution_count": 49,
   "id": "712a1618",
   "metadata": {},
   "outputs": [
    {
     "name": "stdout",
     "output_type": "stream",
     "text": [
      "Enter the number: 4\n",
      "The factorial of 4 is 24\n"
     ]
    }
   ],
   "source": [
    "# n! = 1 X 2 X 3 X ..... X n\n",
    "# 5! = 1 X 2 X 3 X 4 X 5\n",
    "num = int(input(\"Enter the number: \"))\n",
    "factorial = 1\n",
    "for i in range(1, num+1):\n",
    " factorial = factorial * i\n",
    "print(f\"The factorial of {num} is {factorial}\")"
   ]
  },
  {
   "cell_type": "markdown",
   "id": "b667e3a9",
   "metadata": {},
   "source": [
    "5.Write a program to print the following star pattern. *\n",
    "* for n=3\n"
   ]
  },
  {
   "cell_type": "code",
   "execution_count": 50,
   "id": "744d9504",
   "metadata": {},
   "outputs": [
    {
     "name": "stdout",
     "output_type": "stream",
     "text": [
      "  *  \n",
      " *** \n",
      "*****\n"
     ]
    }
   ],
   "source": [
    "n = 3\n",
    "for i in range(3):\n",
    " print(\" \" * (n-i-1), end=\"\")\n",
    " print(\"*\" * (2*i+1), end=\"\")\n",
    " print(\" \" * (n-i-1))"
   ]
  },
  {
   "cell_type": "markdown",
   "id": "7dcba74b",
   "metadata": {},
   "source": [
    "6.Write a program to print the following star pattern: *\n",
    "**\n",
    "*** for n = 3\n"
   ]
  },
  {
   "cell_type": "code",
   "execution_count": 51,
   "id": "426c3d5c",
   "metadata": {},
   "outputs": [
    {
     "name": "stdout",
     "output_type": "stream",
     "text": [
      "*\n",
      "**\n",
      "***\n",
      "****\n"
     ]
    }
   ],
   "source": [
    "n = 4\n",
    "for i in range(4):\n",
    "    print(\"*\" * (i+1))"
   ]
  },
  {
   "cell_type": "markdown",
   "id": "ee729cd7",
   "metadata": {},
   "source": [
    "## Chapter-8 (Function and Recursion)"
   ]
  },
  {
   "cell_type": "code",
   "execution_count": 1,
   "id": "8e14a003",
   "metadata": {},
   "outputs": [],
   "source": [
    "# 1.Write a program using the function to find the greatest of three numbers.\n",
    "# 2.Write a python program using the function to convert Celsius to Fahrenheit.\n",
    "# 3.How do you prevent a python print() function to print a new line at the end?\n",
    "# 4.Write a recursive function to calculate the sum of first n natural numbers.\n",
    "# 5.Write a python function to print the first n lines of the following pattern.\n",
    "#    for n=3\n",
    "# 6.Write a python function that converts inches to cms.\n",
    "# 7.Write a python function to remove a given word from a list and strip it at the same time.\n",
    "# 8.Write a python function to print the multiplication table of a given number."
   ]
  },
  {
   "cell_type": "code",
   "execution_count": 3,
   "id": "cd21dd39",
   "metadata": {},
   "outputs": [
    {
     "name": "stdout",
     "output_type": "stream",
     "text": [
      "6\n"
     ]
    }
   ],
   "source": [
    "#1\n",
    "def maximum(num1,num2,num3):\n",
    "    if num1>num2:\n",
    "        f1 = num1\n",
    "    else:\n",
    "        f1 = num2\n",
    "    if num2>num3:\n",
    "        f2 = num2\n",
    "    else:\n",
    "        f2 = num3\n",
    "    if f1>f2:\n",
    "        print(f1)\n",
    "    else:\n",
    "        print(f2)\n",
    "maximum(3,5,6)        "
   ]
  },
  {
   "cell_type": "code",
   "execution_count": 5,
   "id": "83bc2224",
   "metadata": {},
   "outputs": [
    {
     "data": {
      "text/plain": [
       "6"
      ]
     },
     "execution_count": 5,
     "metadata": {},
     "output_type": "execute_result"
    }
   ],
   "source": [
    "def maximum(num1,num2,num3):\n",
    "    if num1>num2:\n",
    "        if num2>num3:\n",
    "            return num1\n",
    "        else:\n",
    "            return num3\n",
    "    else:\n",
    "        if num2>num3:\n",
    "            return num2\n",
    "        else:\n",
    "            return num3\n",
    "maximum(3,6,5)        "
   ]
  },
  {
   "cell_type": "code",
   "execution_count": 8,
   "id": "90004202",
   "metadata": {},
   "outputs": [
    {
     "data": {
      "text/plain": [
       "89.6"
      ]
     },
     "execution_count": 8,
     "metadata": {},
     "output_type": "execute_result"
    }
   ],
   "source": [
    "# 2.Write a python program using the function to convert Celsius to Fahrenheit.\n",
    "def farh(cel):\n",
    "    return (cel*(9/5)) + 32\n",
    "farh(32)"
   ]
  },
  {
   "cell_type": "code",
   "execution_count": 11,
   "id": "fa88a7c8",
   "metadata": {},
   "outputs": [
    {
     "name": "stdout",
     "output_type": "stream",
     "text": [
      "hello hell2 hell3 hello4 "
     ]
    }
   ],
   "source": [
    "# 3.How do you prevent a python print() function to print a new line at the end?\n",
    "\n",
    "print(\"hello\", end=\" \")\n",
    "print(\"hell2\", end=\" \")\n",
    "print(\"hell3\", end=\" \")\n",
    "print(\"hello4\", end=\" \")      "
   ]
  },
  {
   "cell_type": "code",
   "execution_count": 29,
   "id": "e3b8bdcd",
   "metadata": {},
   "outputs": [],
   "source": [
    "# 4.Write a recursive function to calculate the sum of first n natural numbers.\n"
   ]
  },
  {
   "cell_type": "code",
   "execution_count": 33,
   "id": "81b86d2f",
   "metadata": {},
   "outputs": [
    {
     "name": "stdout",
     "output_type": "stream",
     "text": [
      "******\n",
      "*****\n",
      "****\n",
      "***\n",
      "**\n",
      "*\n"
     ]
    }
   ],
   "source": [
    "# 5.Write a python function to print the first n lines of the following pattern.\n",
    "n = 6\n",
    "for i in range(n):\n",
    "    print(\"*\" *(n-i))"
   ]
  },
  {
   "cell_type": "code",
   "execution_count": 34,
   "id": "140ec54d",
   "metadata": {},
   "outputs": [
    {
     "data": {
      "text/plain": [
       "10.32"
      ]
     },
     "execution_count": 34,
     "metadata": {},
     "output_type": "execute_result"
    }
   ],
   "source": [
    "# 6.Write a python function that converts inches to cms.\n",
    "def cm(inch):\n",
    "    return (inch*2.58)\n",
    "cm(4)"
   ]
  },
  {
   "cell_type": "code",
   "execution_count": 37,
   "id": "d32765ca",
   "metadata": {},
   "outputs": [
    {
     "data": {
      "text/plain": [
       "'hello bro u are'"
      ]
     },
     "execution_count": 37,
     "metadata": {},
     "output_type": "execute_result"
    }
   ],
   "source": [
    "# 7.Write a python function to remove a given word from a string and strip it at the same time.\n",
    "def remove_and_split(string,word):\n",
    "    newstr = string.replace(word,\"\")\n",
    "    return newstr.strip()                 # strip fun remove the all spaces\n",
    "this = \"     hello bro u are   \"\n",
    "remove_and_split(this,\"harry\")"
   ]
  },
  {
   "cell_type": "code",
   "execution_count": 14,
   "id": "87a2f334",
   "metadata": {},
   "outputs": [
    {
     "name": "stdout",
     "output_type": "stream",
     "text": [
      "hello\n"
     ]
    }
   ],
   "source": [
    "# 8.Write a python function to print the multiplication table of a given number."
   ]
  },
  {
   "cell_type": "markdown",
   "id": "5b8f422f",
   "metadata": {},
   "source": [
    "# Chapter-9"
   ]
  },
  {
   "cell_type": "markdown",
   "id": "17d2bd79",
   "metadata": {},
   "source": [
    "# Chapter-10"
   ]
  },
  {
   "cell_type": "markdown",
   "id": "7b695dba",
   "metadata": {},
   "source": [
    "1.Create a class programmer for storing information of a few programmers working at Microsoft.\n"
   ]
  },
  {
   "cell_type": "code",
   "execution_count": 21,
   "id": "30093569",
   "metadata": {},
   "outputs": [
    {
     "name": "stdout",
     "output_type": "stream",
     "text": [
      "The name of the Microsoft programmer is Harry and the product is Skype\n",
      "The name of the Microsoft programmer is Alka and the product is GitHub\n"
     ]
    }
   ],
   "source": [
    "class Programmer:\n",
    "    company = \"Microsoft\"\n",
    "\n",
    "    def __init__(self, name, product):\n",
    "        self.name = name\n",
    "        self.product = product\n",
    "\n",
    "    def getInfo(self):\n",
    "        print(f\"The name of the {self.company} programmer is {self.name} and the product is {self.product}\")\n",
    "\n",
    "\n",
    "harry = Programmer(\"Harry\", \"Skype\")\n",
    "alka = Programmer(\"Alka\", \"GitHub\")\n",
    "harry.getInfo()\n",
    "alka.getInfo()\n"
   ]
  },
  {
   "cell_type": "markdown",
   "id": "dc01cb93",
   "metadata": {},
   "source": [
    "2.Write a class calculator capable of finding square, cube and the square root of a number."
   ]
  },
  {
   "cell_type": "code",
   "execution_count": 25,
   "id": "b3b89867",
   "metadata": {},
   "outputs": [
    {
     "name": "stdout",
     "output_type": "stream",
     "text": [
      "The value of 9 square is 81\n",
      "The value of 9 square root is 3.0\n",
      "The value of 9 cube is 729\n"
     ]
    }
   ],
   "source": [
    "class Calculator:\n",
    "    def __init__(self, num):\n",
    "        self.number = num\n",
    "\n",
    "    def square(self):\n",
    "        print(f\"The value of {self.number} square is {self.number **2}\")\n",
    "\n",
    "    def squareRoot(self):\n",
    "        print(f\"The value of {self.number} square root is {self.number **0.5}\")\n",
    "\n",
    "    def cube(self):\n",
    "        print(f\"The value of {self.number} cube is {self.number **3}\")\n",
    "\n",
    "a = Calculator(9)\n",
    "a.square()\n",
    "a.squareRoot() \n",
    "a.cube()"
   ]
  },
  {
   "cell_type": "markdown",
   "id": "b6778810",
   "metadata": {},
   "source": [
    "3.Create a class with a class attribute a; create an object from it and set a directly using object.a=0 Does this change the class attribute?"
   ]
  },
  {
   "cell_type": "code",
   "execution_count": 26,
   "id": "46239a3d",
   "metadata": {},
   "outputs": [
    {
     "name": "stdout",
     "output_type": "stream",
     "text": [
      "Harry\n",
      "Vikky\n"
     ]
    }
   ],
   "source": [
    "class Sample:\n",
    "    a = \"Harry\"\n",
    "\n",
    "obj = Sample()\n",
    "obj.a = \"Vikky\"\n",
    "\n",
    "print(Sample.a)\n",
    "print(obj.a)"
   ]
  },
  {
   "cell_type": "markdown",
   "id": "21e0f86b",
   "metadata": {},
   "source": [
    "4.Add a static method in problem 2 to greet the user with hello."
   ]
  },
  {
   "cell_type": "code",
   "execution_count": 27,
   "id": "bd94cb4f",
   "metadata": {},
   "outputs": [
    {
     "name": "stdout",
     "output_type": "stream",
     "text": [
      "hello this is best calculator\n",
      "The value of 9 square is 81\n",
      "The value of 9 square root is 3.0\n",
      "The value of 9 cube is 729\n"
     ]
    }
   ],
   "source": [
    "class Calculator:\n",
    "    def __init__(self, num):\n",
    "        self.number = num\n",
    "\n",
    "    def square(self):\n",
    "        print(f\"The value of {self.number} square is {self.number **2}\")\n",
    "\n",
    "    def squareRoot(self):\n",
    "        print(f\"The value of {self.number} square root is {self.number **0.5}\")\n",
    "\n",
    "    def cube(self):\n",
    "        print(f\"The value of {self.number} cube is {self.number **3}\")\n",
    "    @staticmethod\n",
    "    def greet():\n",
    "        print(\"hello this is best calculator\")\n",
    "\n",
    "a = Calculator(9)\n",
    "a.greet()\n",
    "a.square()\n",
    "a.squareRoot() \n",
    "a.cube()"
   ]
  },
  {
   "cell_type": "markdown",
   "id": "2cd8251e",
   "metadata": {},
   "source": [
    "5.Write a class Train which has methods to book a ticket, get status(no of seats), and get fare information of trains running under Indian Railways."
   ]
  },
  {
   "cell_type": "code",
   "execution_count": 34,
   "id": "66214213",
   "metadata": {},
   "outputs": [
    {
     "name": "stdout",
     "output_type": "stream",
     "text": [
      "The name of train is Intercity Express: 14015\n",
      "the price of ticket is :300\n",
      "The price of ticket is : 90\n"
     ]
    }
   ],
   "source": [
    "class Train:\n",
    "    def __init__(self, name, fare, seats):\n",
    "        self.name = name\n",
    "        self.fare = fare\n",
    "        self.seats = seats\n",
    "    def getstatus(self):\n",
    "        print(f\"The name of train is {self.name}\")\n",
    "        print(f\"The price of ticket is :{self.seats}\")\n",
    "    def fareInfo(self):\n",
    "        print(f\"The price of ticket is : {self.fare}\")\n",
    "        \n",
    "intercity = Train(\"Intercity Express: 14015\", 90, 300)        \n",
    "intercity.getstatus()\n",
    "intercity.fareInfo()"
   ]
  },
  {
   "cell_type": "markdown",
   "id": "7f3f0d56",
   "metadata": {},
   "source": [
    "6.Can you change the self parameter inside a class to something else (say ‘harry’)? Try changing self to ‘slf’ or ‘harry’ and see the effects."
   ]
  },
  {
   "cell_type": "code",
   "execution_count": 35,
   "id": "9b79326f",
   "metadata": {},
   "outputs": [
    {
     "name": "stdout",
     "output_type": "stream",
     "text": [
      "Harry\n"
     ]
    }
   ],
   "source": [
    "class Sample: \n",
    "    def __init__(slf, name):\n",
    "        slf.name = name\n",
    "\n",
    "obj = Sample(\"Harry\") \n",
    "print(obj.name) "
   ]
  },
  {
   "cell_type": "markdown",
   "id": "a05fdfe2",
   "metadata": {},
   "source": [
    "# Chapter -11 (Inheritance)"
   ]
  },
  {
   "cell_type": "markdown",
   "id": "851e979e",
   "metadata": {},
   "source": [
    "1.Create a class C-2d vector and use it to create another class representing a 3-d vector."
   ]
  },
  {
   "cell_type": "code",
   "execution_count": 7,
   "id": "f2b7c67f",
   "metadata": {},
   "outputs": [
    {
     "name": "stdout",
     "output_type": "stream",
     "text": [
      "1i + 3j\n",
      "1i + 9j + 7k\n"
     ]
    }
   ],
   "source": [
    "class C2dVec:\n",
    "    def __init__(self, i, j):\n",
    "        self.icap = i\n",
    "        self.jcap = j\n",
    "        \n",
    "    def __str__(self):\n",
    "        return f\"{self.icap}i + {self.jcap}j\"\n",
    "    \n",
    "class C3dVec(C2dVec):\n",
    "    \n",
    "    def __init__(self, i, j, k):\n",
    "            super().__init__(i,j)\n",
    "            self.kcap = k\n",
    "            \n",
    "    def __str__(self):\n",
    "        return f\"{self.icap}i + {self.jcap}j + {self.kcap}k\"\n",
    "    \n",
    "v2d = C2dVec(1,3)\n",
    "v3d = C3dVec(1,9,7)\n",
    "print(v2d)\n",
    "print(v3d)  "
   ]
  },
  {
   "cell_type": "markdown",
   "id": "4b0d496e",
   "metadata": {},
   "source": [
    "2.Create a class pets from a class Animals and further create class Dog from Pets. Add a method bark to class Dog."
   ]
  },
  {
   "cell_type": "code",
   "execution_count": 10,
   "id": "76416b0b",
   "metadata": {},
   "outputs": [
    {
     "name": "stdout",
     "output_type": "stream",
     "text": [
      "bow bow\n"
     ]
    }
   ],
   "source": [
    "class Animals:\n",
    "    animaltype = \"cammel\"\n",
    "        \n",
    "class pets:\n",
    "    color = \"White\"\n",
    "    \n",
    "class Dogs:\n",
    "    @staticmethod              # print the below value only\n",
    "    def bark():\n",
    "        print(\"bow bow\")\n",
    "        \n",
    "d = Dogs()\n",
    "d.bark()    "
   ]
  },
  {
   "cell_type": "markdown",
   "id": "7fdfa3b1",
   "metadata": {},
   "source": [
    "3.Create a class Employee and add salary and increment properties to it.                                                      \n",
    "Write a method SalaryAfterIncrement method with a @property decorator with a setter which changes the value of increment based on the salary."
   ]
  },
  {
   "cell_type": "code",
   "execution_count": 11,
   "id": "f7cd3d04",
   "metadata": {},
   "outputs": [
    {
     "name": "stdout",
     "output_type": "stream",
     "text": [
      "1500.0\n",
      "1.5\n",
      "2.0\n"
     ]
    }
   ],
   "source": [
    "# salaryAfterIncrement =  salary * increment\n",
    "\n",
    "class Employee:\n",
    "    salary = 1000\n",
    "    increment = 1.5\n",
    "    @property\n",
    "    def salaryAfterIncrement(self):\n",
    "        return self.salary*self.increment\n",
    "    \n",
    "    @salaryAfterIncrement.setter\n",
    "    def salaryAfterIncrement(self, sai):\n",
    "        self.increment = sai/self.salary\n",
    "\n",
    "e = Employee()\n",
    "print(e.salaryAfterIncrement)\n",
    "\n",
    "print(e.increment)\n",
    "e.salaryAfterIncrement = 2000\n",
    "print(e.increment)"
   ]
  },
  {
   "cell_type": "markdown",
   "id": "86024d8c",
   "metadata": {},
   "source": [
    "4.Write a class complex to represent complex numbers, along with overloaded operators + and * which adds and multiplies them."
   ]
  },
  {
   "cell_type": "code",
   "execution_count": 15,
   "id": "57c835b5",
   "metadata": {},
   "outputs": [
    {
     "name": "stdout",
     "output_type": "stream",
     "text": [
      "9 + 9j\n"
     ]
    }
   ],
   "source": [
    "class Complex:\n",
    "    def __init__(self, r, i):\n",
    "        self.real = r\n",
    "        self.imaginary = i\n",
    "        \n",
    "    def __add__(self, c):  # operator overloading function\n",
    "        return Complex(self.real + c.real, self.imaginary + c.imaginary)\n",
    "    \n",
    "    def __str__(self):\n",
    "        return f\"{self.real} + {self.imaginary}j\"\n",
    "        \n",
    "c1 = Complex(1,4)\n",
    "c2 = Complex(8,5)\n",
    "print(c1+c2)"
   ]
  },
  {
   "cell_type": "markdown",
   "id": "bb11efe8",
   "metadata": {},
   "source": [
    "5.Write a class vector representing a vector of n dimension. Overload the + and * operator which calculates the sum and the dot product of them."
   ]
  },
  {
   "cell_type": "code",
   "execution_count": 16,
   "id": "75a1afbb",
   "metadata": {},
   "outputs": [
    {
     "name": "stdout",
     "output_type": "stream",
     "text": [
      " 2a0 + 10a1 + 15a2 \n",
      "79\n"
     ]
    }
   ],
   "source": [
    "class Vector:\n",
    "    def __init__(self, vec):\n",
    "        self.vec = vec\n",
    "    \n",
    "    def __str__(self):\n",
    "        str1 = \"\" \n",
    "        index = 0\n",
    "        for i in self.vec:\n",
    "            str1 += f\" {i}a{index} +\"\n",
    "            index +=1\n",
    "        return str1[:-1]\n",
    "\n",
    "    def __add__(self, vec2):\n",
    "        newList = []\n",
    "        for i in range(len(self.vec)):\n",
    "            newList.append(self.vec[i] + vec2.vec[i])\n",
    "        return Vector(newList)\n",
    "    \n",
    "    def __mul__(self, vec2):\n",
    "        sum = 0\n",
    "        for i in range(len(self.vec)):\n",
    "            sum += self.vec[i] * vec2.vec[i]\n",
    "        return sum\n",
    "\n",
    "v1 = Vector([1, 4, 6])\n",
    "v2 = Vector([1, 6, 9])\n",
    "print(v1+v2)\n",
    "print(v1*v2)"
   ]
  },
  {
   "cell_type": "code",
   "execution_count": 20,
   "id": "76d246ff",
   "metadata": {},
   "outputs": [
    {
     "name": "stdout",
     "output_type": "stream",
     "text": [
      "1i + 4j + 6k\n"
     ]
    }
   ],
   "source": [
    "# # 6.Write __str__() method to print the vector as follows:\n",
    "# 7i + 8j + 10k\n",
    "\n",
    "class Vector:\n",
    "    def __init__(self, vec):\n",
    "        self.vec = vec\n",
    "    \n",
    "    def __str__(self):\n",
    "        return f\"{self.vec[0]}i + {self.vec[1]}j + {self.vec[2]}k\"\n",
    "    \n",
    "v1 = Vector([1, 4, 6])\n",
    "print(v1)"
   ]
  },
  {
   "cell_type": "code",
   "execution_count": 21,
   "id": "7e64f211",
   "metadata": {},
   "outputs": [
    {
     "name": "stdout",
     "output_type": "stream",
     "text": [
      "1i + 4j + 6k\n",
      "3\n"
     ]
    }
   ],
   "source": [
    "# 7.Override the __len__() method on vector of problem 5 to display the dimension of the vector.\n",
    "\n",
    "class Vector:\n",
    "    def __init__(self, vec):\n",
    "        self.vec = vec\n",
    "    \n",
    "    def __str__(self):\n",
    "        return f\"{self.vec[0]}i + {self.vec[1]}j + {self.vec[2]}k\"\n",
    "    \n",
    "    def __len__(self):\n",
    "        return len(self.vec)\n",
    "    \n",
    "v1 = Vector([1, 4, 6])\n",
    "print(v1)\n",
    "print(len(v1))"
   ]
  },
  {
   "cell_type": "markdown",
   "id": "430ad253",
   "metadata": {},
   "source": [
    "# Chapter-12"
   ]
  },
  {
   "cell_type": "markdown",
   "id": "b1cf2b6d",
   "metadata": {},
   "source": [
    "1.Write a program to open three files 1.txt, 2.txt, and 3.txt. if any of these files are not present, a message without exiting the program must be printed prompting the same."
   ]
  },
  {
   "cell_type": "code",
   "execution_count": 22,
   "id": "b8ece655",
   "metadata": {},
   "outputs": [
    {
     "name": "stdout",
     "output_type": "stream",
     "text": [
      "File 1.txt is not found\n",
      "File 2.txt is not found\n",
      "File 3.txt is not found\n"
     ]
    }
   ],
   "source": [
    "def readFile(filename):\n",
    "    try:\n",
    "        with open(filename, \"r\") as f:\n",
    "            print(f.read())\n",
    "    except FileNotFoundError:\n",
    "        print(f\"File {filename} is not found\")\n",
    "        \n",
    "readFile(\"1.txt\")\n",
    "readFile(\"2.txt\")\n",
    "readFile(\"3.txt\")"
   ]
  },
  {
   "cell_type": "code",
   "execution_count": 25,
   "id": "eb2b9ae6",
   "metadata": {},
   "outputs": [
    {
     "name": "stdout",
     "output_type": "stream",
     "text": [
      "The 3th element is 3\n",
      "The 5th element is 5\n",
      "The 7th element is 7\n"
     ]
    }
   ],
   "source": [
    "#2.Write a program to print the third, fifth, and seventh elements from a list using the enumerate function.\n",
    "\n",
    "l = [1, 2, 3, 4, 5, 6, 7, 8, 9, 10]\n",
    "for index, item in enumerate(l):\n",
    "    if index==2 or index== 4 or index==6:\n",
    "        # print(index, item)\n",
    "        print(f\"The {index + 1}th element is {item}\")\n"
   ]
  },
  {
   "cell_type": "markdown",
   "id": "4d8db708",
   "metadata": {},
   "source": [
    "3.Write a list comprehension to print a list that contains the multiplication table of a user-entered number."
   ]
  },
  {
   "cell_type": "code",
   "execution_count": 26,
   "id": "4464b4ab",
   "metadata": {},
   "outputs": [
    {
     "name": "stdout",
     "output_type": "stream",
     "text": [
      "Enter your number:4\n",
      "[4, 8, 12, 16, 20, 24, 28, 32, 36, 40]\n"
     ]
    }
   ],
   "source": [
    "num = int(input(\"Enter your number:\"))\n",
    "table = [num*i for i in range(1,11)]\n",
    "print(table)"
   ]
  },
  {
   "cell_type": "markdown",
   "id": "8b04258a",
   "metadata": {},
   "source": [
    "4.Write a program to display a/b where a and b are integers. If b=0, display infinite by handling the ZeroDivisionError."
   ]
  },
  {
   "cell_type": "code",
   "execution_count": 28,
   "id": "158decea",
   "metadata": {},
   "outputs": [
    {
     "name": "stdout",
     "output_type": "stream",
     "text": [
      "Enter number a: 0\n",
      "Enter number b: 0\n",
      "Infinite\n"
     ]
    }
   ],
   "source": [
    "a = int(input(\"Enter number a: \"))\n",
    "b = int(input(\"Enter number b: \"))\n",
    "\n",
    "try:\n",
    "    print(a/b)\n",
    "except:\n",
    "    print(\"Infinite\")"
   ]
  },
  {
   "cell_type": "markdown",
   "id": "c6fafece",
   "metadata": {},
   "source": [
    "5.Store the multiplication tables generated in problem 3 in a file named Tables.txt."
   ]
  },
  {
   "cell_type": "code",
   "execution_count": 29,
   "id": "ff0ab6a7",
   "metadata": {},
   "outputs": [
    {
     "name": "stdout",
     "output_type": "stream",
     "text": [
      "Enter your number: 4\n",
      "[4, 8, 12, 16, 20, 24, 28, 32, 36, 40]\n"
     ]
    }
   ],
   "source": [
    "num = int(input(\"Enter your number: \"))\n",
    "\n",
    "table = [num*i for i in range(1, 11)]\n",
    "print(table)\n",
    "with open(\"tables.txt\", \"a\") as f:\n",
    "    f.write(str(table))\n",
    "    f.write('\\n')"
   ]
  },
  {
   "cell_type": "markdown",
   "id": "7aa95478",
   "metadata": {},
   "source": [
    "# Chapter-13"
   ]
  },
  {
   "cell_type": "markdown",
   "id": "3b329258",
   "metadata": {},
   "source": [
    "2.Write a program to input name, marks and phone number of a student and format it using the format function like below:"
   ]
  },
  {
   "cell_type": "code",
   "execution_count": 32,
   "id": "8f4dc804",
   "metadata": {},
   "outputs": [
    {
     "name": "stdout",
     "output_type": "stream",
     "text": [
      "Enter your name: rishu\n",
      "Enter your marks: 77\n",
      "Enter you phone Number: 21054\n",
      "The name of the student is rishu, his marks are 77 and phone number is 21054 \n"
     ]
    }
   ],
   "source": [
    "name = input(\"Enter your name: \")\n",
    "marks = input(\"Enter your marks: \")\n",
    "phone = input(\"Enter you phone Number: \")\n",
    "\n",
    "template = \"The name of the student is {}, his marks are {} and phone number is {} \"\n",
    "output = template.format(name, marks, phone)\n",
    "print(output)"
   ]
  },
  {
   "cell_type": "markdown",
   "id": "061508f5",
   "metadata": {},
   "source": [
    "3.A list contains the multiplication table of 7. Write a program to convert it to a vertical string of the same numbers (7,14,….)"
   ]
  },
  {
   "cell_type": "code",
   "execution_count": 33,
   "id": "59ec81c3",
   "metadata": {},
   "outputs": [
    {
     "name": "stdout",
     "output_type": "stream",
     "text": [
      "['7', '14', '21', '28', '35', '42', '49', '56', '63', '70']\n",
      "7\n",
      "14\n",
      "21\n",
      "28\n",
      "35\n",
      "42\n",
      "49\n",
      "56\n",
      "63\n",
      "70\n"
     ]
    }
   ],
   "source": [
    "l = [str(i*7) for i in range(1, 11)]\n",
    "print(l)\n",
    "\n",
    "verticalTable = \"\\n\".join(l)\n",
    "print(verticalTable)"
   ]
  },
  {
   "cell_type": "markdown",
   "id": "870c2b7e",
   "metadata": {},
   "source": [
    "4.Write a program to filter a list of numbers that are divisible by 5."
   ]
  },
  {
   "cell_type": "code",
   "execution_count": 35,
   "id": "a3bc3658",
   "metadata": {},
   "outputs": [
    {
     "name": "stdout",
     "output_type": "stream",
     "text": [
      "[25, 55, 45, 60]\n",
      "[5, 55, 90, 60]\n"
     ]
    }
   ],
   "source": [
    "def multiple(n):\n",
    "    return n%5==0\n",
    "nums = [34,25,55,43,45,60]\n",
    "vals = list(filter(multiple,nums))\n",
    "print(vals)\n",
    "\n",
    "l = [1, 2, 3, 4, 5, 6, 7, 8, 9, 1, 2, 3, 4, 54, 23, 55, 90, 60]\n",
    "\n",
    "a = filter(lambda a: a%5==0, l)\n",
    "print(list(a))\n",
    "    \n",
    "    "
   ]
  },
  {
   "cell_type": "markdown",
   "id": "0dbbd05c",
   "metadata": {},
   "source": [
    "5.Write a program to find the maximum of the numbers in a list using the reduce function."
   ]
  },
  {
   "cell_type": "code",
   "execution_count": 36,
   "id": "c3a51f0e",
   "metadata": {},
   "outputs": [
    {
     "name": "stdout",
     "output_type": "stream",
     "text": [
      "455\n"
     ]
    }
   ],
   "source": [
    "from functools import reduce\n",
    "l = [3, 8, 455, 2, 5, 45]\n",
    "\n",
    "a = reduce(max, l)\n",
    "print(a)"
   ]
  },
  {
   "cell_type": "code",
   "execution_count": null,
   "id": "73867685",
   "metadata": {},
   "outputs": [],
   "source": []
  }
 ],
 "metadata": {
  "kernelspec": {
   "display_name": "Python 3",
   "language": "python",
   "name": "python3"
  },
  "language_info": {
   "codemirror_mode": {
    "name": "ipython",
    "version": 3
   },
   "file_extension": ".py",
   "mimetype": "text/x-python",
   "name": "python",
   "nbconvert_exporter": "python",
   "pygments_lexer": "ipython3",
   "version": "3.8.8"
  }
 },
 "nbformat": 4,
 "nbformat_minor": 5
}
