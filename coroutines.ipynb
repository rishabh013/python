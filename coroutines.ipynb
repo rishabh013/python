{
 "cells": [
  {
   "cell_type": "code",
   "execution_count": 2,
   "id": "92d66423",
   "metadata": {},
   "outputs": [
    {
     "name": "stdout",
     "output_type": "stream",
     "text": [
      "your text is not in the book\n",
      "press ant key0\n",
      "your text is not in the book\n"
     ]
    }
   ],
   "source": [
    "def searcher():     # it will search in boobk that text is present or not\n",
    "    import time\n",
    "    book = \"This is a book on rishab and code with rishab and good\"\n",
    "    time.sleep(4)     ## some 4 second time consuming task\n",
    "    \n",
    "    while True:\n",
    "        text = (yield)\n",
    "        if text in book:\n",
    "            print(\"your text in the book\")\n",
    "        else:\n",
    "            print(\"your text is not in the book\")\n",
    "            \n",
    "search = searcher()\n",
    "next(search)\n",
    "\n",
    "search.send(\"rishabh\")\n",
    "input(\"press ant key\")\n",
    "search.send(\"rishabh\")  "
   ]
  },
  {
   "cell_type": "code",
   "execution_count": null,
   "id": "24243580",
   "metadata": {},
   "outputs": [],
   "source": []
  }
 ],
 "metadata": {
  "kernelspec": {
   "display_name": "Python 3",
   "language": "python",
   "name": "python3"
  },
  "language_info": {
   "codemirror_mode": {
    "name": "ipython",
    "version": 3
   },
   "file_extension": ".py",
   "mimetype": "text/x-python",
   "name": "python",
   "nbconvert_exporter": "python",
   "pygments_lexer": "ipython3",
   "version": "3.8.8"
  }
 },
 "nbformat": 4,
 "nbformat_minor": 5
}
