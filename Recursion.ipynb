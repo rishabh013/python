{
 "cells": [
  {
   "cell_type": "code",
   "execution_count": 4,
   "id": "e6b3b13d",
   "metadata": {},
   "outputs": [
    {
     "data": {
      "text/plain": [
       "3000"
      ]
     },
     "execution_count": 4,
     "metadata": {},
     "output_type": "execute_result"
    }
   ],
   "source": [
    "import sys\n",
    "sys.getrecursionlimit()  # use for knowing the limit of recurson"
   ]
  },
  {
   "cell_type": "code",
   "execution_count": 23,
   "id": "c12d86ea",
   "metadata": {},
   "outputs": [
    {
     "name": "stdout",
     "output_type": "stream",
     "text": [
      "17\n"
     ]
    }
   ],
   "source": [
    "#1.Write a Python program to calculate the sum of a list of numbers.\n",
    "\n",
    "def list_sum(list):\n",
    "    if len(list)==1:\n",
    "        return list[0]\n",
    "    else:\n",
    "        return list[0] + list_sum(list[1:])\n",
    "p = [2, 3, 5, 7]\n",
    "print(list_sum(p))\n",
    "    "
   ]
  },
  {
   "cell_type": "code",
   "execution_count": 38,
   "id": "cc93f240",
   "metadata": {},
   "outputs": [
    {
     "name": "stdout",
     "output_type": "stream",
     "text": [
      "13\n"
     ]
    }
   ],
   "source": [
    "#2.Write a Python program of recursion list sum.\n",
    "def sum_list(list):\n",
    "    total = 0\n",
    "    for element in list:\n",
    "        if type(element) == type([]):\n",
    "             total = total + sum_list(element)\n",
    "                \n",
    "        else:\n",
    "            total = total + element\n",
    "    return total  \n",
    "print(sum_list([1, 2, [1,2], [3,4]]))   \n",
    "    "
   ]
  },
  {
   "cell_type": "code",
   "execution_count": 53,
   "id": "a80f6d28",
   "metadata": {},
   "outputs": [
    {
     "data": {
      "text/plain": [
       "120"
      ]
     },
     "execution_count": 53,
     "metadata": {},
     "output_type": "execute_result"
    }
   ],
   "source": [
    "def fact(n):\n",
    "    if n==0 or n<=1:\n",
    "        return 1\n",
    "    else:\n",
    "        return n*fact(n-1)\n",
    "fact(5)\n",
    "#fact(0)"
   ]
  },
  {
   "cell_type": "code",
   "execution_count": 54,
   "id": "1e18f520",
   "metadata": {},
   "outputs": [
    {
     "name": "stdout",
     "output_type": "stream",
     "text": [
      "12\n"
     ]
    }
   ],
   "source": [
    "#4.Write a Python program to calculate the sum of the positive integers of n+(n-2)+(n-4)... (until n-x =< 0).\n",
    "def sum_series(n):\n",
    "      if n < 1:\n",
    "        return 0\n",
    "      else:\n",
    "        return n + sum_series(n - 2)\n",
    "\n",
    "print(sum_series(6))\n",
    "    "
   ]
  },
  {
   "cell_type": "code",
   "execution_count": null,
   "id": "9eefe726",
   "metadata": {},
   "outputs": [],
   "source": []
  }
 ],
 "metadata": {
  "kernelspec": {
   "display_name": "Python 3",
   "language": "python",
   "name": "python3"
  },
  "language_info": {
   "codemirror_mode": {
    "name": "ipython",
    "version": 3
   },
   "file_extension": ".py",
   "mimetype": "text/x-python",
   "name": "python",
   "nbconvert_exporter": "python",
   "pygments_lexer": "ipython3",
   "version": "3.8.8"
  }
 },
 "nbformat": 4,
 "nbformat_minor": 5
}
