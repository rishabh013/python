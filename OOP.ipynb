{
 "cells": [
  {
   "cell_type": "markdown",
   "id": "f1235e4c",
   "metadata": {},
   "source": [
    "## OOPs Concept"
   ]
  },
  {
   "cell_type": "code",
   "execution_count": 25,
   "id": "f74fc655",
   "metadata": {},
   "outputs": [
    {
     "name": "stdout",
     "output_type": "stream",
     "text": [
      "{'student_id': 'V12', 'student_name': 'Frank Gibson', 'class_name': 'V'}\n"
     ]
    }
   ],
   "source": [
    "#1.Write a Python program to create an instance of a specified class and display the namespace of the said instance.\n",
    "\n",
    "class Student: \n",
    "    def __init__(self, student_id, student_name, class_name):\n",
    "        self.student_id = student_id\n",
    "        self.student_name = student_name\n",
    "        self.class_name = class_name \n",
    "student = Student('V12', 'Frank Gibson', 'V')\n",
    "print(student.__dict__)"
   ]
  },
  {
   "cell_type": "code",
   "execution_count": 26,
   "id": "dc4a844f",
   "metadata": {},
   "outputs": [
    {
     "name": "stdout",
     "output_type": "stream",
     "text": [
      "200.96\n",
      "50.24\n"
     ]
    }
   ],
   "source": [
    "#2.Write a Python class named Circle constructed by a radius and two methods which will \n",
    "# compute the area and the perimeter of a circle.\n",
    "\n",
    "class circle:\n",
    "    def __init__(self,radius):\n",
    "        self.radius = radius\n",
    "         \n",
    "    def area(self):\n",
    "        return self.radius**2*3.14\n",
    "    def perimeter(self):\n",
    "        return 2*3.14*self.radius\n",
    "    \n",
    "c1 = circle(8)\n",
    "print(c1.area())\n",
    "print(c1.perimeter())"
   ]
  },
  {
   "cell_type": "code",
   "execution_count": 27,
   "id": "df8d3dfd",
   "metadata": {},
   "outputs": [
    {
     "name": "stdout",
     "output_type": "stream",
     "text": [
      "120\n"
     ]
    }
   ],
   "source": [
    "#3.Write a Python class named Rectangle constructed by a length and width and a method which\n",
    "# will compute the area of a rectangle\n",
    "\n",
    "class Rectangle:\n",
    "    def __init__(self,length,width):\n",
    "        self.length = length\n",
    "        self.width = width\n",
    "    def area(self):\n",
    "        return self.length*self.width\n",
    "calc = Rectangle(12, 10)\n",
    "print(calc.area())"
   ]
  },
  {
   "cell_type": "code",
   "execution_count": 30,
   "id": "18d9e308",
   "metadata": {},
   "outputs": [
    {
     "name": "stdout",
     "output_type": "stream",
     "text": [
      "lucyperson\n",
      "LUCYPERSON\n"
     ]
    }
   ],
   "source": [
    "#4.Write a Python class which has two methods get_String and print_String. get_String accept a\n",
    "#string from the user and print_String print the string in upper case.\n",
    "\n",
    "class takestring:\n",
    "    def __init__(self):\n",
    "        self.str = \"\"\n",
    "        \n",
    "    def get_string(self):\n",
    "        self.str = input()\n",
    "        \n",
    "    def print_string(self):\n",
    "        print(self.str.upper())\n",
    "        \n",
    "harry = takestring()\n",
    "harry.get_string()\n",
    "harry.print_string()"
   ]
  },
  {
   "cell_type": "code",
   "execution_count": 5,
   "id": "2771ba24",
   "metadata": {},
   "outputs": [
    {
     "name": "stdout",
     "output_type": "stream",
     "text": [
      ".py harry\n"
     ]
    }
   ],
   "source": [
    "\n",
    "class py_solution:\n",
    "    def reversed_value(self,s):\n",
    "        return \" \".join(reversed(s.split()))\n",
    "    \n",
    "c1 = py_solution()\n",
    "print(c1.reversed_value(\"harry .py\"))\n"
   ]
  },
  {
   "cell_type": "code",
   "execution_count": 23,
   "id": "c8814f23",
   "metadata": {},
   "outputs": [
    {
     "name": "stdout",
     "output_type": "stream",
     "text": [
      "16\n",
      "0.3333333333333333\n",
      "1\n"
     ]
    }
   ],
   "source": [
    "#5.Write a Python class to implement pow(x, n).\n",
    "\n",
    "class py_solution:\n",
    "    def pow(self, x, n):\n",
    "        if x==0 or x==1 or n==1:\n",
    "            return x\n",
    "      \n",
    "        if x==-1:\n",
    "            if n%2==0:\n",
    "                return 1\n",
    "            else:\n",
    "                return -1\n",
    "            \n",
    "        if n==0:\n",
    "            return 1\n",
    "        \n",
    "        if n<0:\n",
    "            return 1/self.pow(x,-n)\n",
    "        \n",
    "        val = self.pow(x,n//2)\n",
    "        \n",
    "        if n%2==0:\n",
    "            return val*val          \n",
    "        else:\n",
    "            return val*val\n",
    "print(py_solution().pow(2, 5));    \n",
    "print(py_solution().pow(3, -1));\n",
    "print(py_solution().pow(100, 0));    \n",
    "            "
   ]
  },
  {
   "cell_type": "code",
   "execution_count": 18,
   "id": "e8a37210",
   "metadata": {},
   "outputs": [
    {
     "name": "stdout",
     "output_type": "stream",
     "text": [
      "8\n",
      "8\n"
     ]
    }
   ],
   "source": [
    "class Employee:\n",
    "    no_of_leaves = 8\n",
    "harry = Employee()\n",
    "rohan = Employee()\n",
    "\n",
    "harry.name = \"harry\"\n",
    "rohan.name = \"rohan\"\n",
    "print(rohan.no_of_leaves)\n",
    "print(Employee.no_of_leaves)"
   ]
  },
  {
   "cell_type": "code",
   "execution_count": 25,
   "id": "64e57de1",
   "metadata": {},
   "outputs": [
    {
     "name": "stdout",
     "output_type": "stream",
     "text": [
      "Nmae is: rohan , salry is: 300\n",
      "None\n"
     ]
    }
   ],
   "source": [
    "class Employee:\n",
    "    no_of_leave = 8\n",
    "    def printdetails(self):\n",
    "        print(f\"Nmae is: {self.name} , salry is: {self.salary}\")\n",
    "        \n",
    "harry = Employee()\n",
    "rohan = Employee()\n",
    "\n",
    "harry.name = \"harry\"\n",
    "harry.salary = 250\n",
    "\n",
    "rohan.name = \"rohan\"\n",
    "rohan.salary = 300\n",
    "\n",
    "print(rohan.printdetails())"
   ]
  },
  {
   "cell_type": "code",
   "execution_count": 23,
   "id": "ec0df606",
   "metadata": {},
   "outputs": [
    {
     "name": "stdout",
     "output_type": "stream",
     "text": [
      "studenr id: vivo018\n",
      "student name : Rishabh\n"
     ]
    }
   ],
   "source": [
    "#6.Write a Python class named Student with two attributes student_id, student_name.\n",
    "#  Add a new attribute student_class. Create a function to display the entire\n",
    "#  attribute and their values in Student class.\n",
    "class student:\n",
    "    student_id = \"vivo018\"\n",
    "    student_name = \"Rishabh\"\n",
    "    def display():\n",
    "        print(f\"studenr id: {student.student_id}\\nstudent name : {student.student_name}\")\n",
    "student.display()"
   ]
  },
  {
   "cell_type": "code",
   "execution_count": 12,
   "id": "2ec760f5",
   "metadata": {},
   "outputs": [
    {
     "name": "stdout",
     "output_type": "stream",
     "text": [
      "6100\n"
     ]
    }
   ],
   "source": [
    "# @proprty decorator\n",
    "class Employee:\n",
    "    company = \"Bharat Gas\"\n",
    "    salary = 5600\n",
    "    salarybonus = 500\n",
    "    #totalSalary = 6100\n",
    "\n",
    "    @property                   # this decorator gives value as a property\n",
    "    def totalSalary(self):\n",
    "        return self.salary + self.salarybonus\n",
    "\n",
    "e = Employee()\n",
    "print(e.totalSalary)"
   ]
  },
  {
   "cell_type": "markdown",
   "id": "6c55d32c",
   "metadata": {},
   "source": [
    "# Inheritance"
   ]
  },
  {
   "cell_type": "code",
   "execution_count": 40,
   "id": "94072fbc",
   "metadata": {},
   "outputs": [
    {
     "name": "stdout",
     "output_type": "stream",
     "text": [
      "feature 1 working\n",
      "None\n",
      "feature 2 working\n",
      "None\n",
      "feature 2 working\n",
      "None\n"
     ]
    }
   ],
   "source": [
    "class A:\n",
    "    def feature1(self):\n",
    "        print(\"feature 1 working\")\n",
    "    def feature2(self):\n",
    "        print(\"feature 2 working\")\n",
    "        \n",
    "class B(A):\n",
    "    def feature3(self):\n",
    "        print(\"feature 3 working\")\n",
    "    def feature4(self):\n",
    "        print(\"feature 4 working\")\n",
    "        \n",
    "a1 = A()\n",
    "print(a1.feature1())\n",
    "print(a1.feature2())\n",
    "\n",
    "b1 = B()\n",
    "print(b1.feature2())"
   ]
  },
  {
   "cell_type": "code",
   "execution_count": 43,
   "id": "0b33a0c1",
   "metadata": {},
   "outputs": [
    {
     "name": "stdout",
     "output_type": "stream",
     "text": [
      "feature 1 working\n",
      "None\n",
      "feature 4 working\n",
      "None\n"
     ]
    }
   ],
   "source": [
    "class A:\n",
    "    def feature1(self):\n",
    "        print(\"feature 1 working\")\n",
    "    def feature2(self):\n",
    "        print(\"feature 2 working\")\n",
    "        \n",
    "class B:\n",
    "    def feature3(self):\n",
    "        print(\"feature 3 working\")\n",
    "    def feature4(self):\n",
    "        print(\"feature 4 working\")\n",
    "\n",
    "class C(A,B):\n",
    "    def feature5(self):\n",
    "        print(\"feature 3 working\")\n",
    "    def feature6(self):\n",
    "        print(\"feature 4 working\")\n",
    "        \n",
    "c1 = C()\n",
    "print(c1.feature1())\n",
    "print(c1.feature4())"
   ]
  },
  {
   "cell_type": "code",
   "execution_count": 2,
   "id": "9767423c",
   "metadata": {},
   "outputs": [
    {
     "name": "stdout",
     "output_type": "stream",
     "text": [
      "180\n",
      "15\n"
     ]
    }
   ],
   "source": [
    "class vehicle:\n",
    "    def __init__(self,max_speed,mileage_instance):\n",
    "        self.max_speed = max_speed\n",
    "        self.mileage_instance = mileage_instance\n",
    "        \n",
    "model = vehicle(180,15)\n",
    "print(model.max_speed)\n",
    "print(model.mileage_instance)\n",
    "    "
   ]
  },
  {
   "cell_type": "code",
   "execution_count": 2,
   "id": "eace9636",
   "metadata": {},
   "outputs": [
    {
     "name": "stdout",
     "output_type": "stream",
     "text": [
      "school volvo\n",
      "180\n"
     ]
    }
   ],
   "source": [
    "#Create a child class Bus that will inherit all of the variables and methods of the Vehicle class\n",
    "\n",
    "class vehicle:\n",
    "    def __init__(self,name,max_speed,mileage_instance):\n",
    "        self.name = name\n",
    "        self.max_speed = max_speed\n",
    "        self.mileage_instance = mileage_instance\n",
    "        \n",
    "class Bus(vehicle):\n",
    "    pass\n",
    "\n",
    "school_bus = Bus(\"school volvo\", 180, 2)\n",
    "print(school_bus.name)\n",
    "print(school_bus.max_speed)"
   ]
  },
  {
   "cell_type": "code",
   "execution_count": 4,
   "id": "5192e5b0",
   "metadata": {},
   "outputs": [
    {
     "name": "stdout",
     "output_type": "stream",
     "text": [
      "The seating capacity of a School Volvo is 50 passengers\n"
     ]
    }
   ],
   "source": [
    "# Create a Bus class that inherits from the Vehicle class. Give the capacity\n",
    "# argument of Bus.seating_capacity() a default value of 50.\n",
    "class Vehicle:\n",
    "    def __init__(self, name, max_speed, mileage):\n",
    "        self.name = name\n",
    "        self.max_speed = max_speed\n",
    "        self.mileage = mileage\n",
    "\n",
    "    def seating_capacity(self, capacity):\n",
    "        return f\"The seating capacity of a {self.name} is {capacity} passengers\"\n",
    "\n",
    "class Bus(Vehicle):\n",
    "    def seating_capacity(self, capacity=50):\n",
    "        return super().seating_capacity(capacity=50)\n",
    "\n",
    "School_bus = Bus(\"School Volvo\", 180, 12)\n",
    "print(School_bus.seating_capacity())"
   ]
  },
  {
   "cell_type": "code",
   "execution_count": 25,
   "id": "7a13dab8",
   "metadata": {},
   "outputs": [
    {
     "name": "stdout",
     "output_type": "stream",
     "text": [
      "School volvo \n",
      " White \n",
      " 180\n",
      "White Audi Q5 Speed: 240 Mileage: 18\n"
     ]
    }
   ],
   "source": [
    "# Inheritance\n",
    "\n",
    "class Vehicle:\n",
    "    # Class attribute\n",
    "    color = \"White\"\n",
    "\n",
    "    def __init__(self, name, max_speed, mileage):\n",
    "        self.name = name\n",
    "        self.max_speed = max_speed\n",
    "        self.mileage = mileage\n",
    "\n",
    "class Bus(Vehicle):\n",
    "    pass\n",
    "\n",
    "class Car(Vehicle):\n",
    "    pass\n",
    "\n",
    "School_bus = Bus(\"School volvo\", 180, 9)\n",
    "print(School_bus.name,\"\\n\",School_bus.color,\"\\n\",School_bus.max_speed)\n",
    "\n",
    "car = Car(\"Audi Q5\", 240, 18)\n",
    "print(car.color, car.name, \"Speed:\", car.max_speed, \"Mileage:\", car.mileage)\n"
   ]
  },
  {
   "cell_type": "code",
   "execution_count": 5,
   "id": "1237e920",
   "metadata": {},
   "outputs": [
    {
     "name": "stdout",
     "output_type": "stream",
     "text": [
      "190000\n"
     ]
    }
   ],
   "source": [
    "# Composition\n",
    "\n",
    "class salary:\n",
    "    def __init__(self, pay, bonus):\n",
    "        self.pay = pay\n",
    "        self.bonus = bonus\n",
    "        \n",
    "    def annual_salary(self):\n",
    "        return (self.pay*12) + self.bonus\n",
    "    \n",
    "class Employee:\n",
    "    def __init__(self, name, age, pay, bonus):\n",
    "        self.name = name\n",
    "        self.age = age\n",
    "        self.obj_salary = salary(pay,bonus)\n",
    "        \n",
    "    def total_salary(self):\n",
    "        return self.obj_salary.annual_salary()\n",
    "    \n",
    "emp = Employee(\"MAx\", 25, 15000, 10000)\n",
    "print(emp.total_salary())"
   ]
  },
  {
   "cell_type": "code",
   "execution_count": 7,
   "id": "44c54f36",
   "metadata": {},
   "outputs": [
    {
     "name": "stdout",
     "output_type": "stream",
     "text": [
      "190000\n"
     ]
    }
   ],
   "source": [
    "# Aggregation\n",
    "class salary:\n",
    "    def __init__(self, pay, bonus):\n",
    "        self.pay = pay\n",
    "        self.bonus = bonus\n",
    "        \n",
    "    def annual_salary(self):\n",
    "        return (self.pay*12) + self.bonus\n",
    "    \n",
    "class Employee:\n",
    "    def __init__(self, name, age, salary):\n",
    "        self.name = name\n",
    "        self.age = age\n",
    "        self.obj_salary = salary;\n",
    "            \n",
    "    def total_salary(self):\n",
    "        return self.obj_salary.annual_salary()\n",
    "    \n",
    "salary = salary(15000,10000)\n",
    "emp = Employee(\"max\", 25, salary)\n",
    "print(emp.total_salary())\n"
   ]
  },
  {
   "cell_type": "code",
   "execution_count": 11,
   "id": "1485a0ba",
   "metadata": {},
   "outputs": [
    {
     "name": "stdout",
     "output_type": "stream",
     "text": [
      "child class\n",
      "difining abstract method\n"
     ]
    }
   ],
   "source": [
    "# Abstractmethod\n",
    "\n",
    "from abc import ABC, abstractmethod\n",
    "class Father(ABC):\n",
    "    @abstractmethod\n",
    "    def disp(self):\n",
    "        pass\n",
    "    def show(self):                # Decretemethod\n",
    "        print(\"concrete method\")\n",
    "        \n",
    "class child(Father):\n",
    "    def disp(self):\n",
    "        print(\"child class\")\n",
    "        print(\"difining abstract method\")\n",
    "        \n",
    "c = child()\n",
    "c.disp()\n"
   ]
  },
  {
   "cell_type": "code",
   "execution_count": 16,
   "id": "749605af",
   "metadata": {},
   "outputs": [
    {
     "name": "stdout",
     "output_type": "stream",
     "text": [
      "Gun = AK47\n",
      "Army Area = land\n",
      "\n",
      "Gun = AK47\n",
      "Airforce Area = sky\n",
      "\n",
      "Gun = AK47\n",
      "navy Area = sea\n"
     ]
    }
   ],
   "source": [
    "from abc import ABC, abstractmethod\n",
    "class DefenceForce(ABC):\n",
    "    @abstractmethod\n",
    "    def area(self):\n",
    "        pass\n",
    "    def gun(self):\n",
    "        print(\"Gun = AK47\")\n",
    "        \n",
    "class Army(DefenceForce):\n",
    "    def area(self):\n",
    "        print(\"Army Area = land\")\n",
    "        \n",
    "class Airforce(DefenceForce):\n",
    "    def area(self):\n",
    "        print(\"Airforce Area = sky\")\n",
    "        \n",
    "class Navy(DefenceForce):\n",
    "    def area(self):\n",
    "        print(\"navy Area = sea\")  \n",
    "        \n",
    "a = Army()\n",
    "af = Airforce()\n",
    "n = Navy()\n",
    "\n",
    "a.gun()\n",
    "a.area()\n",
    "print()\n",
    "af.gun()\n",
    "af.area()\n",
    "print()\n",
    "n.gun()\n",
    "n.area()"
   ]
  },
  {
   "cell_type": "code",
   "execution_count": 18,
   "id": "1c060cb5",
   "metadata": {},
   "outputs": [
    {
     "name": "stdout",
     "output_type": "stream",
     "text": [
      "its running\n"
     ]
    }
   ],
   "source": [
    "# Abstractmethod\n",
    "\n",
    "from abc import ABC, abstractmethod\n",
    "class Computer(ABC):\n",
    "    @abstractmethod\n",
    "    def process(self):\n",
    "        pass\n",
    "    \n",
    "class Laptop(Computer):\n",
    "    def process(self):\n",
    "        print(\"its running\")\n",
    "        \n",
    "com = Laptop()\n",
    "com.process()"
   ]
  },
  {
   "cell_type": "code",
   "execution_count": null,
   "id": "66eec87f",
   "metadata": {},
   "outputs": [],
   "source": []
  }
 ],
 "metadata": {
  "kernelspec": {
   "display_name": "Python 3",
   "language": "python",
   "name": "python3"
  },
  "language_info": {
   "codemirror_mode": {
    "name": "ipython",
    "version": 3
   },
   "file_extension": ".py",
   "mimetype": "text/x-python",
   "name": "python",
   "nbconvert_exporter": "python",
   "pygments_lexer": "ipython3",
   "version": "3.8.8"
  }
 },
 "nbformat": 4,
 "nbformat_minor": 5
}
