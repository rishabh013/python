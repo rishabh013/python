{
 "cells": [
  {
   "cell_type": "markdown",
   "id": "38bd7d5f",
   "metadata": {},
   "source": [
    "## File read"
   ]
  },
  {
   "cell_type": "code",
   "execution_count": 1,
   "id": "135caac8",
   "metadata": {},
   "outputs": [],
   "source": [
    "# For he file handling we have first creat a txt file and write something into that- Welcmome to AI/ML Program"
   ]
  },
  {
   "cell_type": "code",
   "execution_count": 2,
   "id": "2de5fa56",
   "metadata": {},
   "outputs": [
    {
     "name": "stdout",
     "output_type": "stream",
     "text": [
      "Welcome to AI/ML Program\n"
     ]
    }
   ],
   "source": [
    "fd = open(\"File.txt\", 'r')  # want ro read the data \"r\"\n",
    "print(fd.read())\n",
    "fd.close()"
   ]
  },
  {
   "cell_type": "code",
   "execution_count": 3,
   "id": "476d01c9",
   "metadata": {},
   "outputs": [],
   "source": [
    "fd = open(\"File.txt\", 'r')  # want ro read the data \"r\"\n",
    "txt = fd.read(5)\n",
    "fd.close()"
   ]
  },
  {
   "cell_type": "code",
   "execution_count": 4,
   "id": "66404353",
   "metadata": {},
   "outputs": [
    {
     "data": {
      "text/plain": [
       "str"
      ]
     },
     "execution_count": 4,
     "metadata": {},
     "output_type": "execute_result"
    }
   ],
   "source": [
    "type(txt)"
   ]
  },
  {
   "cell_type": "code",
   "execution_count": 5,
   "id": "356d2928",
   "metadata": {},
   "outputs": [
    {
     "data": {
      "text/plain": [
       "'Welco'"
      ]
     },
     "execution_count": 5,
     "metadata": {},
     "output_type": "execute_result"
    }
   ],
   "source": [
    "txt"
   ]
  },
  {
   "cell_type": "markdown",
   "id": "844ff104",
   "metadata": {},
   "source": [
    "### covid paragraph"
   ]
  },
  {
   "cell_type": "code",
   "execution_count": 12,
   "id": "aeb4af2d",
   "metadata": {},
   "outputs": [
    {
     "name": "stdout",
     "output_type": "stream",
     "text": [
      "Coronavirus disease (COVID-19) is an infectious disease caused by a newly discovered coronavirus.\n",
      "Most people infected with the COVID-19 virus will experience mild to moderate respiratory illness and recover without requiring special treatment.  Older people, and those with underlying medical problems like cardiovascular disease, diabetes, chronic respiratory disease, and cancer are more likely to develop serious illness.\n",
      "The best way to prevent and slow down transmission is to be well informed about the COVID-19 virus, the disease it causes and how it spreads. Protect yourself and others from infection by washing your hands or using an alcohol based rub frequently and not touching your face. \n"
     ]
    }
   ],
   "source": [
    "fd = open(\"covid.txt\", 'r')  # want ro read the data \"r\"\n",
    "print(fd.read())\n",
    "fd.close()"
   ]
  },
  {
   "cell_type": "code",
   "execution_count": 13,
   "id": "ed086737",
   "metadata": {},
   "outputs": [],
   "source": [
    "fd = open(\"covid.txt\", 'r')  # want ro read the data \"r\"\n",
    "txt = fd.read()\n",
    "fd.close()"
   ]
  },
  {
   "cell_type": "code",
   "execution_count": 14,
   "id": "9f6cf662",
   "metadata": {},
   "outputs": [
    {
     "data": {
      "text/plain": [
       "str"
      ]
     },
     "execution_count": 14,
     "metadata": {},
     "output_type": "execute_result"
    }
   ],
   "source": [
    "type(txt)"
   ]
  },
  {
   "cell_type": "code",
   "execution_count": 15,
   "id": "842fe0b1",
   "metadata": {},
   "outputs": [
    {
     "data": {
      "text/plain": [
       "'Coronavirus disease (COVID-19) is an infectious disease caused by a newly discovered coronavirus.\\nMost people infected with the COVID-19 virus will experience mild to moderate respiratory illness and recover without requiring special treatment.  Older people, and those with underlying medical problems like cardiovascular disease, diabetes, chronic respiratory disease, and cancer are more likely to develop serious illness.\\nThe best way to prevent and slow down transmission is to be well informed about the COVID-19 virus, the disease it causes and how it spreads. Protect yourself and others from infection by washing your hands or using an alcohol based rub frequently and not touching your face. '"
      ]
     },
     "execution_count": 15,
     "metadata": {},
     "output_type": "execute_result"
    }
   ],
   "source": [
    "txt"
   ]
  },
  {
   "cell_type": "code",
   "execution_count": 17,
   "id": "ee171091",
   "metadata": {},
   "outputs": [
    {
     "data": {
      "text/plain": [
       "['Coronavirus disease (COVID-19) is an infectious disease caused by a newly discovered coronavirus.',\n",
       " 'Most people infected with the COVID-19 virus will experience mild to moderate respiratory illness and recover without requiring special treatment.  Older people, and those with underlying medical problems like cardiovascular disease, diabetes, chronic respiratory disease, and cancer are more likely to develop serious illness.',\n",
       " 'The best way to prevent and slow down transmission is to be well informed about the COVID-19 virus, the disease it causes and how it spreads. Protect yourself and others from infection by washing your hands or using an alcohol based rub frequently and not touching your face. ']"
      ]
     },
     "execution_count": 17,
     "metadata": {},
     "output_type": "execute_result"
    }
   ],
   "source": [
    "var = txt.split(\"\\n\")\n",
    "var"
   ]
  },
  {
   "cell_type": "code",
   "execution_count": 18,
   "id": "17043252",
   "metadata": {},
   "outputs": [
    {
     "data": {
      "text/plain": [
       "list"
      ]
     },
     "execution_count": 18,
     "metadata": {},
     "output_type": "execute_result"
    }
   ],
   "source": [
    "type(var)"
   ]
  },
  {
   "cell_type": "code",
   "execution_count": 19,
   "id": "d9b9b9c3",
   "metadata": {},
   "outputs": [
    {
     "data": {
      "text/plain": [
       "3"
      ]
     },
     "execution_count": 19,
     "metadata": {},
     "output_type": "execute_result"
    }
   ],
   "source": [
    "len(var)"
   ]
  },
  {
   "cell_type": "code",
   "execution_count": 20,
   "id": "f8e9aba0",
   "metadata": {},
   "outputs": [
    {
     "data": {
      "text/plain": [
       "'Coronavirus disease (COVID-19) is an infectious disease caused by a newly discovered coronavirus.'"
      ]
     },
     "execution_count": 20,
     "metadata": {},
     "output_type": "execute_result"
    }
   ],
   "source": [
    "var[0]"
   ]
  },
  {
   "cell_type": "code",
   "execution_count": 21,
   "id": "a6247360",
   "metadata": {},
   "outputs": [
    {
     "data": {
      "text/plain": [
       "'Most people infected with the COVID-19 virus will experience mild to moderate respiratory illness and recover without requiring special treatment.  Older people, and those with underlying medical problems like cardiovascular disease, diabetes, chronic respiratory disease, and cancer are more likely to develop serious illness.'"
      ]
     },
     "execution_count": 21,
     "metadata": {},
     "output_type": "execute_result"
    }
   ],
   "source": [
    "var[1]"
   ]
  },
  {
   "cell_type": "code",
   "execution_count": 22,
   "id": "542266b9",
   "metadata": {},
   "outputs": [
    {
     "data": {
      "text/plain": [
       "'The best way to prevent and slow down transmission is to be well informed about the COVID-19 virus, the disease it causes and how it spreads. Protect yourself and others from infection by washing your hands or using an alcohol based rub frequently and not touching your face. '"
      ]
     },
     "execution_count": 22,
     "metadata": {},
     "output_type": "execute_result"
    }
   ],
   "source": [
    "var[2]"
   ]
  },
  {
   "cell_type": "code",
   "execution_count": 24,
   "id": "b02431f1",
   "metadata": {},
   "outputs": [
    {
     "data": {
      "text/plain": [
       "702"
      ]
     },
     "execution_count": 24,
     "metadata": {},
     "output_type": "execute_result"
    }
   ],
   "source": [
    "len(txt)"
   ]
  },
  {
   "cell_type": "code",
   "execution_count": 26,
   "id": "2af67014",
   "metadata": {},
   "outputs": [
    {
     "data": {
      "text/plain": [
       "105"
      ]
     },
     "execution_count": 26,
     "metadata": {},
     "output_type": "execute_result"
    }
   ],
   "source": [
    "word = txt.split(\" \")  # total word\n",
    "len(word)"
   ]
  },
  {
   "cell_type": "code",
   "execution_count": 27,
   "id": "6d627e8a",
   "metadata": {},
   "outputs": [
    {
     "data": {
      "text/plain": [
       "82"
      ]
     },
     "execution_count": 27,
     "metadata": {},
     "output_type": "execute_result"
    }
   ],
   "source": [
    "len(set(word))   # unique word which repeating"
   ]
  },
  {
   "cell_type": "code",
   "execution_count": 30,
   "id": "624d282e",
   "metadata": {},
   "outputs": [
    {
     "data": {
      "text/plain": [
       "6"
      ]
     },
     "execution_count": 30,
     "metadata": {},
     "output_type": "execute_result"
    }
   ],
   "source": [
    "lines = txt.split(\".\")  # total lines\n",
    "len(lines)"
   ]
  },
  {
   "cell_type": "markdown",
   "id": "bdc0049f",
   "metadata": {},
   "source": [
    "## File write"
   ]
  },
  {
   "cell_type": "code",
   "execution_count": 31,
   "id": "d273819d",
   "metadata": {},
   "outputs": [],
   "source": [
    "fd = open(\"record.txt\", 'w')  # want ro write the data \"w\" & \"a\". folder automatic create in path\n",
    "fd.write(\"Hello world\")    # we get this str in last\n",
    "fd.close()"
   ]
  },
  {
   "cell_type": "code",
   "execution_count": 34,
   "id": "5b58d7f6",
   "metadata": {},
   "outputs": [
    {
     "name": "stdout",
     "output_type": "stream",
     "text": [
      "Enter the name: rishabh\n",
      "Enter the Roll_no: 1\n",
      "Enter the hindi: 78\n",
      "Enter the eng: 98\n",
      "Enter the sci: 78\n"
     ]
    }
   ],
   "source": [
    "name = input(\"Enter the name: \")\n",
    "Roll_no = int(input(\"Enter the Roll_no: \"))\n",
    "hindi = int(input(\"Enter the hindi: \"))\n",
    "eng = int(input(\"Enter the eng: \"))\n",
    "sci = int(input(\"Enter the sci: \"))"
   ]
  },
  {
   "cell_type": "code",
   "execution_count": 35,
   "id": "bbe2af31",
   "metadata": {},
   "outputs": [
    {
     "data": {
      "text/plain": [
       "'rishabh,1,78,98,78'"
      ]
     },
     "execution_count": 35,
     "metadata": {},
     "output_type": "execute_result"
    }
   ],
   "source": [
    "data = name + \",\" + str(Roll_no) + \",\" + str(hindi) + \",\" + str(eng) + \",\" + str(sci)\n",
    "data   # this is comma seprated(csv)"
   ]
  },
  {
   "cell_type": "code",
   "execution_count": 36,
   "id": "583ad0b7",
   "metadata": {},
   "outputs": [
    {
     "name": "stdout",
     "output_type": "stream",
     "text": [
      "Enter the name: rishabh\n",
      "Enter the Roll_no: 1\n",
      "Enter the hindi: 45\n",
      "Enter the eng: 45\n",
      "Enter the sci: 45\n"
     ]
    }
   ],
   "source": [
    "fd = open(\"writefile.txt\", 'a')  # want  append the data \"a\". folder automatic create in path\n",
    "name = input(\"Enter the name: \")\n",
    "Roll_no = int(input(\"Enter the Roll_no: \"))\n",
    "hindi = int(input(\"Enter the hindi: \"))\n",
    "eng = int(input(\"Enter the eng: \"))\n",
    "sci = int(input(\"Enter the sci: \"))\n",
    "data = name + \",\" + str(Roll_no) + \",\" + str(hindi) + \",\" + str(eng) + \",\" + str(sci)\n",
    "fd.write(data)\n",
    "fd.close()"
   ]
  },
  {
   "cell_type": "code",
   "execution_count": null,
   "id": "843bb2ee",
   "metadata": {},
   "outputs": [],
   "source": []
  }
 ],
 "metadata": {
  "kernelspec": {
   "display_name": "Python 3",
   "language": "python",
   "name": "python3"
  },
  "language_info": {
   "codemirror_mode": {
    "name": "ipython",
    "version": 3
   },
   "file_extension": ".py",
   "mimetype": "text/x-python",
   "name": "python",
   "nbconvert_exporter": "python",
   "pygments_lexer": "ipython3",
   "version": "3.8.8"
  }
 },
 "nbformat": 4,
 "nbformat_minor": 5
}
