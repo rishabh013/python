{
 "cells": [
  {
   "cell_type": "markdown",
   "id": "b03d60d3",
   "metadata": {},
   "source": [
    "# practice function"
   ]
  },
  {
   "cell_type": "code",
   "execution_count": 1,
   "id": "e9c1fdcb",
   "metadata": {},
   "outputs": [
    {
     "name": "stdout",
     "output_type": "stream",
     "text": [
      "y\n"
     ]
    }
   ],
   "source": [
    "# Write a Python function to find the Max of three numbers\n",
    "\n",
    "def max(x,y,z):\n",
    "    if x>y:\n",
    "        if y>z:\n",
    "            print(\"x is greater\")\n",
    "        else:\n",
    "            print(\"z is greater\")\n",
    "    else:\n",
    "        if y>z:\n",
    "            print(\"y\")\n",
    "        else:\n",
    "            print(\"z\")\n",
    "max(4,5,3)            \n",
    "        "
   ]
  },
  {
   "cell_type": "code",
   "execution_count": 2,
   "id": "47833e6f",
   "metadata": {},
   "outputs": [
    {
     "name": "stdout",
     "output_type": "stream",
     "text": [
      "6\n"
     ]
    }
   ],
   "source": [
    "def max_of_two( x, y ):\n",
    "    if x > y:\n",
    "        return x\n",
    "    return y\n",
    "def max_of_three( x, y, z ):\n",
    "    return max_of_two( x, max_of_two( y, z ) )\n",
    "print(max_of_three(3, 6, -5))"
   ]
  },
  {
   "cell_type": "code",
   "execution_count": 3,
   "id": "51d418e9",
   "metadata": {},
   "outputs": [
    {
     "data": {
      "text/plain": [
       "20"
      ]
     },
     "execution_count": 3,
     "metadata": {},
     "output_type": "execute_result"
    }
   ],
   "source": [
    "# Write a Python function to sum all the numbers in a list.\n",
    "\n",
    "def sum(numbers):\n",
    "    total = 0\n",
    "    for i in numbers:\n",
    "        total = total + i\n",
    "    return total\n",
    "list = (8, 2, 3, 0, 7)\n",
    "sum(list)"
   ]
  },
  {
   "cell_type": "code",
   "execution_count": 4,
   "id": "b6d33143",
   "metadata": {},
   "outputs": [
    {
     "data": {
      "text/plain": [
       "720"
      ]
     },
     "execution_count": 4,
     "metadata": {},
     "output_type": "execute_result"
    }
   ],
   "source": [
    "#Write a Python function to multiply all the numbers in a list.\n",
    "\n",
    "def mul(nums):\n",
    "    total = 1\n",
    "    for i in nums:\n",
    "        total = total*i   # total *= i\n",
    "    return total\n",
    "list = (2, 3, 4, 5, 6)\n",
    "mul(list)"
   ]
  },
  {
   "cell_type": "code",
   "execution_count": 5,
   "id": "006a9ec6",
   "metadata": {},
   "outputs": [
    {
     "data": {
      "text/plain": [
       "'dcba4321'"
      ]
     },
     "execution_count": 5,
     "metadata": {},
     "output_type": "execute_result"
    }
   ],
   "source": [
    "# 4.Write a Python program to reverse a string.\n",
    "\n",
    "def string_reverse(str1):\n",
    "\n",
    "    rstr1 = ''\n",
    "    index = len(str1)\n",
    "    while index > 0:\n",
    "        rstr1 += str1[ index - 1 ]\n",
    "        index = index - 1\n",
    "    return rstr1\n",
    "string = '1234abcd'\n",
    "string_reverse(string)"
   ]
  },
  {
   "cell_type": "code",
   "execution_count": 7,
   "id": "891df1ec",
   "metadata": {},
   "outputs": [
    {
     "data": {
      "text/plain": [
       "120"
      ]
     },
     "execution_count": 7,
     "metadata": {},
     "output_type": "execute_result"
    }
   ],
   "source": [
    "# 4. Write a Python function to calculate the factorial of a number (a non-negative integer)\n",
    "# recursion method\n",
    "def fact(n):\n",
    "    if n==0:\n",
    "        return 1\n",
    "    return n*fact(n-1)\n",
    "fact(5)  \n",
    "    "
   ]
  },
  {
   "cell_type": "code",
   "execution_count": 8,
   "id": "12d796b0",
   "metadata": {},
   "outputs": [
    {
     "data": {
      "text/plain": [
       "120"
      ]
     },
     "execution_count": 8,
     "metadata": {},
     "output_type": "execute_result"
    }
   ],
   "source": [
    "def fact(n):\n",
    "    f = 1\n",
    "    for i in range(1,n+1):\n",
    "        f = f*i\n",
    "    return f\n",
    "fact(5)  "
   ]
  },
  {
   "cell_type": "code",
   "execution_count": 9,
   "id": "ebd3d67e",
   "metadata": {},
   "outputs": [
    {
     "name": "stdout",
     "output_type": "stream",
     "text": [
      "value in range\n"
     ]
    }
   ],
   "source": [
    "# 5.Write a Python function to check whether a number is in a given range.\n",
    "\n",
    "def nums(n):\n",
    "    if n in range(2,10):\n",
    "        print(\"value in range\")\n",
    "    else:\n",
    "        print(\"value is not in range\")\n",
    "nums(5)        "
   ]
  },
  {
   "cell_type": "code",
   "execution_count": 10,
   "id": "fc93d124",
   "metadata": {},
   "outputs": [
    {
     "name": "stdout",
     "output_type": "stream",
     "text": [
      "(4, 33)\n"
     ]
    }
   ],
   "source": [
    "# 6.Write a Python function that accepts a string and calculate the number of upper case letters and lower case letters.\n",
    "\n",
    "def up_low(string):\n",
    "    uppers = 0\n",
    "    lowers = 0\n",
    "    for char in string:\n",
    "        \n",
    "        if char.islower():\n",
    "            lowers += 1         # lowers = lowers + 1\n",
    "        elif char.isupper():\n",
    "            uppers +=1\n",
    "        else:                   #I added an extra case for the rest of the chars that aren't lower non upper\n",
    "            pass\n",
    "    return(uppers, lowers)\n",
    "\n",
    "print(up_low('Hello Mr. Rogers, how are you this fine Tuesday?'))"
   ]
  },
  {
   "cell_type": "code",
   "execution_count": 11,
   "id": "3c9387a0",
   "metadata": {},
   "outputs": [
    {
     "name": "stdout",
     "output_type": "stream",
     "text": [
      "[1, 2, 3, 4, 5]\n"
     ]
    }
   ],
   "source": [
    "#7.Write a Python function that takes a list and returns a new list with unique elements of the first list.\n",
    "\n",
    "def unique_list(l):\n",
    "    \n",
    "    x = []\n",
    "    for a in l:\n",
    "        if a not in x:\n",
    "            x.append(a)\n",
    "    return x\n",
    "\n",
    "print(unique_list([1,2,3,3,3,3,4,5])) "
   ]
  },
  {
   "cell_type": "code",
   "execution_count": 12,
   "id": "048fc55f",
   "metadata": {},
   "outputs": [
    {
     "name": "stdout",
     "output_type": "stream",
     "text": [
      "prime\n",
      "prime\n",
      "prime\n",
      "not prime\n"
     ]
    }
   ],
   "source": [
    "#8.Write a Python function that takes a number as a parameter and check the number is prime or not.\n",
    "def test_prime(n):\n",
    "    for i in range(2,n):\n",
    "        if n%i==0:\n",
    "            print(\"not prime\")\n",
    "            break\n",
    "        else:\n",
    "             print(\"prime\")\n",
    "test_prime(25)                "
   ]
  },
  {
   "cell_type": "code",
   "execution_count": 13,
   "id": "f0078774",
   "metadata": {},
   "outputs": [
    {
     "data": {
      "text/plain": [
       "[2, 4, 6, 8]"
      ]
     },
     "execution_count": 13,
     "metadata": {},
     "output_type": "execute_result"
    }
   ],
   "source": [
    "# 9.Write a Python program to print the even numbers from a given list.\n",
    "def evens(list):\n",
    "    a = []\n",
    "    for n in list:\n",
    "        if n%2==0:\n",
    "            a.append(n)\n",
    "    return a\n",
    "p = [1, 2, 3, 4, 5, 6, 7, 8, 9]\n",
    "evens(p)   "
   ]
  },
  {
   "cell_type": "code",
   "execution_count": 14,
   "id": "148ee03d",
   "metadata": {},
   "outputs": [
    {
     "name": "stdout",
     "output_type": "stream",
     "text": [
      "False\n"
     ]
    }
   ],
   "source": [
    "# 10.Write a Python function to check whether a number is perfect or not.\n",
    "\n",
    "def perfect_number(n):\n",
    "    sum = 0\n",
    "    for x in range(1, n):\n",
    "        if n % x == 0:\n",
    "            sum += x\n",
    "    return sum == n\n",
    "print(perfect_number(8))"
   ]
  },
  {
   "cell_type": "markdown",
   "id": "ebdc915a",
   "metadata": {},
   "source": [
    "# Condition statement and loop ( For & While loop)"
   ]
  },
  {
   "cell_type": "code",
   "execution_count": 11,
   "id": "90afb104",
   "metadata": {},
   "outputs": [
    {
     "name": "stdout",
     "output_type": "stream",
     "text": [
      "1505,1540,1575,1610,1645,1680,1715,1750,1785,1820,1855,1890,1925,1960,1995,2030,2065,2100,2135,2170,2205,2240,2275,2310,2345,2380,2415,2450,2485,2520,2555,2590,2625,2660,2695\n"
     ]
    }
   ],
   "source": [
    "# 1.Write a Python program to find those numbers which are divisible by 7 and multiple of 5, between 1500 and 2700 \n",
    "#  (both included)\n",
    "\n",
    "nl=[]\n",
    "for i in range(1500, 2701):\n",
    "    if (i%7==0) and (i%5==0):\n",
    "        nl.append(str(i))\n",
    "print (','.join(nl))    "
   ]
  },
  {
   "cell_type": "code",
   "execution_count": 1,
   "id": "200ab68e",
   "metadata": {},
   "outputs": [
    {
     "name": "stdout",
     "output_type": "stream",
     "text": [
      "Enter the value of which you want to convert140F\n",
      "Input proper conventional\n"
     ]
    },
    {
     "ename": "NameError",
     "evalue": "name 'o_convention' is not defined",
     "output_type": "error",
     "traceback": [
      "\u001b[1;31m---------------------------------------------------------------------------\u001b[0m",
      "\u001b[1;31mNameError\u001b[0m                                 Traceback (most recent call last)",
      "\u001b[1;32m<ipython-input-1-824e0042ad04>\u001b[0m in \u001b[0;36m<module>\u001b[1;34m\u001b[0m\n\u001b[0;32m     15\u001b[0m     \u001b[0mprint\u001b[0m\u001b[1;33m(\u001b[0m\u001b[1;34m\"Input proper conventional\"\u001b[0m\u001b[1;33m)\u001b[0m\u001b[1;33m\u001b[0m\u001b[1;33m\u001b[0m\u001b[0m\n\u001b[0;32m     16\u001b[0m \u001b[1;33m\u001b[0m\u001b[0m\n\u001b[1;32m---> 17\u001b[1;33m \u001b[0mprint\u001b[0m\u001b[1;33m(\u001b[0m\u001b[1;34m\"The temperature in\"\u001b[0m\u001b[1;33m,\u001b[0m \u001b[0mo_convention\u001b[0m\u001b[1;33m,\u001b[0m \u001b[1;34m\"is\"\u001b[0m\u001b[1;33m,\u001b[0m \u001b[0mresult\u001b[0m\u001b[1;33m,\u001b[0m \u001b[1;34m\"degrees.\"\u001b[0m\u001b[1;33m)\u001b[0m\u001b[1;33m\u001b[0m\u001b[1;33m\u001b[0m\u001b[0m\n\u001b[0m\u001b[0;32m     18\u001b[0m \u001b[1;33m\u001b[0m\u001b[0m\n\u001b[0;32m     19\u001b[0m \u001b[1;31m#Work both types whether put 40C or 140F value to convert F and C.\u001b[0m\u001b[1;33m\u001b[0m\u001b[1;33m\u001b[0m\u001b[1;33m\u001b[0m\u001b[0m\n",
      "\u001b[1;31mNameError\u001b[0m: name 'o_convention' is not defined"
     ]
    }
   ],
   "source": [
    "#2.Write a Python program to convert temperatures to and from celsius, fahrenheit.\n",
    "\n",
    "temp = input(\"Enter the value of which you want to convert\")\n",
    "degree = int(temp[:-1])\n",
    "i_convention = temp[-1]\n",
    "\n",
    "if i_convention.upper == \"C\":\n",
    "    result = int(round(9*degree)/5 + 32)\n",
    "    o_convention = \"Fahrenheit\"\n",
    "    \n",
    "elif i_convention.upper == \"F\":\n",
    "    result = int(round((degree - 32)*5/9))\n",
    "    o_convention = \"Celsius\"\n",
    "else:\n",
    "    print(\"Input proper conventional\")\n",
    "    \n",
    "print(\"The temperature in\", o_convention, \"is\", result, \"degrees.\") \n",
    "\n",
    "#Work both types whether put 40C or 140F value to convert F and C.\n"
   ]
  },
  {
   "cell_type": "code",
   "execution_count": 38,
   "id": "61f252e5",
   "metadata": {},
   "outputs": [
    {
     "name": "stdout",
     "output_type": "stream",
     "text": [
      "\n",
      "* \n",
      "* * \n",
      "* * * \n",
      "* * * * \n",
      "* * * * * \n",
      "* * * * \n",
      "* * * \n",
      "* * \n",
      "* \n"
     ]
    }
   ],
   "source": [
    "#3.Write a Python program to construct the following pattern, using a nested for loop.\n",
    "for i in range(5):\n",
    "    for j in range(i):\n",
    "        print ('* ', end=\"\")\n",
    "    print()\n",
    "for i in range(5,0,-1):\n",
    "    for j in range(i):\n",
    "        print('* ', end=\"\")\n",
    "    print()    "
   ]
  },
  {
   "cell_type": "code",
   "execution_count": 18,
   "id": "6ef77788",
   "metadata": {},
   "outputs": [
    {
     "name": "stdout",
     "output_type": "stream",
     "text": [
      "****\n",
      "****\n",
      "****\n",
      "****\n"
     ]
    }
   ],
   "source": [
    "for i in range(4):\n",
    "    for i in range(4):\n",
    "        print(\"*\", end=\"\")\n",
    "    print() "
   ]
  },
  {
   "cell_type": "code",
   "execution_count": 48,
   "id": "0e310e8d",
   "metadata": {},
   "outputs": [
    {
     "name": "stdout",
     "output_type": "stream",
     "text": [
      "******\n",
      "*****\n",
      "****\n",
      "***\n",
      "**\n",
      "*\n"
     ]
    }
   ],
   "source": [
    "for i in range(6,0,-1):\n",
    "    for j in range(i):\n",
    "             print(\"*\",end=\"\")\n",
    "    print()           "
   ]
  },
  {
   "cell_type": "code",
   "execution_count": 39,
   "id": "d50d7684",
   "metadata": {},
   "outputs": [
    {
     "name": "stdout",
     "output_type": "stream",
     "text": [
      "******\n",
      "*****\n",
      "****\n",
      "***\n",
      "**\n",
      "*\n"
     ]
    }
   ],
   "source": [
    "n = 6\n",
    "for i in range(n):\n",
    "    print(\"*\" *(n-i))"
   ]
  },
  {
   "cell_type": "code",
   "execution_count": 50,
   "id": "357c2010",
   "metadata": {},
   "outputs": [
    {
     "name": "stdout",
     "output_type": "stream",
     "text": [
      "Enter the wordWelcome\n"
     ]
    },
    {
     "ename": "AttributeError",
     "evalue": "'str' object has no attribute 'reverse'",
     "output_type": "error",
     "traceback": [
      "\u001b[1;31m---------------------------------------------------------------------------\u001b[0m",
      "\u001b[1;31mAttributeError\u001b[0m                            Traceback (most recent call last)",
      "\u001b[1;32m<ipython-input-50-58749220d4f5>\u001b[0m in \u001b[0;36m<module>\u001b[1;34m\u001b[0m\n\u001b[0;32m      1\u001b[0m \u001b[1;31m#4.Write a Python program that accepts a word from the user and reverse it.\u001b[0m\u001b[1;33m\u001b[0m\u001b[1;33m\u001b[0m\u001b[1;33m\u001b[0m\u001b[0m\n\u001b[0;32m      2\u001b[0m \u001b[0mmy_name\u001b[0m \u001b[1;33m=\u001b[0m \u001b[0minput\u001b[0m\u001b[1;33m(\u001b[0m\u001b[1;34m\"Enter the word\"\u001b[0m\u001b[1;33m)\u001b[0m\u001b[1;33m\u001b[0m\u001b[1;33m\u001b[0m\u001b[0m\n\u001b[1;32m----> 3\u001b[1;33m \u001b[0mt\u001b[0m \u001b[1;33m=\u001b[0m \u001b[0mmy_name\u001b[0m\u001b[1;33m.\u001b[0m\u001b[0mreverse\u001b[0m\u001b[1;33m(\u001b[0m\u001b[1;33m)\u001b[0m\u001b[1;33m\u001b[0m\u001b[1;33m\u001b[0m\u001b[0m\n\u001b[0m\u001b[0;32m      4\u001b[0m \u001b[0mprint\u001b[0m\u001b[1;33m(\u001b[0m\u001b[0mt\u001b[0m\u001b[1;33m)\u001b[0m\u001b[1;33m\u001b[0m\u001b[1;33m\u001b[0m\u001b[0m\n",
      "\u001b[1;31mAttributeError\u001b[0m: 'str' object has no attribute 'reverse'"
     ]
    }
   ],
   "source": [
    "#4.Write a Python program that accepts a word from the user and reverse it.\n",
    "my_name = input(\"Enter the word\")\n",
    "t = my_name.reverse()\n",
    "print(t)\n",
    "not solve yet."
   ]
  },
  {
   "cell_type": "code",
   "execution_count": 74,
   "id": "578cb7fa",
   "metadata": {},
   "outputs": [
    {
     "name": "stdout",
     "output_type": "stream",
     "text": [
      "Even numbers 4\n",
      "Odd numbers 5\n"
     ]
    }
   ],
   "source": [
    "#5.Write a Python program to count the number of even and odd numbers from a series of numbers. \n",
    "number = (1, 2, 3, 4, 5, 6, 7, 8, 9)\n",
    "even_no = 0\n",
    "odd_no = 0\n",
    "for i in number:\n",
    "    if i % 2 == 0:\n",
    "        even_no+=1\n",
    "    else:\n",
    "        odd_no+=1\n",
    "        \n",
    "print(\"Even numbers\",even_no)\n",
    "print(\"Odd numbers\",odd_no)\n",
    "        \n",
    "    "
   ]
  },
  {
   "cell_type": "code",
   "execution_count": 20,
   "id": "d1693ff5",
   "metadata": {},
   "outputs": [
    {
     "name": "stdout",
     "output_type": "stream",
     "text": [
      "Type of  1452  is  <class 'int'>\n",
      "Type of  11.23  is  <class 'float'>\n",
      "Type of  (1+2j)  is  <class 'complex'>\n",
      "Type of  True  is  <class 'bool'>\n",
      "Type of  (0, -1)  is  <class 'tuple'>\n",
      "Type of  [5, 12]  is  <class 'list'>\n",
      "Type of  {'class': 'V', 'section': 'A'}  is  <class 'dict'>\n"
     ]
    }
   ],
   "source": [
    "#6.Write a Python program that prints each item and its corresponding type from the following list\n",
    "\n",
    "list = [1452, 11.23, 1+2j, True,  (0, -1), [5, 12], {\"class\":'V', \"section\":'A'}]\n",
    "for item in list:\n",
    "    print (\"Type of \",item, \" is \", type(item))\n",
    "    "
   ]
  },
  {
   "cell_type": "code",
   "execution_count": 62,
   "id": "f80d34c0",
   "metadata": {},
   "outputs": [
    {
     "name": "stdout",
     "output_type": "stream",
     "text": [
      "1 2 4 5 next program\n",
      "0 1 2 4 5 "
     ]
    }
   ],
   "source": [
    "#7.Write a Python program that prints all the numbers from 0 to 6 except 3 and 6.\n",
    "#Note : Use 'continue' statement.\n",
    "\n",
    "for i in range (0,6):\n",
    "    if i%3==0:\n",
    "        continue\n",
    "    print(i,end=\" \") \n",
    "    \n",
    "print(\"next program\")\n",
    "\n",
    "for x in range(6):\n",
    "    if (x == 3 or x==6):\n",
    "        continue\n",
    "    print(x,end=' ')    "
   ]
  },
  {
   "cell_type": "code",
   "execution_count": 4,
   "id": "b79f16e1",
   "metadata": {},
   "outputs": [
    {
     "name": "stdout",
     "output_type": "stream",
     "text": [
      "1 2 4 7 8 11 13 14 16 17 19 22 23 26 28 29 31 32 34 37 38 41 43 44 46 47 49 "
     ]
    }
   ],
   "source": [
    "for i in range(0,51):\n",
    "    if i%3==0 or i%5==0:   # use or\n",
    "        continue\n",
    "    print(i,end=\" \")    "
   ]
  },
  {
   "cell_type": "code",
   "execution_count": 6,
   "id": "28dec628",
   "metadata": {},
   "outputs": [
    {
     "name": "stdout",
     "output_type": "stream",
     "text": [
      "1 2 3 4 5 6 7 8 9 10 11 12 13 14 16 17 18 19 20 21 22 23 24 25 26 27 28 29 31 32 33 34 35 36 37 38 39 40 41 42 43 44 46 47 48 49 50 "
     ]
    }
   ],
   "source": [
    "for i in range(0,51):\n",
    "    if i%3==0 and i%5==0:   # use and only 15,45,skip\n",
    "        continue\n",
    "    print(i,end=\" \")"
   ]
  },
  {
   "cell_type": "code",
   "execution_count": 77,
   "id": "c74a7144",
   "metadata": {},
   "outputs": [
    {
     "name": "stdout",
     "output_type": "stream",
     "text": [
      "1 2 3 5 8 13 21 34 Next program\n",
      "1 1 2 3 5 8 13 21 34 "
     ]
    }
   ],
   "source": [
    "#8. Write a Python program to get the Fibonacci series between 0 to 20. Go to the editor\n",
    "# Note : The Fibonacci Sequence is the series of numbers :\n",
    "# 0, 1, 1, 2, 3, 5, 8, 13, 21, ....\n",
    "\n",
    "def fib(n):\n",
    "    a = 0\n",
    "    b = 1\n",
    "    for i in range (2,n):\n",
    "        c = a + b\n",
    "        a = b   # a,b = b,c(swap can use)\n",
    "        b = c\n",
    "        print(c, end=\" \")\n",
    "fib(10)\n",
    "print(\"Next program\")\n",
    "\n",
    "x = 0\n",
    "y = 1\n",
    "while y<50:\n",
    "    print(y,end=\" \")\n",
    "    x,y = y,x+y\n",
    "    "
   ]
  },
  {
   "cell_type": "code",
   "execution_count": 2,
   "id": "eed9648d",
   "metadata": {},
   "outputs": [
    {
     "name": "stdout",
     "output_type": "stream",
     "text": [
      "fizzbuzz\n",
      "1\n",
      "2\n",
      "fizz\n",
      "4\n",
      "buzz\n",
      "fizz\n",
      "7\n",
      "8\n",
      "fizz\n",
      "buzz\n",
      "11\n"
     ]
    }
   ],
   "source": [
    "# 9.Write a Python program which iterates the integers from 1 to 50. For multiples of three print\n",
    "# \"Fizz\" instead of the number and for the multiples of five print \"Buzz\". For numbers which are\n",
    "# multiples of both three and five print \"FizzBuzz\"\n",
    "\n",
    "for i in range(12):\n",
    "    if i%3==0 and i%5==0:\n",
    "        print(\"fizzbuzz\")\n",
    "        continue\n",
    "    elif i%3==0:\n",
    "            print(\"fizz\")\n",
    "            continue\n",
    "    elif i%5==0:\n",
    "            print(\"buzz\")\n",
    "            continue\n",
    "    print(i)        \n",
    "                   "
   ]
  },
  {
   "cell_type": "code",
   "execution_count": 6,
   "id": "2b51f64f",
   "metadata": {},
   "outputs": [
    {
     "name": "stdout",
     "output_type": "stream",
     "text": [
      "letter 12\n",
      "digit 4\n"
     ]
    }
   ],
   "source": [
    "#10.Write a Python program that accepts a string and calculate the number of digits and \n",
    "\n",
    "str = \"hellorishabh9793\"\n",
    "d = 0\n",
    "l = 0\n",
    "for c in str:\n",
    "    if c.isdigit():\n",
    "        d=d+1\n",
    "    elif c.isalpha():\n",
    "        l=l+1\n",
    "    else:\n",
    "        pass\n",
    "print(\"letter\",l)\n",
    "print(\"digit\",d)\n",
    "    \n"
   ]
  }
 ],
 "metadata": {
  "kernelspec": {
   "display_name": "Python 3",
   "language": "python",
   "name": "python3"
  },
  "language_info": {
   "codemirror_mode": {
    "name": "ipython",
    "version": 3
   },
   "file_extension": ".py",
   "mimetype": "text/x-python",
   "name": "python",
   "nbconvert_exporter": "python",
   "pygments_lexer": "ipython3",
   "version": "3.8.8"
  }
 },
 "nbformat": 4,
 "nbformat_minor": 5
}
