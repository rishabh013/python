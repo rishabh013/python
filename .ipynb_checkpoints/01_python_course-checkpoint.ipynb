{
 "cells": [
  {
   "cell_type": "markdown",
   "metadata": {},
   "source": [
    "## List, Tuple, Set, Dictionary"
   ]
  },
  {
   "cell_type": "code",
   "execution_count": null,
   "metadata": {},
   "outputs": [],
   "source": [
    "\"\"\"Data structure\n",
    "\n",
    "List         orderd      changable             duplicate\n",
    "Tuple        orderd      unchangable           duplicate\n",
    "set          unorderd    addable/removable     no duplicate\n",
    "Dictionary   unorderd    changable             no duplicate\n",
    "\n",
    "\"\"\"\""
   ]
  },
  {
   "cell_type": "code",
   "execution_count": 46,
   "metadata": {},
   "outputs": [
    {
     "name": "stdout",
     "output_type": "stream",
     "text": [
      "<class 'list'>\n",
      "<class 'tuple'>\n",
      "<class 'set'>\n",
      "<class 'dict'>\n"
     ]
    }
   ],
   "source": [
    "L = [1,3,4,\"name\",3]   \n",
    "T = (1,3,5,\"name\",3)  \n",
    "S = {1,2,5,\"name\",3} \n",
    "D = {23:\"tower\",'B':43, 'C':\"CCD\"}\n",
    "print(type(L))\n",
    "print(type(T))\n",
    "print(type(S))\n",
    "print(type(D))"
   ]
  },
  {
   "cell_type": "code",
   "execution_count": 47,
   "metadata": {},
   "outputs": [
    {
     "name": "stdout",
     "output_type": "stream",
     "text": [
      "3\n",
      "3\n",
      "True\n",
      "tower\n"
     ]
    }
   ],
   "source": [
    "print(L[1])\n",
    "print(T[1])\n",
    "print(3 in S)\n",
    "print(D[23])"
   ]
  },
  {
   "cell_type": "code",
   "execution_count": 49,
   "metadata": {},
   "outputs": [
    {
     "name": "stdout",
     "output_type": "stream",
     "text": [
      "[3, 4]\n",
      "[3, 'name', 4, 3, 1]\n",
      "(1, 3, 5)\n"
     ]
    }
   ],
   "source": [
    "L = [1,3,4,\"name\",3]\n",
    "T = (1,3,5,\"name\",3)\n",
    "S = {1,2,5,\"name\",3}\n",
    "D = {23:\"tower\",'B':43, 'C':\"CCD\"}\n",
    "\n",
    "print(L[1:3])\n",
    "print(L[::-1])\n",
    "print(T[:3])"
   ]
  },
  {
   "cell_type": "code",
   "execution_count": 50,
   "metadata": {},
   "outputs": [
    {
     "name": "stdout",
     "output_type": "stream",
     "text": [
      "[1, 3, 4, 'name', 3, 4, 5, 'Add new number']\n",
      "[1, 3, 4, 'name', 3, 6.8]\n",
      "[1, 3, 4, 3, 6.8]\n",
      "[1, 3, 'four point', 3, 6.8]\n",
      "[1, 3, 'second method', 3, 6.8]\n",
      "[3, 'four point', 3, 6.8]\n"
     ]
    }
   ],
   "source": [
    "L = [1,3,4,\"name\",3]\n",
    "\n",
    "L2 = L + [4,5,\"Add new number\"]\n",
    "print(L2)\n",
    "\n",
    "L.append(6.8)\n",
    "print(L)\n",
    "\n",
    "del L[3]\n",
    "print(L)\n",
    "\n",
    "L3 = L\n",
    "L3[2] = \"four point\"\n",
    "print(L3)\n",
    "\n",
    "L4 = L.copy()   # we use this for coply the value of L in L4\n",
    "L4[2] = \"second method\"\n",
    "print(L4)\n",
    "\n",
    "L5 = L[1:5]\n",
    "print(L5)"
   ]
  },
  {
   "cell_type": "code",
   "execution_count": 51,
   "metadata": {},
   "outputs": [
    {
     "name": "stdout",
     "output_type": "stream",
     "text": [
      "(1, 3, 5, 'name', 3, 'A', 'F', 45)\n"
     ]
    }
   ],
   "source": [
    "T1 = (1,3,5,\"name\",3)\n",
    "T2 = (\"A\", \"F\", 45)\n",
    "T3 = T1+T2\n",
    "print(T3)"
   ]
  },
  {
   "cell_type": "code",
   "execution_count": 52,
   "metadata": {},
   "outputs": [
    {
     "name": "stdout",
     "output_type": "stream",
     "text": [
      "{1, 2, 3, 5, 23, 'name', 'game'}\n",
      "{1, 2, 3, 5, 23, 'name'}\n"
     ]
    }
   ],
   "source": [
    "s = {1,2,5,\"name\",3}\n",
    "s.update({23,\"game\", 1})\n",
    "print(s)\n",
    "\n",
    "s.remove(\"game\")\n",
    "print(s)"
   ]
  },
  {
   "cell_type": "code",
   "execution_count": 53,
   "metadata": {},
   "outputs": [
    {
     "name": "stdout",
     "output_type": "stream",
     "text": [
      "{23: 'tower', 'B': 43, 'C': 'CCD', 'new key': 'Rishabh'}\n",
      "{23: 'tower', 'B': 43, 'new key': 'Rishabh'}\n",
      "{23: 'tower', 'B': 43, 'new key': 'Rishabh', 'y': 'YY', 'z': 10}\n"
     ]
    },
    {
     "data": {
      "text/plain": [
       "dict_items([(23, 'tower'), ('B', 43), ('new key', 'Rishabh'), ('y', 'YY'), ('z', 10)])"
      ]
     },
     "execution_count": 53,
     "metadata": {},
     "output_type": "execute_result"
    }
   ],
   "source": [
    "D = {23:\"tower\",'B':43, 'C':\"CCD\"}\n",
    "D[\"new key\"] = \"Rishabh\"\n",
    "print(D)\n",
    "\n",
    "del D['C']\n",
    "print(D)\n",
    "\n",
    "D2 = {\"y\": \"YY\", \"z\": 10}\n",
    "D.update(D2)\n",
    "print(D)\n",
    "\n",
    "D.items()"
   ]
  },
  {
   "cell_type": "code",
   "execution_count": null,
   "metadata": {},
   "outputs": [],
   "source": []
  },
  {
   "cell_type": "markdown",
   "metadata": {},
   "source": [
    "## Date time"
   ]
  },
  {
   "cell_type": "code",
   "execution_count": 16,
   "metadata": {},
   "outputs": [],
   "source": [
    "import os\n",
    "from os import path\n",
    "import datetime\n",
    "from datetime import date, time, datetime, timedelta\n",
    "import time"
   ]
  },
  {
   "cell_type": "code",
   "execution_count": 17,
   "metadata": {},
   "outputs": [
    {
     "name": "stdout",
     "output_type": "stream",
     "text": [
      "Today date 2022-09-01\n",
      "date component 1 9 2022\n",
      "Today is weekly is 3\n",
      "current time 2022-09-01 22:38:51.626671\n",
      "The current time is 22:38:51.626745\n"
     ]
    }
   ],
   "source": [
    "def main():\n",
    "    # get today date\n",
    "    today = date.today()\n",
    "    print('Today date',today)       \n",
    "    print('date component', today.day, today.month, today.year)\n",
    "    \n",
    "    # Retrieve today's weekday (0 = Monday, 6 = Sunday)\n",
    "    print('Today is weekly is', today.weekday())\n",
    "    \n",
    "    # today current time\n",
    "    today_time = datetime.now()\n",
    "    print('current time', today_time)\n",
    "    \n",
    "    # Get the current time\n",
    "    t = datetime.time(datetime.now())\n",
    "    print('The current time is',t)\n",
    "    \n",
    "main()"
   ]
  },
  {
   "cell_type": "code",
   "execution_count": 18,
   "metadata": {},
   "outputs": [
    {
     "name": "stdout",
     "output_type": "stream",
     "text": [
      "The current year is: 2022\n",
      "Thu, 01, September, 2022\n"
     ]
    }
   ],
   "source": [
    "from datetime import datetime\n",
    "\n",
    "def main():\n",
    "    now = datetime.now()\n",
    "    \n",
    "    # %y - Year, %A - weekday, %B - month, %d - day of month\n",
    "    print(now.strftime('The current year is: %Y' ))\n",
    "    print(now.strftime(\"%a, %d, %B, %Y\" ))\n",
    "    \n",
    "main()"
   ]
  },
  {
   "cell_type": "code",
   "execution_count": 21,
   "metadata": {},
   "outputs": [
    {
     "ename": "SyntaxError",
     "evalue": "invalid syntax (2475789331.py, line 11)",
     "output_type": "error",
     "traceback": [
      "\u001b[0;36m  File \u001b[0;32m\"/tmp/ipykernel_125930/2475789331.py\"\u001b[0;36m, line \u001b[0;32m11\u001b[0m\n\u001b[0;31m    print('One year from now it will be', str(now + timedelta(days=365)))\u001b[0m\n\u001b[0m    ^\u001b[0m\n\u001b[0;31mSyntaxError\u001b[0m\u001b[0;31m:\u001b[0m invalid syntax\n"
     ]
    }
   ],
   "source": [
    "import time\n",
    "import datetime\n",
    "from datetime import timedelta\n",
    "from datetime import date, time, datetime, timedelta\n",
    "\n",
    "print(timedelta(days=365, hours=5, minutes=1))\n",
    "\n",
    "now = datetime.now()\n",
    "print('Today',today_time\n",
    "\n",
    "print('One year from now it will be', str(now + timedelta(days=365)))\n",
    "\n",
    "print('In two weeks and 3 days it will be', str(now + timedelta(weeks=2, days=3)))\n",
    "\n",
    "#calculate the date 1 week ago formated as a string\n",
    "t = datetime.now() - timedelta(weeks=1)\n",
    "s = t.strftime(\"%A %B %d %Y\")\n",
    "print(\"One week ago it was\", s)"
   ]
  },
  {
   "cell_type": "code",
   "execution_count": 30,
   "metadata": {},
   "outputs": [
    {
     "name": "stdout",
     "output_type": "stream",
     "text": [
      "    January 2022\n",
      "Su Mo Tu We Th Fr Sa\n",
      "                   1\n",
      " 2  3  4  5  6  7  8\n",
      " 9 10 11 12 13 14 15\n",
      "16 17 18 19 20 21 22\n",
      "23 24 25 26 27 28 29\n",
      "30 31\n",
      "\n"
     ]
    }
   ],
   "source": [
    "## Calendar\n",
    "import calendar\n",
    "\n",
    "# Create Plain text calendar\n",
    "c = calendar.TextCalendar(calendar.SUNDAY)\n",
    "str = c.formatmonth(2022, 1, 0, 0)\n",
    "print(str)"
   ]
  },
  {
   "cell_type": "markdown",
   "metadata": {},
   "source": [
    "## Exercise-1\n",
    "\n",
    "## Date time"
   ]
  },
  {
   "cell_type": "code",
   "execution_count": 26,
   "metadata": {},
   "outputs": [
    {
     "name": "stdout",
     "output_type": "stream",
     "text": [
      "2022-09-01\n",
      "2022-09-01 00:00:00\n"
     ]
    }
   ],
   "source": [
    "## todat date\n",
    "import pandas as pd\n",
    "from datetime import date\n",
    "print(date.today())\n",
    "\n",
    "now = pd.to_datetime(str(date.today()), format='%Y-%m-%d')\n",
    "print(now)"
   ]
  },
  {
   "cell_type": "markdown",
   "metadata": {},
   "source": [
    "## Pivot table\n",
    "### In pivot table we can use aggr function but in pivot we cant use aggr fun"
   ]
  },
  {
   "cell_type": "code",
   "execution_count": 50,
   "metadata": {},
   "outputs": [
    {
     "data": {
      "text/html": [
       "<div>\n",
       "<style scoped>\n",
       "    .dataframe tbody tr th:only-of-type {\n",
       "        vertical-align: middle;\n",
       "    }\n",
       "\n",
       "    .dataframe tbody tr th {\n",
       "        vertical-align: top;\n",
       "    }\n",
       "\n",
       "    .dataframe thead th {\n",
       "        text-align: right;\n",
       "    }\n",
       "</style>\n",
       "<table border=\"1\" class=\"dataframe\">\n",
       "  <thead>\n",
       "    <tr style=\"text-align: right;\">\n",
       "      <th></th>\n",
       "      <th>OrderDate</th>\n",
       "      <th>Region</th>\n",
       "      <th>Manager</th>\n",
       "      <th>SalesMan</th>\n",
       "      <th>Item</th>\n",
       "      <th>Units</th>\n",
       "      <th>Unit_price</th>\n",
       "      <th>Sale_amt</th>\n",
       "    </tr>\n",
       "  </thead>\n",
       "  <tbody>\n",
       "    <tr>\n",
       "      <th>0</th>\n",
       "      <td>2018-01-06</td>\n",
       "      <td>East</td>\n",
       "      <td>Martha</td>\n",
       "      <td>Alexander</td>\n",
       "      <td>Television</td>\n",
       "      <td>95.00</td>\n",
       "      <td>1198.000</td>\n",
       "      <td>113810.00</td>\n",
       "    </tr>\n",
       "    <tr>\n",
       "      <th>1</th>\n",
       "      <td>2018-01-23</td>\n",
       "      <td>Central</td>\n",
       "      <td>Hermann</td>\n",
       "      <td>Shelli</td>\n",
       "      <td>Home Theater</td>\n",
       "      <td>50.00</td>\n",
       "      <td>500.000</td>\n",
       "      <td>25000.00</td>\n",
       "    </tr>\n",
       "    <tr>\n",
       "      <th>2</th>\n",
       "      <td>2018-02-09</td>\n",
       "      <td>Central</td>\n",
       "      <td>Hermann</td>\n",
       "      <td>Luis</td>\n",
       "      <td>Television</td>\n",
       "      <td>36.00</td>\n",
       "      <td>1198.000</td>\n",
       "      <td>43128.00</td>\n",
       "    </tr>\n",
       "    <tr>\n",
       "      <th>3</th>\n",
       "      <td>2018-02-26</td>\n",
       "      <td>Central</td>\n",
       "      <td>Timothy</td>\n",
       "      <td>David</td>\n",
       "      <td>Cell Phone</td>\n",
       "      <td>27.00</td>\n",
       "      <td>225.000</td>\n",
       "      <td>6075.00</td>\n",
       "    </tr>\n",
       "    <tr>\n",
       "      <th>4</th>\n",
       "      <td>2018-03-15</td>\n",
       "      <td>West</td>\n",
       "      <td>Timothy</td>\n",
       "      <td>Stephen</td>\n",
       "      <td>Television</td>\n",
       "      <td>56.00</td>\n",
       "      <td>1198.000</td>\n",
       "      <td>67088.00</td>\n",
       "    </tr>\n",
       "    <tr>\n",
       "      <th>5</th>\n",
       "      <td>2018-04-01</td>\n",
       "      <td>East</td>\n",
       "      <td>Martha</td>\n",
       "      <td>Alexander</td>\n",
       "      <td>Home Theater</td>\n",
       "      <td>60.00</td>\n",
       "      <td>500.000</td>\n",
       "      <td>30000.00</td>\n",
       "    </tr>\n",
       "    <tr>\n",
       "      <th>6</th>\n",
       "      <td>2018-04-18</td>\n",
       "      <td>Central</td>\n",
       "      <td>Martha</td>\n",
       "      <td>Steven</td>\n",
       "      <td>Television</td>\n",
       "      <td>75.00</td>\n",
       "      <td>1198.000</td>\n",
       "      <td>89850.00</td>\n",
       "    </tr>\n",
       "    <tr>\n",
       "      <th>7</th>\n",
       "      <td>2018-05-05</td>\n",
       "      <td>Central</td>\n",
       "      <td>Hermann</td>\n",
       "      <td>Luis</td>\n",
       "      <td>Television</td>\n",
       "      <td>90.00</td>\n",
       "      <td>1198.000</td>\n",
       "      <td>107820.00</td>\n",
       "    </tr>\n",
       "    <tr>\n",
       "      <th>8</th>\n",
       "      <td>2018-05-22</td>\n",
       "      <td>West</td>\n",
       "      <td>Douglas</td>\n",
       "      <td>Michael</td>\n",
       "      <td>Television</td>\n",
       "      <td>32.00</td>\n",
       "      <td>1198.000</td>\n",
       "      <td>38336.00</td>\n",
       "    </tr>\n",
       "    <tr>\n",
       "      <th>9</th>\n",
       "      <td>2018-06-08</td>\n",
       "      <td>East</td>\n",
       "      <td>Martha</td>\n",
       "      <td>Alexander</td>\n",
       "      <td>Home Theater</td>\n",
       "      <td>60.00</td>\n",
       "      <td>500.000</td>\n",
       "      <td>30000.00</td>\n",
       "    </tr>\n",
       "    <tr>\n",
       "      <th>10</th>\n",
       "      <td>2018-06-25</td>\n",
       "      <td>Central</td>\n",
       "      <td>Hermann</td>\n",
       "      <td>Sigal</td>\n",
       "      <td>Television</td>\n",
       "      <td>90.00</td>\n",
       "      <td>1198.000</td>\n",
       "      <td>107820.00</td>\n",
       "    </tr>\n",
       "    <tr>\n",
       "      <th>11</th>\n",
       "      <td>2018-07-12</td>\n",
       "      <td>East</td>\n",
       "      <td>Martha</td>\n",
       "      <td>Diana</td>\n",
       "      <td>Home Theater</td>\n",
       "      <td>29.00</td>\n",
       "      <td>500.000</td>\n",
       "      <td>14500.00</td>\n",
       "    </tr>\n",
       "    <tr>\n",
       "      <th>12</th>\n",
       "      <td>2018-07-29</td>\n",
       "      <td>East</td>\n",
       "      <td>Douglas</td>\n",
       "      <td>Karen</td>\n",
       "      <td>Home Theater</td>\n",
       "      <td>81.00</td>\n",
       "      <td>500.000</td>\n",
       "      <td>40500.00</td>\n",
       "    </tr>\n",
       "    <tr>\n",
       "      <th>13</th>\n",
       "      <td>2018-08-15</td>\n",
       "      <td>East</td>\n",
       "      <td>Martha</td>\n",
       "      <td>Alexander</td>\n",
       "      <td>Television</td>\n",
       "      <td>35.00</td>\n",
       "      <td>1198.000</td>\n",
       "      <td>41930.00</td>\n",
       "    </tr>\n",
       "    <tr>\n",
       "      <th>14</th>\n",
       "      <td>2018-09-01</td>\n",
       "      <td>Central</td>\n",
       "      <td>Douglas</td>\n",
       "      <td>John</td>\n",
       "      <td>Desk</td>\n",
       "      <td>2.00</td>\n",
       "      <td>125.000</td>\n",
       "      <td>250.00</td>\n",
       "    </tr>\n",
       "    <tr>\n",
       "      <th>15</th>\n",
       "      <td>2018-09-18</td>\n",
       "      <td>East</td>\n",
       "      <td>Martha</td>\n",
       "      <td>Alexander</td>\n",
       "      <td>Video Games</td>\n",
       "      <td>16.00</td>\n",
       "      <td>58.500</td>\n",
       "      <td>936.00</td>\n",
       "    </tr>\n",
       "    <tr>\n",
       "      <th>16</th>\n",
       "      <td>2018-10-05</td>\n",
       "      <td>Central</td>\n",
       "      <td>Hermann</td>\n",
       "      <td>Sigal</td>\n",
       "      <td>Home Theater</td>\n",
       "      <td>28.00</td>\n",
       "      <td>500.000</td>\n",
       "      <td>14000.00</td>\n",
       "    </tr>\n",
       "    <tr>\n",
       "      <th>17</th>\n",
       "      <td>2018-10-22</td>\n",
       "      <td>East</td>\n",
       "      <td>Martha</td>\n",
       "      <td>Alexander</td>\n",
       "      <td>Cell Phone</td>\n",
       "      <td>64.00</td>\n",
       "      <td>225.000</td>\n",
       "      <td>14400.00</td>\n",
       "    </tr>\n",
       "    <tr>\n",
       "      <th>18</th>\n",
       "      <td>2018-11-08</td>\n",
       "      <td>East</td>\n",
       "      <td>Douglas</td>\n",
       "      <td>Karen</td>\n",
       "      <td>Cell Phone</td>\n",
       "      <td>15.00</td>\n",
       "      <td>225.000</td>\n",
       "      <td>3375.00</td>\n",
       "    </tr>\n",
       "    <tr>\n",
       "      <th>19</th>\n",
       "      <td>2018-11-25</td>\n",
       "      <td>Central</td>\n",
       "      <td>Hermann</td>\n",
       "      <td>Shelli</td>\n",
       "      <td>Video Games</td>\n",
       "      <td>96.00</td>\n",
       "      <td>58.500</td>\n",
       "      <td>5616.00</td>\n",
       "    </tr>\n",
       "    <tr>\n",
       "      <th>20</th>\n",
       "      <td>2018-12-12</td>\n",
       "      <td>Central</td>\n",
       "      <td>Douglas</td>\n",
       "      <td>John</td>\n",
       "      <td>Television</td>\n",
       "      <td>67.00</td>\n",
       "      <td>1198.000</td>\n",
       "      <td>80266.00</td>\n",
       "    </tr>\n",
       "    <tr>\n",
       "      <th>21</th>\n",
       "      <td>2018-12-29</td>\n",
       "      <td>East</td>\n",
       "      <td>Douglas</td>\n",
       "      <td>Karen</td>\n",
       "      <td>Video Games</td>\n",
       "      <td>74.00</td>\n",
       "      <td>58.500</td>\n",
       "      <td>4329.00</td>\n",
       "    </tr>\n",
       "    <tr>\n",
       "      <th>22</th>\n",
       "      <td>2019-01-15</td>\n",
       "      <td>Central</td>\n",
       "      <td>Timothy</td>\n",
       "      <td>David</td>\n",
       "      <td>Home Theater</td>\n",
       "      <td>46.00</td>\n",
       "      <td>500.000</td>\n",
       "      <td>23000.00</td>\n",
       "    </tr>\n",
       "    <tr>\n",
       "      <th>23</th>\n",
       "      <td>2019-02-01</td>\n",
       "      <td>Central</td>\n",
       "      <td>Douglas</td>\n",
       "      <td>John</td>\n",
       "      <td>Home Theater</td>\n",
       "      <td>87.00</td>\n",
       "      <td>500.000</td>\n",
       "      <td>43500.00</td>\n",
       "    </tr>\n",
       "    <tr>\n",
       "      <th>24</th>\n",
       "      <td>2019-02-18</td>\n",
       "      <td>East</td>\n",
       "      <td>Martha</td>\n",
       "      <td>Alexander</td>\n",
       "      <td>Home Theater</td>\n",
       "      <td>4.00</td>\n",
       "      <td>500.000</td>\n",
       "      <td>2000.00</td>\n",
       "    </tr>\n",
       "    <tr>\n",
       "      <th>25</th>\n",
       "      <td>2019-03-07</td>\n",
       "      <td>West</td>\n",
       "      <td>Timothy</td>\n",
       "      <td>Stephen</td>\n",
       "      <td>Home Theater</td>\n",
       "      <td>7.00</td>\n",
       "      <td>500.000</td>\n",
       "      <td>3500.00</td>\n",
       "    </tr>\n",
       "    <tr>\n",
       "      <th>26</th>\n",
       "      <td>2019-03-24</td>\n",
       "      <td>Central</td>\n",
       "      <td>Hermann</td>\n",
       "      <td>Luis</td>\n",
       "      <td>Video Games</td>\n",
       "      <td>50.00</td>\n",
       "      <td>58.500</td>\n",
       "      <td>2925.00</td>\n",
       "    </tr>\n",
       "    <tr>\n",
       "      <th>27</th>\n",
       "      <td>2019-04-10</td>\n",
       "      <td>Central</td>\n",
       "      <td>Martha</td>\n",
       "      <td>Steven</td>\n",
       "      <td>Television</td>\n",
       "      <td>66.00</td>\n",
       "      <td>1198.000</td>\n",
       "      <td>79068.00</td>\n",
       "    </tr>\n",
       "    <tr>\n",
       "      <th>28</th>\n",
       "      <td>2019-04-27</td>\n",
       "      <td>East</td>\n",
       "      <td>Martha</td>\n",
       "      <td>Diana</td>\n",
       "      <td>Cell Phone</td>\n",
       "      <td>96.00</td>\n",
       "      <td>225.000</td>\n",
       "      <td>21600.00</td>\n",
       "    </tr>\n",
       "    <tr>\n",
       "      <th>29</th>\n",
       "      <td>2019-05-14</td>\n",
       "      <td>Central</td>\n",
       "      <td>Timothy</td>\n",
       "      <td>David</td>\n",
       "      <td>Television</td>\n",
       "      <td>53.00</td>\n",
       "      <td>1198.000</td>\n",
       "      <td>63494.00</td>\n",
       "    </tr>\n",
       "    <tr>\n",
       "      <th>30</th>\n",
       "      <td>2019-05-31</td>\n",
       "      <td>Central</td>\n",
       "      <td>Timothy</td>\n",
       "      <td>David</td>\n",
       "      <td>Home Theater</td>\n",
       "      <td>80.00</td>\n",
       "      <td>500.000</td>\n",
       "      <td>40000.00</td>\n",
       "    </tr>\n",
       "    <tr>\n",
       "      <th>31</th>\n",
       "      <td>2019-06-17</td>\n",
       "      <td>Central</td>\n",
       "      <td>Hermann</td>\n",
       "      <td>Shelli</td>\n",
       "      <td>Desk</td>\n",
       "      <td>5.00</td>\n",
       "      <td>125.000</td>\n",
       "      <td>625.00</td>\n",
       "    </tr>\n",
       "    <tr>\n",
       "      <th>32</th>\n",
       "      <td>2019-07-04</td>\n",
       "      <td>East</td>\n",
       "      <td>Martha</td>\n",
       "      <td>Alexander</td>\n",
       "      <td>Video Games</td>\n",
       "      <td>62.00</td>\n",
       "      <td>58.500</td>\n",
       "      <td>3627.00</td>\n",
       "    </tr>\n",
       "    <tr>\n",
       "      <th>33</th>\n",
       "      <td>2019-07-21</td>\n",
       "      <td>Central</td>\n",
       "      <td>Hermann</td>\n",
       "      <td>Sigal</td>\n",
       "      <td>Video Games</td>\n",
       "      <td>55.00</td>\n",
       "      <td>58.500</td>\n",
       "      <td>3217.50</td>\n",
       "    </tr>\n",
       "    <tr>\n",
       "      <th>34</th>\n",
       "      <td>2019-08-07</td>\n",
       "      <td>Central</td>\n",
       "      <td>Hermann</td>\n",
       "      <td>Shelli</td>\n",
       "      <td>Video Games</td>\n",
       "      <td>42.00</td>\n",
       "      <td>58.500</td>\n",
       "      <td>2457.00</td>\n",
       "    </tr>\n",
       "    <tr>\n",
       "      <th>35</th>\n",
       "      <td>2019-08-24</td>\n",
       "      <td>West</td>\n",
       "      <td>Timothy</td>\n",
       "      <td>Stephen</td>\n",
       "      <td>Desk</td>\n",
       "      <td>3.00</td>\n",
       "      <td>125.000</td>\n",
       "      <td>375.00</td>\n",
       "    </tr>\n",
       "    <tr>\n",
       "      <th>36</th>\n",
       "      <td>2019-09-10</td>\n",
       "      <td>Central</td>\n",
       "      <td>Timothy</td>\n",
       "      <td>David</td>\n",
       "      <td>Television</td>\n",
       "      <td>7.00</td>\n",
       "      <td>1198.000</td>\n",
       "      <td>8386.00</td>\n",
       "    </tr>\n",
       "    <tr>\n",
       "      <th>37</th>\n",
       "      <td>2019-09-27</td>\n",
       "      <td>West</td>\n",
       "      <td>Timothy</td>\n",
       "      <td>Stephen</td>\n",
       "      <td>Cell Phone</td>\n",
       "      <td>76.00</td>\n",
       "      <td>225.000</td>\n",
       "      <td>17100.00</td>\n",
       "    </tr>\n",
       "    <tr>\n",
       "      <th>38</th>\n",
       "      <td>2019-10-14</td>\n",
       "      <td>West</td>\n",
       "      <td>Douglas</td>\n",
       "      <td>Michael</td>\n",
       "      <td>Home Theater</td>\n",
       "      <td>57.00</td>\n",
       "      <td>500.000</td>\n",
       "      <td>28500.00</td>\n",
       "    </tr>\n",
       "    <tr>\n",
       "      <th>39</th>\n",
       "      <td>2019-10-31</td>\n",
       "      <td>Central</td>\n",
       "      <td>Martha</td>\n",
       "      <td>Steven</td>\n",
       "      <td>Television</td>\n",
       "      <td>14.00</td>\n",
       "      <td>1198.000</td>\n",
       "      <td>16772.00</td>\n",
       "    </tr>\n",
       "    <tr>\n",
       "      <th>40</th>\n",
       "      <td>2019-11-17</td>\n",
       "      <td>Central</td>\n",
       "      <td>Hermann</td>\n",
       "      <td>Luis</td>\n",
       "      <td>Home Theater</td>\n",
       "      <td>11.00</td>\n",
       "      <td>500.000</td>\n",
       "      <td>5500.00</td>\n",
       "    </tr>\n",
       "    <tr>\n",
       "      <th>41</th>\n",
       "      <td>2019-12-04</td>\n",
       "      <td>Central</td>\n",
       "      <td>Hermann</td>\n",
       "      <td>Luis</td>\n",
       "      <td>Home Theater</td>\n",
       "      <td>94.00</td>\n",
       "      <td>500.000</td>\n",
       "      <td>47000.00</td>\n",
       "    </tr>\n",
       "    <tr>\n",
       "      <th>42</th>\n",
       "      <td>2019-12-21</td>\n",
       "      <td>Central</td>\n",
       "      <td>Martha</td>\n",
       "      <td>Steven</td>\n",
       "      <td>Home Theater</td>\n",
       "      <td>28.00</td>\n",
       "      <td>500.000</td>\n",
       "      <td>14000.00</td>\n",
       "    </tr>\n",
       "    <tr>\n",
       "      <th>43</th>\n",
       "      <td>NaT</td>\n",
       "      <td>NaN</td>\n",
       "      <td>NaN</td>\n",
       "      <td>NaN</td>\n",
       "      <td>NaN</td>\n",
       "      <td>278.00</td>\n",
       "      <td>1125.000</td>\n",
       "      <td>62550.00</td>\n",
       "    </tr>\n",
       "    <tr>\n",
       "      <th>44</th>\n",
       "      <td>NaT</td>\n",
       "      <td>NaN</td>\n",
       "      <td>NaN</td>\n",
       "      <td>NaN</td>\n",
       "      <td>NaN</td>\n",
       "      <td>34.75</td>\n",
       "      <td>140.625</td>\n",
       "      <td>7818.75</td>\n",
       "    </tr>\n",
       "  </tbody>\n",
       "</table>\n",
       "</div>"
      ],
      "text/plain": [
       "    OrderDate   Region  Manager   SalesMan          Item   Units  Unit_price  \\\n",
       "0  2018-01-06     East   Martha  Alexander    Television   95.00    1198.000   \n",
       "1  2018-01-23  Central  Hermann     Shelli  Home Theater   50.00     500.000   \n",
       "2  2018-02-09  Central  Hermann       Luis    Television   36.00    1198.000   \n",
       "3  2018-02-26  Central  Timothy      David    Cell Phone   27.00     225.000   \n",
       "4  2018-03-15     West  Timothy    Stephen    Television   56.00    1198.000   \n",
       "5  2018-04-01     East   Martha  Alexander  Home Theater   60.00     500.000   \n",
       "6  2018-04-18  Central   Martha     Steven    Television   75.00    1198.000   \n",
       "7  2018-05-05  Central  Hermann       Luis    Television   90.00    1198.000   \n",
       "8  2018-05-22     West  Douglas    Michael    Television   32.00    1198.000   \n",
       "9  2018-06-08     East   Martha  Alexander  Home Theater   60.00     500.000   \n",
       "10 2018-06-25  Central  Hermann      Sigal    Television   90.00    1198.000   \n",
       "11 2018-07-12     East   Martha      Diana  Home Theater   29.00     500.000   \n",
       "12 2018-07-29     East  Douglas      Karen  Home Theater   81.00     500.000   \n",
       "13 2018-08-15     East   Martha  Alexander    Television   35.00    1198.000   \n",
       "14 2018-09-01  Central  Douglas       John          Desk    2.00     125.000   \n",
       "15 2018-09-18     East   Martha  Alexander   Video Games   16.00      58.500   \n",
       "16 2018-10-05  Central  Hermann      Sigal  Home Theater   28.00     500.000   \n",
       "17 2018-10-22     East   Martha  Alexander    Cell Phone   64.00     225.000   \n",
       "18 2018-11-08     East  Douglas      Karen    Cell Phone   15.00     225.000   \n",
       "19 2018-11-25  Central  Hermann     Shelli   Video Games   96.00      58.500   \n",
       "20 2018-12-12  Central  Douglas       John    Television   67.00    1198.000   \n",
       "21 2018-12-29     East  Douglas      Karen   Video Games   74.00      58.500   \n",
       "22 2019-01-15  Central  Timothy      David  Home Theater   46.00     500.000   \n",
       "23 2019-02-01  Central  Douglas       John  Home Theater   87.00     500.000   \n",
       "24 2019-02-18     East   Martha  Alexander  Home Theater    4.00     500.000   \n",
       "25 2019-03-07     West  Timothy    Stephen  Home Theater    7.00     500.000   \n",
       "26 2019-03-24  Central  Hermann       Luis   Video Games   50.00      58.500   \n",
       "27 2019-04-10  Central   Martha     Steven    Television   66.00    1198.000   \n",
       "28 2019-04-27     East   Martha      Diana    Cell Phone   96.00     225.000   \n",
       "29 2019-05-14  Central  Timothy      David    Television   53.00    1198.000   \n",
       "30 2019-05-31  Central  Timothy      David  Home Theater   80.00     500.000   \n",
       "31 2019-06-17  Central  Hermann     Shelli          Desk    5.00     125.000   \n",
       "32 2019-07-04     East   Martha  Alexander   Video Games   62.00      58.500   \n",
       "33 2019-07-21  Central  Hermann      Sigal   Video Games   55.00      58.500   \n",
       "34 2019-08-07  Central  Hermann     Shelli   Video Games   42.00      58.500   \n",
       "35 2019-08-24     West  Timothy    Stephen          Desk    3.00     125.000   \n",
       "36 2019-09-10  Central  Timothy      David    Television    7.00    1198.000   \n",
       "37 2019-09-27     West  Timothy    Stephen    Cell Phone   76.00     225.000   \n",
       "38 2019-10-14     West  Douglas    Michael  Home Theater   57.00     500.000   \n",
       "39 2019-10-31  Central   Martha     Steven    Television   14.00    1198.000   \n",
       "40 2019-11-17  Central  Hermann       Luis  Home Theater   11.00     500.000   \n",
       "41 2019-12-04  Central  Hermann       Luis  Home Theater   94.00     500.000   \n",
       "42 2019-12-21  Central   Martha     Steven  Home Theater   28.00     500.000   \n",
       "43        NaT      NaN      NaN        NaN           NaN  278.00    1125.000   \n",
       "44        NaT      NaN      NaN        NaN           NaN   34.75     140.625   \n",
       "\n",
       "     Sale_amt  \n",
       "0   113810.00  \n",
       "1    25000.00  \n",
       "2    43128.00  \n",
       "3     6075.00  \n",
       "4    67088.00  \n",
       "5    30000.00  \n",
       "6    89850.00  \n",
       "7   107820.00  \n",
       "8    38336.00  \n",
       "9    30000.00  \n",
       "10  107820.00  \n",
       "11   14500.00  \n",
       "12   40500.00  \n",
       "13   41930.00  \n",
       "14     250.00  \n",
       "15     936.00  \n",
       "16   14000.00  \n",
       "17   14400.00  \n",
       "18    3375.00  \n",
       "19    5616.00  \n",
       "20   80266.00  \n",
       "21    4329.00  \n",
       "22   23000.00  \n",
       "23   43500.00  \n",
       "24    2000.00  \n",
       "25    3500.00  \n",
       "26    2925.00  \n",
       "27   79068.00  \n",
       "28   21600.00  \n",
       "29   63494.00  \n",
       "30   40000.00  \n",
       "31     625.00  \n",
       "32    3627.00  \n",
       "33    3217.50  \n",
       "34    2457.00  \n",
       "35     375.00  \n",
       "36    8386.00  \n",
       "37   17100.00  \n",
       "38   28500.00  \n",
       "39   16772.00  \n",
       "40    5500.00  \n",
       "41   47000.00  \n",
       "42   14000.00  \n",
       "43   62550.00  \n",
       "44    7818.75  "
      ]
     },
     "execution_count": 50,
     "metadata": {},
     "output_type": "execute_result"
    }
   ],
   "source": [
    "import pandas as pd\n",
    "df = pd.read_excel('SaleData.xlsx')\n",
    "df"
   ]
  },
  {
   "cell_type": "code",
   "execution_count": 40,
   "metadata": {},
   "outputs": [
    {
     "data": {
      "text/html": [
       "<div>\n",
       "<style scoped>\n",
       "    .dataframe tbody tr th:only-of-type {\n",
       "        vertical-align: middle;\n",
       "    }\n",
       "\n",
       "    .dataframe tbody tr th {\n",
       "        vertical-align: top;\n",
       "    }\n",
       "\n",
       "    .dataframe thead th {\n",
       "        text-align: right;\n",
       "    }\n",
       "</style>\n",
       "<table border=\"1\" class=\"dataframe\">\n",
       "  <thead>\n",
       "    <tr style=\"text-align: right;\">\n",
       "      <th></th>\n",
       "      <th></th>\n",
       "      <th>Sale_amt</th>\n",
       "      <th>Unit_price</th>\n",
       "      <th>Units</th>\n",
       "    </tr>\n",
       "    <tr>\n",
       "      <th>Region</th>\n",
       "      <th>SalesMan</th>\n",
       "      <th></th>\n",
       "      <th></th>\n",
       "      <th></th>\n",
       "    </tr>\n",
       "  </thead>\n",
       "  <tbody>\n",
       "    <tr>\n",
       "      <th rowspan=\"6\" valign=\"top\">Central</th>\n",
       "      <th>David</th>\n",
       "      <td>28191.000000</td>\n",
       "      <td>724.200000</td>\n",
       "      <td>42.600000</td>\n",
       "    </tr>\n",
       "    <tr>\n",
       "      <th>John</th>\n",
       "      <td>41338.666667</td>\n",
       "      <td>607.666667</td>\n",
       "      <td>52.000000</td>\n",
       "    </tr>\n",
       "    <tr>\n",
       "      <th>Luis</th>\n",
       "      <td>41274.600000</td>\n",
       "      <td>690.900000</td>\n",
       "      <td>56.200000</td>\n",
       "    </tr>\n",
       "    <tr>\n",
       "      <th>Shelli</th>\n",
       "      <td>8424.500000</td>\n",
       "      <td>185.500000</td>\n",
       "      <td>48.250000</td>\n",
       "    </tr>\n",
       "    <tr>\n",
       "      <th>Sigal</th>\n",
       "      <td>41679.166667</td>\n",
       "      <td>585.500000</td>\n",
       "      <td>57.666667</td>\n",
       "    </tr>\n",
       "    <tr>\n",
       "      <th>Steven</th>\n",
       "      <td>49922.500000</td>\n",
       "      <td>1023.500000</td>\n",
       "      <td>45.750000</td>\n",
       "    </tr>\n",
       "    <tr>\n",
       "      <th rowspan=\"3\" valign=\"top\">East</th>\n",
       "      <th>Alexander</th>\n",
       "      <td>29587.875000</td>\n",
       "      <td>529.750000</td>\n",
       "      <td>49.500000</td>\n",
       "    </tr>\n",
       "    <tr>\n",
       "      <th>Diana</th>\n",
       "      <td>18050.000000</td>\n",
       "      <td>362.500000</td>\n",
       "      <td>62.500000</td>\n",
       "    </tr>\n",
       "    <tr>\n",
       "      <th>Karen</th>\n",
       "      <td>16068.000000</td>\n",
       "      <td>261.166667</td>\n",
       "      <td>56.666667</td>\n",
       "    </tr>\n",
       "    <tr>\n",
       "      <th rowspan=\"2\" valign=\"top\">West</th>\n",
       "      <th>Michael</th>\n",
       "      <td>33418.000000</td>\n",
       "      <td>849.000000</td>\n",
       "      <td>44.500000</td>\n",
       "    </tr>\n",
       "    <tr>\n",
       "      <th>Stephen</th>\n",
       "      <td>22015.750000</td>\n",
       "      <td>512.000000</td>\n",
       "      <td>35.500000</td>\n",
       "    </tr>\n",
       "  </tbody>\n",
       "</table>\n",
       "</div>"
      ],
      "text/plain": [
       "                       Sale_amt   Unit_price      Units\n",
       "Region  SalesMan                                       \n",
       "Central David      28191.000000   724.200000  42.600000\n",
       "        John       41338.666667   607.666667  52.000000\n",
       "        Luis       41274.600000   690.900000  56.200000\n",
       "        Shelli      8424.500000   185.500000  48.250000\n",
       "        Sigal      41679.166667   585.500000  57.666667\n",
       "        Steven     49922.500000  1023.500000  45.750000\n",
       "East    Alexander  29587.875000   529.750000  49.500000\n",
       "        Diana      18050.000000   362.500000  62.500000\n",
       "        Karen      16068.000000   261.166667  56.666667\n",
       "West    Michael    33418.000000   849.000000  44.500000\n",
       "        Stephen    22015.750000   512.000000  35.500000"
      ]
     },
     "execution_count": 40,
     "metadata": {},
     "output_type": "execute_result"
    }
   ],
   "source": [
    "pd.pivot_table(df,index=[\"Region\",\"SalesMan\"])"
   ]
  },
  {
   "cell_type": "code",
   "execution_count": 44,
   "metadata": {},
   "outputs": [
    {
     "data": {
      "text/html": [
       "<div>\n",
       "<style scoped>\n",
       "    .dataframe tbody tr th:only-of-type {\n",
       "        vertical-align: middle;\n",
       "    }\n",
       "\n",
       "    .dataframe tbody tr th {\n",
       "        vertical-align: top;\n",
       "    }\n",
       "\n",
       "    .dataframe thead th {\n",
       "        text-align: right;\n",
       "    }\n",
       "</style>\n",
       "<table border=\"1\" class=\"dataframe\">\n",
       "  <thead>\n",
       "    <tr style=\"text-align: right;\">\n",
       "      <th></th>\n",
       "      <th></th>\n",
       "      <th>Sale_amt</th>\n",
       "    </tr>\n",
       "    <tr>\n",
       "      <th>Region</th>\n",
       "      <th>Manager</th>\n",
       "      <th></th>\n",
       "    </tr>\n",
       "  </thead>\n",
       "  <tbody>\n",
       "    <tr>\n",
       "      <th rowspan=\"4\" valign=\"top\">Central</th>\n",
       "      <th>Douglas</th>\n",
       "      <td>124016.0</td>\n",
       "    </tr>\n",
       "    <tr>\n",
       "      <th>Hermann</th>\n",
       "      <td>365108.5</td>\n",
       "    </tr>\n",
       "    <tr>\n",
       "      <th>Martha</th>\n",
       "      <td>199690.0</td>\n",
       "    </tr>\n",
       "    <tr>\n",
       "      <th>Timothy</th>\n",
       "      <td>140955.0</td>\n",
       "    </tr>\n",
       "    <tr>\n",
       "      <th rowspan=\"2\" valign=\"top\">East</th>\n",
       "      <th>Douglas</th>\n",
       "      <td>48204.0</td>\n",
       "    </tr>\n",
       "    <tr>\n",
       "      <th>Martha</th>\n",
       "      <td>272803.0</td>\n",
       "    </tr>\n",
       "    <tr>\n",
       "      <th rowspan=\"2\" valign=\"top\">West</th>\n",
       "      <th>Douglas</th>\n",
       "      <td>66836.0</td>\n",
       "    </tr>\n",
       "    <tr>\n",
       "      <th>Timothy</th>\n",
       "      <td>88063.0</td>\n",
       "    </tr>\n",
       "  </tbody>\n",
       "</table>\n",
       "</div>"
      ],
      "text/plain": [
       "                 Sale_amt\n",
       "Region  Manager          \n",
       "Central Douglas  124016.0\n",
       "        Hermann  365108.5\n",
       "        Martha   199690.0\n",
       "        Timothy  140955.0\n",
       "East    Douglas   48204.0\n",
       "        Martha   272803.0\n",
       "West    Douglas   66836.0\n",
       "        Timothy   88063.0"
      ]
     },
     "execution_count": 44,
     "metadata": {},
     "output_type": "execute_result"
    }
   ],
   "source": [
    "## Write a Pandas program to create a Pivot table and find the total sale amount region wise, manager wise.\n",
    "pd.pivot_table(df, index = ['Region', 'Manager'], aggfunc = 'sum', values = 'Sale_amt' )"
   ]
  },
  {
   "cell_type": "code",
   "execution_count": 46,
   "metadata": {},
   "outputs": [
    {
     "data": {
      "text/html": [
       "<div>\n",
       "<style scoped>\n",
       "    .dataframe tbody tr th:only-of-type {\n",
       "        vertical-align: middle;\n",
       "    }\n",
       "\n",
       "    .dataframe tbody tr th {\n",
       "        vertical-align: top;\n",
       "    }\n",
       "\n",
       "    .dataframe thead th {\n",
       "        text-align: right;\n",
       "    }\n",
       "</style>\n",
       "<table border=\"1\" class=\"dataframe\">\n",
       "  <thead>\n",
       "    <tr style=\"text-align: right;\">\n",
       "      <th></th>\n",
       "      <th>Units</th>\n",
       "    </tr>\n",
       "    <tr>\n",
       "      <th>Item</th>\n",
       "      <th></th>\n",
       "    </tr>\n",
       "  </thead>\n",
       "  <tbody>\n",
       "    <tr>\n",
       "      <th>Cell Phone</th>\n",
       "      <td>278.0</td>\n",
       "    </tr>\n",
       "    <tr>\n",
       "      <th>Desk</th>\n",
       "      <td>10.0</td>\n",
       "    </tr>\n",
       "    <tr>\n",
       "      <th>Home Theater</th>\n",
       "      <td>722.0</td>\n",
       "    </tr>\n",
       "    <tr>\n",
       "      <th>Television</th>\n",
       "      <td>716.0</td>\n",
       "    </tr>\n",
       "    <tr>\n",
       "      <th>Video Games</th>\n",
       "      <td>395.0</td>\n",
       "    </tr>\n",
       "  </tbody>\n",
       "</table>\n",
       "</div>"
      ],
      "text/plain": [
       "              Units\n",
       "Item               \n",
       "Cell Phone    278.0\n",
       "Desk           10.0\n",
       "Home Theater  722.0\n",
       "Television    716.0\n",
       "Video Games   395.0"
      ]
     },
     "execution_count": 46,
     "metadata": {},
     "output_type": "execute_result"
    }
   ],
   "source": [
    "## Write a Pandas program to create a Pivot table and find the item wise unit sold.\n",
    "pd.pivot_table(df, index = 'Item', values = 'Units', aggfunc = 'sum')"
   ]
  },
  {
   "cell_type": "code",
   "execution_count": 56,
   "metadata": {},
   "outputs": [
    {
     "data": {
      "text/html": [
       "<div>\n",
       "<style scoped>\n",
       "    .dataframe tbody tr th:only-of-type {\n",
       "        vertical-align: middle;\n",
       "    }\n",
       "\n",
       "    .dataframe tbody tr th {\n",
       "        vertical-align: top;\n",
       "    }\n",
       "\n",
       "    .dataframe thead tr th {\n",
       "        text-align: left;\n",
       "    }\n",
       "\n",
       "    .dataframe thead tr:last-of-type th {\n",
       "        text-align: right;\n",
       "    }\n",
       "</style>\n",
       "<table border=\"1\" class=\"dataframe\">\n",
       "  <thead>\n",
       "    <tr>\n",
       "      <th></th>\n",
       "      <th>mean</th>\n",
       "      <th>sum</th>\n",
       "    </tr>\n",
       "    <tr>\n",
       "      <th></th>\n",
       "      <th>Sale_amt</th>\n",
       "      <th>Sale_amt</th>\n",
       "    </tr>\n",
       "    <tr>\n",
       "      <th>Region</th>\n",
       "      <th></th>\n",
       "      <th></th>\n",
       "    </tr>\n",
       "  </thead>\n",
       "  <tbody>\n",
       "    <tr>\n",
       "      <th>Central</th>\n",
       "      <td>34573.729167</td>\n",
       "      <td>829769.5</td>\n",
       "    </tr>\n",
       "    <tr>\n",
       "      <th>East</th>\n",
       "      <td>24692.846154</td>\n",
       "      <td>321007.0</td>\n",
       "    </tr>\n",
       "    <tr>\n",
       "      <th>West</th>\n",
       "      <td>25816.500000</td>\n",
       "      <td>154899.0</td>\n",
       "    </tr>\n",
       "  </tbody>\n",
       "</table>\n",
       "</div>"
      ],
      "text/plain": [
       "                 mean       sum\n",
       "             Sale_amt  Sale_amt\n",
       "Region                         \n",
       "Central  34573.729167  829769.5\n",
       "East     24692.846154  321007.0\n",
       "West     25816.500000  154899.0"
      ]
     },
     "execution_count": 56,
     "metadata": {},
     "output_type": "execute_result"
    }
   ],
   "source": [
    "## Write a Pandas program to create a Pivot table and count the manager wise sale and mean value of sale amount.\n",
    "pd.pivot_table(df, index = ['Region'], values = 'Sale_amt', aggfunc=[np.mean,sum])"
   ]
  },
  {
   "cell_type": "markdown",
   "metadata": {},
   "source": [
    "## Exercise-2\n"
   ]
  },
  {
   "cell_type": "markdown",
   "metadata": {},
   "source": [
    "Geeky shows youtube \"python concept youtube\""
   ]
  },
  {
   "cell_type": "markdown",
   "metadata": {},
   "source": [
    "### break, continue, Pass"
   ]
  },
  {
   "cell_type": "code",
   "execution_count": 3,
   "metadata": {},
   "outputs": [
    {
     "name": "stdout",
     "output_type": "stream",
     "text": [
      "How many candy: 6\n",
      "candy\n",
      "candy\n",
      "candy\n",
      "candy\n",
      "Bye\n"
     ]
    }
   ],
   "source": [
    "available = 4\n",
    "x = int(input(\"How many candy: \"))\n",
    "i = 1\n",
    "while i<=x:\n",
    "    if i > available:\n",
    "        break        # stop if loop is not true\n",
    "    print(\"candy\")\n",
    "    i = i+1\n",
    "print(\"Bye\")"
   ]
  },
  {
   "cell_type": "code",
   "execution_count": 9,
   "metadata": {},
   "outputs": [
    {
     "name": "stdout",
     "output_type": "stream",
     "text": [
      "1\n",
      "2\n",
      "4\n",
      "7\n",
      "8\n",
      "11\n",
      "13\n",
      "14\n",
      "16\n",
      "17\n",
      "19\n"
     ]
    }
   ],
   "source": [
    "# skip true condition (skip 3 & 5 value and other value will show)\n",
    "for i in range(1,20):\n",
    "    if i%3==0 or i%5==0:  \n",
    "        continue\n",
    "    print(i)"
   ]
  },
  {
   "cell_type": "code",
   "execution_count": 11,
   "metadata": {},
   "outputs": [
    {
     "name": "stdout",
     "output_type": "stream",
     "text": [
      "1\n",
      "3\n",
      "5\n",
      "7\n",
      "9\n"
     ]
    }
   ],
   "source": [
    "# if condition is True then will not happen any operation due to pass\n",
    "for i in range(1,10):\n",
    "    if (i%2 == 0):\n",
    "        pass\n",
    "    else:\n",
    "        print(i)"
   ]
  },
  {
   "cell_type": "markdown",
   "metadata": {},
   "source": [
    "## Function"
   ]
  },
  {
   "cell_type": "code",
   "execution_count": 12,
   "metadata": {},
   "outputs": [
    {
     "name": "stdout",
     "output_type": "stream",
     "text": [
      "11\n"
     ]
    }
   ],
   "source": [
    "def add(a,b):  # (a,b) is *Formal argument*\n",
    "    c = a+b\n",
    "    print(c)\n",
    "add(5,6)       # (5,6) is *Actual argument*"
   ]
  },
  {
   "cell_type": "markdown",
   "metadata": {},
   "source": [
    "**Actual argument is four types*\n",
    "* 1.Position\n",
    "* 2.keyword\n",
    "* 3.default\n",
    "* v4.ariable length"
   ]
  },
  {
   "cell_type": "code",
   "execution_count": 2,
   "metadata": {},
   "outputs": [
    {
     "name": "stdout",
     "output_type": "stream",
     "text": [
      "Navin\n",
      "24\n",
      "Navin\n",
      "28\n"
     ]
    }
   ],
   "source": [
    "def person(name, age):\n",
    "    print(name)\n",
    "    print(age)\n",
    "person('Navin',24)               # 24 is position\n",
    "person(name = 'Navin',age = 28)  # age =28 is keyword"
   ]
  },
  {
   "cell_type": "code",
   "execution_count": 3,
   "metadata": {},
   "outputs": [
    {
     "name": "stdout",
     "output_type": "stream",
     "text": [
      "Navin\n",
      "28\n"
     ]
    }
   ],
   "source": [
    "# Default\n",
    "# I want to pass name but i don't want to pass age\n",
    "\n",
    "def person(name , age = 18):\n",
    "    print(name)\n",
    "    print(age)\n",
    "person('Navin', 28)"
   ]
  },
  {
   "cell_type": "code",
   "execution_count": 4,
   "metadata": {},
   "outputs": [
    {
     "name": "stdout",
     "output_type": "stream",
     "text": [
      "11\n",
      "45\n",
      "123\n"
     ]
    }
   ],
   "source": [
    "## variable length\n",
    "def sum(a, *b):   # It * means multiple value\n",
    "    c = a\n",
    "    for i in b:\n",
    "        c = c + i\n",
    "        print(c)\n",
    "sum(5, 6,34, 78)"
   ]
  },
  {
   "cell_type": "markdown",
   "metadata": {},
   "source": [
    "## Global & Local Variables"
   ]
  },
  {
   "cell_type": "code",
   "execution_count": 1,
   "metadata": {},
   "outputs": [
    {
     "name": "stdout",
     "output_type": "stream",
     "text": [
      "10\n"
     ]
    }
   ],
   "source": [
    "a = 10\n",
    "def somethings():\n",
    "    a = 15\n",
    "    print(a)  ## Local variable\n",
    "print(a)      ## Global variable"
   ]
  },
  {
   "cell_type": "code",
   "execution_count": 2,
   "metadata": {},
   "outputs": [
    {
     "name": "stdout",
     "output_type": "stream",
     "text": [
      "Infunction 15\n",
      "outside 10\n"
     ]
    }
   ],
   "source": [
    "a = 10\n",
    "def something():\n",
    "    a = 15\n",
    "    print(\"Infunction\", a)   ## Local\n",
    "something()\n",
    "print(\"outside\", a)          ## Global"
   ]
  },
  {
   "cell_type": "code",
   "execution_count": 3,
   "metadata": {},
   "outputs": [
    {
     "name": "stdout",
     "output_type": "stream",
     "text": [
      "Infunction 15\n",
      "outside 15\n"
     ]
    }
   ],
   "source": [
    "a = 10\n",
    "def something():\n",
    "    global a                ## define global variable then the value in change inside the local\n",
    "    a = 15\n",
    "    print(\"Infunction\", a)   \n",
    "something()\n",
    "print(\"outside\", a)          "
   ]
  },
  {
   "cell_type": "markdown",
   "metadata": {},
   "source": [
    "## Recursion"
   ]
  },
  {
   "cell_type": "markdown",
   "metadata": {},
   "source": [
    "Recursion always return self function"
   ]
  },
  {
   "cell_type": "code",
   "execution_count": 4,
   "metadata": {},
   "outputs": [
    {
     "data": {
      "text/plain": [
       "120"
      ]
     },
     "execution_count": 4,
     "metadata": {},
     "output_type": "execute_result"
    }
   ],
   "source": [
    "def fact(n):\n",
    "    if n ==0:\n",
    "        return 1\n",
    "    return n*fact(n-1)\n",
    "result = fact(5)\n",
    "result"
   ]
  },
  {
   "cell_type": "markdown",
   "metadata": {},
   "source": [
    "## Lamda & Anonymus function"
   ]
  },
  {
   "cell_type": "code",
   "execution_count": 6,
   "metadata": {},
   "outputs": [
    {
     "data": {
      "text/plain": [
       "25"
      ]
     },
     "execution_count": 6,
     "metadata": {},
     "output_type": "execute_result"
    }
   ],
   "source": [
    "def square(a):\n",
    "    return a*a\n",
    "result = square(5)\n",
    "result"
   ]
  },
  {
   "cell_type": "code",
   "execution_count": 7,
   "metadata": {},
   "outputs": [
    {
     "data": {
      "text/plain": [
       "25"
      ]
     },
     "execution_count": 7,
     "metadata": {},
     "output_type": "execute_result"
    }
   ],
   "source": [
    "f = lambda a: a*a\n",
    "result = f(5)\n",
    "result"
   ]
  },
  {
   "cell_type": "code",
   "execution_count": 8,
   "metadata": {},
   "outputs": [
    {
     "data": {
      "text/plain": [
       "11"
      ]
     },
     "execution_count": 8,
     "metadata": {},
     "output_type": "execute_result"
    }
   ],
   "source": [
    "f = lambda a,b : a+b\n",
    "result = f(5,6)\n",
    "result"
   ]
  },
  {
   "cell_type": "code",
   "execution_count": 9,
   "metadata": {},
   "outputs": [
    {
     "data": {
      "text/plain": [
       "22"
      ]
     },
     "execution_count": 9,
     "metadata": {},
     "output_type": "execute_result"
    }
   ],
   "source": [
    "def myfunc(n):\n",
    "    return lambda a: a*n\n",
    "mydoubler = myfunc(2)\n",
    "mydoubler(11)"
   ]
  },
  {
   "cell_type": "markdown",
   "metadata": {},
   "source": [
    "## Filter() & Map() & Reduce() "
   ]
  },
  {
   "cell_type": "code",
   "execution_count": 11,
   "metadata": {},
   "outputs": [
    {
     "data": {
      "text/plain": [
       "[2, 6, 4, 6]"
      ]
     },
     "execution_count": 11,
     "metadata": {},
     "output_type": "execute_result"
    }
   ],
   "source": [
    "## Filter\n",
    "\n",
    "def is_even(n):\n",
    "    return n%2 ==0\n",
    "\n",
    "nums = [3,2,6,5,4,6,9]\n",
    "even =  list(filter(is_even, nums))\n",
    "even"
   ]
  },
  {
   "cell_type": "code",
   "execution_count": 13,
   "metadata": {},
   "outputs": [
    {
     "data": {
      "text/plain": [
       "[8, 2, 4, 6]"
      ]
     },
     "execution_count": 13,
     "metadata": {},
     "output_type": "execute_result"
    }
   ],
   "source": [
    "## Filter\n",
    "\n",
    "nums = [8,2,4,5,7,6,9]\n",
    "even =  list(filter(lambda n : n%2 == 0, nums))\n",
    "even"
   ]
  },
  {
   "cell_type": "code",
   "execution_count": 14,
   "metadata": {},
   "outputs": [
    {
     "data": {
      "text/plain": [
       "[6, 4, 12, 16, 8, 12, 4, 18]"
      ]
     },
     "execution_count": 14,
     "metadata": {},
     "output_type": "execute_result"
    }
   ],
   "source": [
    "## Map\n",
    "nums = [3,2,6,8,4,6,2,9]\n",
    "even =  list(filter(lambda n : n%2 == 0, nums))\n",
    "doubles =  list(map(lambda n : n*2, nums))\n",
    "doubles"
   ]
  },
  {
   "cell_type": "code",
   "execution_count": 15,
   "metadata": {},
   "outputs": [
    {
     "data": {
      "text/plain": [
       "80"
      ]
     },
     "execution_count": 15,
     "metadata": {},
     "output_type": "execute_result"
    }
   ],
   "source": [
    "## Reduce\n",
    "from functools import reduce\n",
    "\n",
    "def add_all(a,b):\n",
    "    return a+b\n",
    "\n",
    "nums = [3,2,6,8,4,6,2,9]\n",
    "even =  list(filter(lambda n : n%2 == 0, nums))\n",
    "doubles =  list(map(lambda n : n*2, nums))\n",
    "sums = reduce(lambda a, b : a+b, doubles)\n",
    "sums"
   ]
  },
  {
   "cell_type": "markdown",
   "metadata": {},
   "source": [
    "## Fibonacci sequence\n",
    "\n",
    "0,1,1,2,3,5,8,13,21"
   ]
  },
  {
   "cell_type": "code",
   "execution_count": 4,
   "metadata": {},
   "outputs": [
    {
     "name": "stdout",
     "output_type": "stream",
     "text": [
      "1\n",
      "2\n",
      "3\n",
      "5\n",
      "8\n",
      "13\n"
     ]
    }
   ],
   "source": [
    "def fib(n):\n",
    "    a=0\n",
    "    b=1\n",
    "    for i in range(2,n):\n",
    "        c=a+b\n",
    "        a=b\n",
    "        b=c   # a,b =b,c can use this\n",
    "        print(c)\n",
    "fib(8)"
   ]
  },
  {
   "cell_type": "markdown",
   "metadata": {},
   "source": [
    "## OOPs"
   ]
  },
  {
   "cell_type": "markdown",
   "metadata": {},
   "source": [
    "class variable     ----     We place out side                                               \n",
    "Instance variable  ----     we place inside this variable                                      "
   ]
  },
  {
   "cell_type": "code",
   "execution_count": 6,
   "metadata": {},
   "outputs": [
    {
     "name": "stdout",
     "output_type": "stream",
     "text": [
      "BMW 8 4\n",
      "BMW 10 4\n"
     ]
    }
   ],
   "source": [
    "class car:\n",
    "    wheels = 4               # class variable   \n",
    "    def __init__(self):      # constructor\n",
    "        self.mil = 10        # Instance variable\n",
    "        self.com = \"BMW\"\n",
    "c1 = car()\n",
    "c2 = car()\n",
    "c1.mil = 8\n",
    "print(c1.com, c1.mil, c1.wheels)\n",
    "print(c2.com, c2.mil, c2.wheels)"
   ]
  },
  {
   "cell_type": "code",
   "execution_count": 8,
   "metadata": {},
   "outputs": [
    {
     "name": "stdout",
     "output_type": "stream",
     "text": [
      "20.0\n"
     ]
    }
   ],
   "source": [
    "class student:\n",
    "    school = 'Colonal'\n",
    "    def __init__(self, m1,m2,m3):\n",
    "        self.m1 = m1\n",
    "        self.m2 = m2\n",
    "        self.m3 = m3\n",
    "    def avg(self):                              \n",
    "        return (self.m1 + self.m2 + self.m3)/3\n",
    "    def get_m1(self):\n",
    "        return self.m1                            ## get the value\n",
    "    def set_m1(self, value):\n",
    "        self.m1  = value                          ## set the value means change the m1 value\n",
    "\n",
    "s1 = student(10,20,30)\n",
    "s2 = student(10,20,30)\n",
    "print(s1.avg())\n"
   ]
  },
  {
   "cell_type": "markdown",
   "metadata": {},
   "source": [
    "### **object**  -- There is two types \n",
    "* variable\n",
    "* method  -- **Instance method, Class method, Static method**                                       \n",
    "The classmethod, staticmethod, property are Decorator"
   ]
  },
  {
   "cell_type": "code",
   "execution_count": 7,
   "metadata": {},
   "outputs": [
    {
     "data": {
      "text/plain": [
       "20.0"
      ]
     },
     "execution_count": 7,
     "metadata": {},
     "output_type": "execute_result"
    }
   ],
   "source": [
    "class student:\n",
    "    school = 'Colonal'\n",
    "    def __init__(self, m1,m2,m3):\n",
    "        self.m1 = m1\n",
    "        self.m2 = m2\n",
    "        self.m3 = m3\n",
    "    def avg(self):                                 ## Instance Method\n",
    "        return (self.m1 + self.m2 + self.m3)/3\n",
    "s1 = student(10,20,30)\n",
    "s1.avg()"
   ]
  },
  {
   "cell_type": "code",
   "execution_count": 9,
   "metadata": {},
   "outputs": [
    {
     "name": "stdout",
     "output_type": "stream",
     "text": [
      "Colonal\n"
     ]
    }
   ],
   "source": [
    "class student:\n",
    "    school = 'Colonal'                         # class variable\n",
    "    def __init__(self, m1,m2,m3):\n",
    "        self.m1 = m1\n",
    "        self.m2 = m2\n",
    "        self.m3 = m3\n",
    "    def avg(self):                              \n",
    "        return (self.m1 + self.m2 + self.m3)/3  \n",
    "    @classmethod\n",
    "    def info(cls):\n",
    "        return cls.school\n",
    "    \n",
    "    \"\"\" @classmethod hmesa class variable ko \n",
    "        access krne ke liye kiya jata hain  \"\"\"\n",
    "                  \n",
    "s1 = student(10,20,30)\n",
    "s2 = student(10,20,30)\n",
    "print(s1.info())"
   ]
  },
  {
   "cell_type": "code",
   "execution_count": 14,
   "metadata": {},
   "outputs": [
    {
     "name": "stdout",
     "output_type": "stream",
     "text": [
      "Colonal\n",
      "This is the student class\n",
      "None\n"
     ]
    }
   ],
   "source": [
    "class student:\n",
    "    school = 'Colonal'                         # class variable\n",
    "    def __init__(self, m1,m2,m3):\n",
    "        self.m1 = m1\n",
    "        self.m2 = m2\n",
    "        self.m3 = m3\n",
    "    def avg(self):                              \n",
    "        return (self.m1 + self.m2 + self.m3)/3  \n",
    "    @classmethod\n",
    "    def getschool(cls):\n",
    "        return cls.school\n",
    "    \n",
    "    @staticmethod\n",
    "    def info():\n",
    "        print(\"This is the student class\")\n",
    "    \n",
    "    \n",
    "    \"\"\" @staticmethod hmesa  apne function ko \n",
    "        run karta hai uuse class se matlab nhi hota hain  \"\"\"\n",
    "                  \n",
    "s1 = student(10,20,30)\n",
    "print(s1.getschool())\n",
    "print(student.info())"
   ]
  },
  {
   "cell_type": "code",
   "execution_count": 1,
   "metadata": {},
   "outputs": [
    {
     "data": {
      "text/plain": [
       "6100"
      ]
     },
     "execution_count": 1,
     "metadata": {},
     "output_type": "execute_result"
    }
   ],
   "source": [
    "class Employee:\n",
    "    company = \"Bharat Gas\"\n",
    "    salary = 5600\n",
    "    salarybonus = 500\n",
    "    \n",
    "    @property\n",
    "    def totalsalary(self):\n",
    "        return self.salary + self.salarybonus\n",
    "    \"\"\" @property decorator will give the output as a property only,.\n",
    "        It seems to be is property \"\"\"\n",
    "    \n",
    "e = Employee()\n",
    "e.totalsalary"
   ]
  },
  {
   "cell_type": "markdown",
   "metadata": {},
   "source": [
    "## Inner class in oops"
   ]
  },
  {
   "cell_type": "code",
   "execution_count": 16,
   "metadata": {},
   "outputs": [
    {
     "name": "stdout",
     "output_type": "stream",
     "text": [
      "HP\n",
      "Navin 2\n",
      "None\n"
     ]
    }
   ],
   "source": [
    "class student:\n",
    "    def __init__(self, name, roll_no):\n",
    "        self.name = name\n",
    "        self.roll_no = roll_no\n",
    "        self.lap = self.Laptop()\n",
    "    def show(self):\n",
    "        print(self.name, self.roll_no)\n",
    "        \n",
    "    class Laptop:\n",
    "        def __init__(self):\n",
    "            self.brand = 'HP'\n",
    "            self.cpu = 'i5'\n",
    "            self.ram = 8\n",
    "            \n",
    "s1 = student('Navin',2)\n",
    "s2 = student('Jerry',3)\n",
    "print(s1.lap.brand)\n",
    "print(s1.show())"
   ]
  },
  {
   "cell_type": "markdown",
   "metadata": {},
   "source": [
    "## Inheritance"
   ]
  },
  {
   "cell_type": "code",
   "execution_count": 48,
   "metadata": {},
   "outputs": [
    {
     "name": "stdout",
     "output_type": "stream",
     "text": [
      "feature 1 working\n",
      "None\n",
      "feature 2 working\n",
      "None\n",
      "feature 2 working\n",
      "None\n",
      "feature 3 working\n",
      "None\n",
      "feature 2 working\n",
      "None\n",
      "feature 4 working\n",
      "None\n"
     ]
    }
   ],
   "source": [
    "class A:                                     ## Super class/parent calss\n",
    "    def feature1(self):\n",
    "        print('feature 1 working')\n",
    "    def feature2(self):\n",
    "        print('feature 2 working')\n",
    "class B(A):                                 ## subclass/childclass\n",
    "    def feature3(self):\n",
    "        print('feature 3 working')\n",
    "    def feature4(self):\n",
    "        print('feature 4 working')\n",
    "class C(B):\n",
    "    def feature5(self):\n",
    "        print(\"feature 5 working\")\n",
    "        \n",
    "a1 = A()\n",
    "print(a1.feature1())\n",
    "print(a1.feature2())\n",
    "\n",
    "b1 = B()\n",
    "print(b1.feature2())   ## inheritance acces the super class\n",
    "print(b1.feature3())\n",
    "\n",
    "c1 = C()\n",
    "print(c1.feature2())\n",
    "print(c1.feature4())"
   ]
  },
  {
   "cell_type": "code",
   "execution_count": 53,
   "metadata": {},
   "outputs": [
    {
     "name": "stdout",
     "output_type": "stream",
     "text": [
      "In A init\n"
     ]
    },
    {
     "data": {
      "text/plain": [
       "<__main__.A at 0x7f64a0d8ff40>"
      ]
     },
     "execution_count": 53,
     "metadata": {},
     "output_type": "execute_result"
    }
   ],
   "source": [
    "class A:                                     ## Super class\n",
    "    def __init__(self):\n",
    "        print(\"In A init\")\n",
    "    def feature1(self):\n",
    "        print('feature 1 working')\n",
    "    def feature2(self):\n",
    "        print('feature 2 working')\n",
    "class B(A):                                 ## subclass/childclass\n",
    "    def __init__(self):\n",
    "        print(\"In B init\")\n",
    "    def feature3(self):\n",
    "        print('feature 3 working')\n",
    "    def feature4(self):\n",
    "        print('feature 4 working')\n",
    "        \n",
    "a1 = A()\n",
    "a1"
   ]
  },
  {
   "cell_type": "markdown",
   "metadata": {},
   "source": [
    "### **Super function**  super().__init__()\n",
    "* first print left then right\n",
    "* Function super, gives the super class value & child value as well.\n",
    "* How Constructor behaves in heritance\n",
    "* How to use super() in inheritance\n",
    "* Method Resolution order(MRO)\n"
   ]
  },
  {
   "cell_type": "code",
   "execution_count": 56,
   "metadata": {},
   "outputs": [
    {
     "name": "stdout",
     "output_type": "stream",
     "text": [
      "In A init\n",
      "In B init\n"
     ]
    },
    {
     "data": {
      "text/plain": [
       "<__main__.B at 0x7f64a0d8f5b0>"
      ]
     },
     "execution_count": 56,
     "metadata": {},
     "output_type": "execute_result"
    }
   ],
   "source": [
    "class A:                                     ## Super class\n",
    "    def __init__(self):\n",
    "        print(\"In A init\")\n",
    "    def feature1(self):\n",
    "        print('feature 1 working')\n",
    "    def feature2(self):\n",
    "        print('feature 2 working')\n",
    "\n",
    "class B(A):                                 \n",
    "    def __init__(self):\n",
    "        super().__init__()\n",
    "        print(\"In B init\")\n",
    "    def feature5(self):\n",
    "        print('feature 3 working')\n",
    "    def feature6(self):\n",
    "        print('feature 4 working')\n",
    "        \n",
    "b1 = B()\n",
    "b1"
   ]
  },
  {
   "cell_type": "code",
   "execution_count": 63,
   "metadata": {},
   "outputs": [
    {
     "name": "stdout",
     "output_type": "stream",
     "text": [
      "In A init\n",
      "In c init\n",
      "....\n",
      "feature 1-A working\n",
      "....\n",
      "feature 2 working\n"
     ]
    }
   ],
   "source": [
    "class A:                                     ## Super class\n",
    "    def __init__(self):\n",
    "        print(\"In A init\")\n",
    "    def feature1(self):\n",
    "        print('feature 1-A working')\n",
    "    def feature2(self):\n",
    "        print('feature 2 working')\n",
    "class B:                                 ## subclass/childclass\n",
    "    def __init__(self):\n",
    "        print(\"In B init\")\n",
    "    def feature1(self):\n",
    "        print('feature 1-B working')\n",
    "    def feature4(self):\n",
    "        print('feature 4 working')\n",
    "class C(A,B):                                 \n",
    "    def __init__(self):\n",
    "        super().__init__()\n",
    "        print(\"In c init\")\n",
    "    def feat(self):\n",
    "        super().feature2()\n",
    "    def feature6(self):\n",
    "        print('feature 6 working')\n",
    "        \n",
    "c1 = C()\n",
    "c1\n",
    "print(\"....\")\n",
    "c1.feature1()\n",
    "print(\"....\")\n",
    "c1.feat()"
   ]
  },
  {
   "cell_type": "code",
   "execution_count": null,
   "metadata": {},
   "outputs": [],
   "source": []
  }
 ],
 "metadata": {
  "kernelspec": {
   "display_name": "Python 3",
   "language": "python",
   "name": "python3"
  },
  "language_info": {
   "codemirror_mode": {
    "name": "ipython",
    "version": 3
   },
   "file_extension": ".py",
   "mimetype": "text/x-python",
   "name": "python",
   "nbconvert_exporter": "python",
   "pygments_lexer": "ipython3",
   "version": "3.8.10"
  }
 },
 "nbformat": 4,
 "nbformat_minor": 4
}
