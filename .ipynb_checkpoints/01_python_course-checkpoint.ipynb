{
 "cells": [
  {
   "cell_type": "markdown",
   "metadata": {},
   "source": [
    "# Useful function"
   ]
  },
  {
   "cell_type": "code",
   "execution_count": 1,
   "metadata": {},
   "outputs": [
    {
     "name": "stdout",
     "output_type": "stream",
     "text": [
      "4\n"
     ]
    }
   ],
   "source": [
    "print(round(4.345))"
   ]
  },
  {
   "cell_type": "code",
   "execution_count": 2,
   "metadata": {},
   "outputs": [
    {
     "name": "stdout",
     "output_type": "stream",
     "text": [
      "4.556\n"
     ]
    }
   ],
   "source": [
    "print(round(4.556389,3))"
   ]
  },
  {
   "cell_type": "code",
   "execution_count": 3,
   "metadata": {},
   "outputs": [
    {
     "name": "stdout",
     "output_type": "stream",
     "text": [
      "4.5568\n"
     ]
    }
   ],
   "source": [
    "print(round(4.556789,4))"
   ]
  },
  {
   "cell_type": "code",
   "execution_count": 4,
   "metadata": {},
   "outputs": [
    {
     "name": "stdout",
     "output_type": "stream",
     "text": [
      "(3, 7)\n",
      "<class 'tuple'>\n",
      "7\n"
     ]
    }
   ],
   "source": [
    "g = divmod(34,9)\n",
    "print(g)\n",
    "print(type(g))\n",
    "print(g[1])"
   ]
  },
  {
   "cell_type": "code",
   "execution_count": 5,
   "metadata": {},
   "outputs": [
    {
     "data": {
      "text/plain": [
       "True"
      ]
     },
     "execution_count": 5,
     "metadata": {},
     "output_type": "execute_result"
    }
   ],
   "source": [
    "isinstance(3,int)"
   ]
  },
  {
   "cell_type": "code",
   "execution_count": 6,
   "metadata": {},
   "outputs": [
    {
     "data": {
      "text/plain": [
       "False"
      ]
     },
     "execution_count": 6,
     "metadata": {},
     "output_type": "execute_result"
    }
   ],
   "source": [
    "isinstance(3.4, int)"
   ]
  },
  {
   "cell_type": "code",
   "execution_count": 7,
   "metadata": {},
   "outputs": [
    {
     "data": {
      "text/plain": [
       "True"
      ]
     },
     "execution_count": 7,
     "metadata": {},
     "output_type": "execute_result"
    }
   ],
   "source": [
    "isinstance(3.4, float)"
   ]
  },
  {
   "cell_type": "code",
   "execution_count": 8,
   "metadata": {},
   "outputs": [
    {
     "data": {
      "text/plain": [
       "True"
      ]
     },
     "execution_count": 8,
     "metadata": {},
     "output_type": "execute_result"
    }
   ],
   "source": [
    "isinstance(3.4,(int,float))"
   ]
  },
  {
   "cell_type": "code",
   "execution_count": 9,
   "metadata": {},
   "outputs": [
    {
     "data": {
      "text/plain": [
       "False"
      ]
     },
     "execution_count": 9,
     "metadata": {},
     "output_type": "execute_result"
    }
   ],
   "source": [
    "isinstance(3+3j, (int,float))"
   ]
  },
  {
   "cell_type": "code",
   "execution_count": 10,
   "metadata": {},
   "outputs": [
    {
     "data": {
      "text/plain": [
       "True"
      ]
     },
     "execution_count": 10,
     "metadata": {},
     "output_type": "execute_result"
    }
   ],
   "source": [
    "isinstance(2+3j, (int,float,str,complex))"
   ]
  },
  {
   "cell_type": "markdown",
   "metadata": {},
   "source": [
    "pow(x,y,z) x raise to the power y and remainder by z"
   ]
  },
  {
   "cell_type": "code",
   "execution_count": 11,
   "metadata": {},
   "outputs": [
    {
     "data": {
      "text/plain": [
       "16"
      ]
     },
     "execution_count": 11,
     "metadata": {},
     "output_type": "execute_result"
    }
   ],
   "source": [
    "pow(2,4)"
   ]
  },
  {
   "cell_type": "code",
   "execution_count": 12,
   "metadata": {},
   "outputs": [
    {
     "data": {
      "text/plain": [
       "16"
      ]
     },
     "execution_count": 12,
     "metadata": {},
     "output_type": "execute_result"
    }
   ],
   "source": [
    "2**4"
   ]
  },
  {
   "cell_type": "code",
   "execution_count": 13,
   "metadata": {},
   "outputs": [
    {
     "data": {
      "text/plain": [
       "2"
      ]
     },
     "execution_count": 13,
     "metadata": {},
     "output_type": "execute_result"
    }
   ],
   "source": [
    "pow(2,4,7)"
   ]
  },
  {
   "cell_type": "code",
   "execution_count": 14,
   "metadata": {},
   "outputs": [
    {
     "name": "stdout",
     "output_type": "stream",
     "text": [
      "Enter the Number:5\n"
     ]
    }
   ],
   "source": [
    "x = input(\"Enter the Number:\")"
   ]
  },
  {
   "cell_type": "code",
   "execution_count": 15,
   "metadata": {},
   "outputs": [
    {
     "data": {
      "text/plain": [
       "str"
      ]
     },
     "execution_count": 15,
     "metadata": {},
     "output_type": "execute_result"
    }
   ],
   "source": [
    "type(x)"
   ]
  },
  {
   "cell_type": "code",
   "execution_count": 16,
   "metadata": {},
   "outputs": [
    {
     "name": "stdout",
     "output_type": "stream",
     "text": [
      "5\n"
     ]
    },
    {
     "data": {
      "text/plain": [
       "int"
      ]
     },
     "execution_count": 16,
     "metadata": {},
     "output_type": "execute_result"
    }
   ],
   "source": [
    "z= int(x)\n",
    "print(z)\n",
    "type(z)\n"
   ]
  },
  {
   "cell_type": "markdown",
   "metadata": {},
   "source": [
    "# Control Flow"
   ]
  },
  {
   "cell_type": "code",
   "execution_count": 17,
   "metadata": {},
   "outputs": [
    {
     "name": "stdout",
     "output_type": "stream",
     "text": [
      "Enter marks80\n",
      "A++ grade\n"
     ]
    }
   ],
   "source": [
    "a = int(input(\"Enter marks\"))\n",
    "if a>=85:\n",
    "    print(\"A grade\")\n",
    "elif (a < 85) and (a>=80):\n",
    "    print(\"A++ grade\")\n",
    "elif (a < 80) and (a >= 70):\n",
    "    print(\"b grade\")\n",
    "else:\n",
    "    print(\"Below Average\")"
   ]
  },
  {
   "cell_type": "code",
   "execution_count": 18,
   "metadata": {},
   "outputs": [
    {
     "name": "stdout",
     "output_type": "stream",
     "text": [
      "30\n",
      "a is greater than 10\n",
      "a is greater than 20\n",
      "a is less than 30\n",
      "outside all file\n"
     ]
    }
   ],
   "source": [
    "a = int(input())\n",
    "if a>10:\n",
    "    print(\"a is greater than 10\")\n",
    "    if a>20:\n",
    "        print(\"a is greater than 20\")\n",
    "        if a>30:\n",
    "            print(\"a is greater than 30\")\n",
    "        else:\n",
    "            print(\"a is less than 30\"          \n",
    "    else:\n",
    "        print(\"a is less than 20\")\n",
    "print(\"outside all file\")        "
   ]
  },
  {
   "cell_type": "code",
   "execution_count": 19,
   "metadata": {},
   "outputs": [
    {
     "name": "stdout",
     "output_type": "stream",
     "text": [
      "Enter the real number32\n",
      "32\n"
     ]
    }
   ],
   "source": [
    "x = float(input(\"Enter the real number\"))\n",
    "y = round(x)\n",
    "if x>0:\n",
    "    if y>x:\n",
    "        inportion = y-1 #29.6\n",
    "    else:\n",
    "        inportion = y\n",
    "else:\n",
    "    if y>x:\n",
    "        inportion = y+1\n",
    "    else:\n",
    "        inportion = y\n",
    "        \n",
    "print(inportion)        "
   ]
  },
  {
   "cell_type": "code",
   "execution_count": 20,
   "metadata": {},
   "outputs": [
    {
     "name": "stdout",
     "output_type": "stream",
     "text": [
      "3\n",
      "1\n",
      "This is iteration: 1\n",
      "4\n",
      "This is iteration: 2\n",
      "loop closed\n"
     ]
    }
   ],
   "source": [
    "n = int(input())\n",
    "i = 1\n",
    "while i < n:\n",
    "    print(i**2)\n",
    "    print(\"This is iteration:\", i)\n",
    "    i+=1  #i = i+1\n",
    "print(\"loop closed\")    "
   ]
  },
  {
   "cell_type": "code",
   "execution_count": 56,
   "metadata": {},
   "outputs": [
    {
     "name": "stdout",
     "output_type": "stream",
     "text": [
      "inside else\n",
      "inside else\n",
      "inside else\n",
      "inside else\n",
      "inside if\n",
      "Done\n"
     ]
    }
   ],
   "source": [
    "i = 1\n",
    "while True:\n",
    "    if i%5 == 0:\n",
    "        print(\"inside if\")\n",
    "        break\n",
    "    else:\n",
    "        print(\"inside else\")\n",
    "        i+=1\n",
    "print(\"Done\")        "
   ]
  },
  {
   "cell_type": "code",
   "execution_count": 55,
   "metadata": {},
   "outputs": [
    {
     "name": "stdout",
     "output_type": "stream",
     "text": [
      "inside the code\n",
      "inside the code\n",
      "inside the code\n",
      "inside the code\n",
      "inside the code\n",
      "something\n",
      "Done\n"
     ]
    }
   ],
   "source": [
    "i = 1\n",
    "while True:\n",
    "    if i%6 != 0:\n",
    "        print(\"inside the code\")\n",
    "        i+=1\n",
    "        continue\n",
    "    print(\"something\")\n",
    "    break\n",
    "        \n",
    "print(\"Done\") "
   ]
  },
  {
   "cell_type": "code",
   "execution_count": 54,
   "metadata": {},
   "outputs": [
    {
     "name": "stdout",
     "output_type": "stream",
     "text": [
      "0\n",
      "1\n",
      "2\n",
      "3\n",
      "4\n",
      "[0, 1, 4, 9, 16]\n"
     ]
    }
   ],
   "source": [
    "L = []\n",
    "for i in range(5):\n",
    "    print(i)\n",
    "    L.append(i**2)\n",
    "print(L)    "
   ]
  },
  {
   "cell_type": "markdown",
   "metadata": {},
   "source": [
    "# Else in for loop:"
   ]
  },
  {
   "cell_type": "code",
   "execution_count": 24,
   "metadata": {},
   "outputs": [
    {
     "name": "stdout",
     "output_type": "stream",
     "text": [
      "apple\n",
      "4.8\n",
      "cherry\n"
     ]
    }
   ],
   "source": [
    "s = {\"apple\", 4.8, \"cherry\"}\n",
    "i = 0\n",
    "for x in s:\n",
    "    print(x)\n",
    "    i+=1\n",
    "    if i==3:\n",
    "        break\n",
    "    else:\n",
    "        pass        \n",
    "else:\n",
    "    print(\"Loop terminate with succes\")"
   ]
  },
  {
   "cell_type": "code",
   "execution_count": 25,
   "metadata": {},
   "outputs": [
    {
     "name": "stdout",
     "output_type": "stream",
     "text": [
      "A 10\n",
      "B 14\n",
      "C 18\n"
     ]
    }
   ],
   "source": [
    "D = {\"A\":10, \"B\":14, \"C\":18}\n",
    "for x in D:\n",
    "    print(x, D[x])"
   ]
  },
  {
   "cell_type": "markdown",
   "metadata": {},
   "source": [
    "# Function:"
   ]
  },
  {
   "cell_type": "code",
   "execution_count": 26,
   "metadata": {},
   "outputs": [
    {
     "name": "stdout",
     "output_type": "stream",
     "text": [
      "hello\n"
     ]
    }
   ],
   "source": [
    "# Function (Doc string)\n",
    "\n",
    "def succesful():\n",
    "    print(\"hello\")\n",
    "succesful()   "
   ]
  },
  {
   "cell_type": "code",
   "execution_count": 27,
   "metadata": {},
   "outputs": [
    {
     "name": "stdout",
     "output_type": "stream",
     "text": [
      "This is mssg\n",
      "your input is not string\n",
      "23\n"
     ]
    }
   ],
   "source": [
    "def printmsg(msg):\n",
    "    if isinstance(msg,str):\n",
    "        print(msg)\n",
    "    else:\n",
    "        print(\"your input is not string\")\n",
    "printmsg(\"This is mssg\") \n",
    "printmsg(23)\n",
    "printmsg(\"23\")"
   ]
  },
  {
   "cell_type": "code",
   "execution_count": 28,
   "metadata": {},
   "outputs": [
    {
     "data": {
      "text/plain": [
       "8"
      ]
     },
     "execution_count": 28,
     "metadata": {},
     "output_type": "execute_result"
    }
   ],
   "source": [
    "# function(input argument)\n",
    "def mypow(a,b):\n",
    "    c = a**b\n",
    "    return c   #print(c)\n",
    "mypow(2,3)"
   ]
  },
  {
   "cell_type": "code",
   "execution_count": 29,
   "metadata": {},
   "outputs": [
    {
     "name": "stdout",
     "output_type": "stream",
     "text": [
      "A is : 2\n",
      "B is : 3\n",
      "C is : game\n",
      "if i put this function\n",
      "A is : 3\n",
      "B is : 4\n",
      "C is : name\n"
     ]
    }
   ],
   "source": [
    "# Function (order of input argument)\n",
    "def f(a,b,c):\n",
    "    print(\"A is :\",a)\n",
    "    print(\"B is :\",b)\n",
    "    print(\"C is :\",c)\n",
    "f(2,3,\"game\")\n",
    "print(\"if i put this function\")\n",
    "f(a= 3, b = 4, c= \"name\")"
   ]
  },
  {
   "cell_type": "code",
   "execution_count": 30,
   "metadata": {},
   "outputs": [
    {
     "name": "stdout",
     "output_type": "stream",
     "text": [
      "3\n"
     ]
    }
   ],
   "source": [
    "vals = 3\n",
    "def mygroup():\n",
    "    print(vals)\n",
    "mygroup()    "
   ]
  },
  {
   "cell_type": "code",
   "execution_count": 31,
   "metadata": {},
   "outputs": [
    {
     "name": "stdout",
     "output_type": "stream",
     "text": [
      "5 7 something\n"
     ]
    }
   ],
   "source": [
    "# Function(return statement)\n",
    "\n",
    "def r():\n",
    "    a = 5\n",
    "    b = 7\n",
    "    d = \"something\"\n",
    "    return a,b,d\n",
    "x,y,z = r()\n",
    "print(x,y,z)"
   ]
  },
  {
   "cell_type": "code",
   "execution_count": 32,
   "metadata": {},
   "outputs": [
    {
     "name": "stdout",
     "output_type": "stream",
     "text": [
      "20\n"
     ]
    }
   ],
   "source": [
    "def myadd(*args):\n",
    "    s = 0\n",
    "    for i in range(len(args)):\n",
    "        s = s + args[i]\n",
    "    return s   \n",
    "print(myadd(2,3,4,5,6))"
   ]
  },
  {
   "cell_type": "code",
   "execution_count": 33,
   "metadata": {},
   "outputs": [
    {
     "name": "stdout",
     "output_type": "stream",
     "text": [
      "1\n",
      "2\n",
      "default value\n",
      "4\n",
      "9\n"
     ]
    }
   ],
   "source": [
    "#Default value\n",
    "\n",
    "def ff(L=[1,2]):\n",
    "    for i in L:\n",
    "        print(i)\n",
    "ff()\n",
    "print(\"default value\")\n",
    "L2= [4,9]\n",
    "ff(L2)"
   ]
  },
  {
   "cell_type": "markdown",
   "metadata": {},
   "source": [
    "# String"
   ]
  },
  {
   "cell_type": "code",
   "execution_count": 38,
   "metadata": {},
   "outputs": [
    {
     "name": "stdout",
     "output_type": "stream",
     "text": [
      "python is a good language its good for data science\n",
      "hellow 12 hellow who are you 5.9\n"
     ]
    }
   ],
   "source": [
    "s = \"python is a good language\"\n",
    "t = \"its good for data science\"\n",
    "\n",
    "v = s+\" \"+t\n",
    "print(v)\n",
    "print(\"hellow\",12, \"hellow\", \"who are you\", 5.9)\n"
   ]
  },
  {
   "cell_type": "code",
   "execution_count": 39,
   "metadata": {},
   "outputs": [
    {
     "name": "stdout",
     "output_type": "stream",
     "text": [
      "The price of this book is: 12\n"
     ]
    }
   ],
   "source": [
    "price = 12\n",
    "s = \"The price of this book\"\n",
    "v = s + ' is: ' + str(price)\n",
    "print(v)"
   ]
  },
  {
   "cell_type": "code",
   "execution_count": 40,
   "metadata": {},
   "outputs": [
    {
     "name": "stdout",
     "output_type": "stream",
     "text": [
      "this is line 1\n",
      "this is line 2\n",
      "this is line 3\n"
     ]
    }
   ],
   "source": [
    "a = \"\"\"this is line 1\n",
    "this is line 2\n",
    "this is line 3\"\"\"\n",
    "print(a)"
   ]
  },
  {
   "cell_type": "code",
   "execution_count": 41,
   "metadata": {},
   "outputs": [
    {
     "name": "stdout",
     "output_type": "stream",
     "text": [
      "a lot pf space at the    beginning\n"
     ]
    }
   ],
   "source": [
    "a = \"     a lot pf space at the    beginning      \"\n",
    "b = a.strip() # remove the extra space\n",
    "print(b)"
   ]
  },
  {
   "cell_type": "code",
   "execution_count": 42,
   "metadata": {},
   "outputs": [
    {
     "name": "stdout",
     "output_type": "stream",
     "text": [
      "abc defg ;; sadfa  qf\n",
      "ABC DEFG ;; SADFA  QF\n",
      "ABC deFg **$$**$$ sadfa  QF\n"
     ]
    }
   ],
   "source": [
    "a = \"ABC deFg ;; sadfa  QF\"\n",
    "b = a.lower()  # convert lower value of alphabat\n",
    "c = a.upper()  # convert upper value of alphabat\n",
    "d = a.replace(\";\",\"**$$\") # replace the (; ,) in **$$\n",
    "print(b)\n",
    "print(c)\n",
    "print(d)"
   ]
  },
  {
   "cell_type": "code",
   "execution_count": 43,
   "metadata": {},
   "outputs": [
    {
     "name": "stdout",
     "output_type": "stream",
     "text": [
      "['and', 'myname', 'employee', 'function']\n"
     ]
    }
   ],
   "source": [
    "a = \"and;myname;employee;function\"\n",
    "L = a.split(\";\")\n",
    "print(L)"
   ]
  },
  {
   "cell_type": "markdown",
   "metadata": {},
   "source": [
    "# List, Tuple, Set, Dictionary\n",
    "# Data structure"
   ]
  },
  {
   "cell_type": "code",
   "execution_count": null,
   "metadata": {},
   "outputs": [],
   "source": [
    "\"\"\"Data structure\n",
    "\n",
    "List         orderd      changable             duplicate\n",
    "Tuple        orderd      unchangable           duplicate\n",
    "set          unorderd    addable/removable     no duplicate\n",
    "Dictionary   unorderd    changable             no duplicate\n",
    "\n",
    "\"\"\"\""
   ]
  },
  {
   "cell_type": "code",
   "execution_count": 46,
   "metadata": {},
   "outputs": [
    {
     "name": "stdout",
     "output_type": "stream",
     "text": [
      "<class 'list'>\n",
      "<class 'tuple'>\n",
      "<class 'set'>\n",
      "<class 'dict'>\n"
     ]
    }
   ],
   "source": [
    "L = [1,3,4,\"name\",3]\n",
    "T = (1,3,5,\"name\",3)\n",
    "S = {1,2,5,\"name\",3}\n",
    "D = {23:\"tower\",'B':43, 'C':\"CCD\"}\n",
    "print(type(L))\n",
    "print(type(T))\n",
    "print(type(S))\n",
    "print(type(D))"
   ]
  },
  {
   "cell_type": "code",
   "execution_count": 47,
   "metadata": {},
   "outputs": [
    {
     "name": "stdout",
     "output_type": "stream",
     "text": [
      "3\n",
      "3\n",
      "True\n",
      "tower\n"
     ]
    }
   ],
   "source": [
    "print(L[1])\n",
    "print(T[1])\n",
    "print(3 in S)\n",
    "print(D[23])"
   ]
  },
  {
   "cell_type": "code",
   "execution_count": 49,
   "metadata": {},
   "outputs": [
    {
     "name": "stdout",
     "output_type": "stream",
     "text": [
      "[3, 4]\n",
      "[3, 'name', 4, 3, 1]\n",
      "(1, 3, 5)\n"
     ]
    }
   ],
   "source": [
    "L = [1,3,4,\"name\",3]\n",
    "T = (1,3,5,\"name\",3)\n",
    "S = {1,2,5,\"name\",3}\n",
    "D = {23:\"tower\",'B':43, 'C':\"CCD\"}\n",
    "\n",
    "print(L[1:3])\n",
    "print(L[::-1])\n",
    "print(T[:3])"
   ]
  },
  {
   "cell_type": "code",
   "execution_count": 50,
   "metadata": {},
   "outputs": [
    {
     "name": "stdout",
     "output_type": "stream",
     "text": [
      "[1, 3, 4, 'name', 3, 4, 5, 'Add new number']\n",
      "[1, 3, 4, 'name', 3, 6.8]\n",
      "[1, 3, 4, 3, 6.8]\n",
      "[1, 3, 'four point', 3, 6.8]\n",
      "[1, 3, 'second method', 3, 6.8]\n",
      "[3, 'four point', 3, 6.8]\n"
     ]
    }
   ],
   "source": [
    "L = [1,3,4,\"name\",3]\n",
    "\n",
    "L2 = L + [4,5,\"Add new number\"]\n",
    "print(L2)\n",
    "\n",
    "L.append(6.8)\n",
    "print(L)\n",
    "\n",
    "del L[3]\n",
    "print(L)\n",
    "\n",
    "L3 = L\n",
    "L3[2] = \"four point\"\n",
    "print(L3)\n",
    "\n",
    "L4 = L.copy()   # we use this for coply the value of L in L4\n",
    "L4[2] = \"second method\"\n",
    "print(L4)\n",
    "\n",
    "L5 = L[1:5]\n",
    "print(L5)"
   ]
  },
  {
   "cell_type": "code",
   "execution_count": 51,
   "metadata": {},
   "outputs": [
    {
     "name": "stdout",
     "output_type": "stream",
     "text": [
      "(1, 3, 5, 'name', 3, 'A', 'F', 45)\n"
     ]
    }
   ],
   "source": [
    "T1 = (1,3,5,\"name\",3)\n",
    "T2 = (\"A\", \"F\", 45)\n",
    "T3 = T1+T2\n",
    "print(T3)"
   ]
  },
  {
   "cell_type": "code",
   "execution_count": 52,
   "metadata": {},
   "outputs": [
    {
     "name": "stdout",
     "output_type": "stream",
     "text": [
      "{1, 2, 3, 5, 23, 'name', 'game'}\n",
      "{1, 2, 3, 5, 23, 'name'}\n"
     ]
    }
   ],
   "source": [
    "s = {1,2,5,\"name\",3}\n",
    "s.update({23,\"game\", 1})\n",
    "print(s)\n",
    "\n",
    "s.remove(\"game\")\n",
    "print(s)"
   ]
  },
  {
   "cell_type": "code",
   "execution_count": 53,
   "metadata": {},
   "outputs": [
    {
     "name": "stdout",
     "output_type": "stream",
     "text": [
      "{23: 'tower', 'B': 43, 'C': 'CCD', 'new key': 'Rishabh'}\n",
      "{23: 'tower', 'B': 43, 'new key': 'Rishabh'}\n",
      "{23: 'tower', 'B': 43, 'new key': 'Rishabh', 'y': 'YY', 'z': 10}\n"
     ]
    },
    {
     "data": {
      "text/plain": [
       "dict_items([(23, 'tower'), ('B', 43), ('new key', 'Rishabh'), ('y', 'YY'), ('z', 10)])"
      ]
     },
     "execution_count": 53,
     "metadata": {},
     "output_type": "execute_result"
    }
   ],
   "source": [
    "D = {23:\"tower\",'B':43, 'C':\"CCD\"}\n",
    "D[\"new key\"] = \"Rishabh\"\n",
    "print(D)\n",
    "\n",
    "del D['C']\n",
    "print(D)\n",
    "\n",
    "D2 = {\"y\": \"YY\", \"z\": 10}\n",
    "D.update(D2)\n",
    "print(D)\n",
    "\n",
    "D.items()"
   ]
  },
  {
   "cell_type": "code",
   "execution_count": null,
   "metadata": {},
   "outputs": [],
   "source": []
  },
  {
   "cell_type": "markdown",
   "metadata": {},
   "source": [
    "## Date time"
   ]
  },
  {
   "cell_type": "code",
   "execution_count": 9,
   "metadata": {},
   "outputs": [],
   "source": [
    "import os\n",
    "from os import path\n",
    "import datetime\n",
    "from datetime import date, time, datetime, timedelta\n",
    "import time"
   ]
  },
  {
   "cell_type": "code",
   "execution_count": 10,
   "metadata": {},
   "outputs": [
    {
     "name": "stdout",
     "output_type": "stream",
     "text": [
      "Today date 2022-03-01\n",
      "date component 1 3 2022\n",
      "Today is weekly is 1\n",
      "current time 2022-03-01 23:40:24.385274\n",
      "The current time is 23:40:24.385344\n"
     ]
    }
   ],
   "source": [
    "def main():\n",
    "    # get today date\n",
    "    today = date.today()\n",
    "    print('Today date',today)       \n",
    "    print('date component', today.day, today.month, today.year)\n",
    "    \n",
    "    # Retrieve today's weekday (0 = Monday, 6 = Sunday)\n",
    "    print('Today is weekly is', today.weekday())\n",
    "    \n",
    "    # today current time\n",
    "    today_time = datetime.now()\n",
    "    print('current time', today_time)\n",
    "    \n",
    "    # Get the current time\n",
    "    t = datetime.time(datetime.now())\n",
    "    print('The current time is',t)\n",
    "    \n",
    "main()"
   ]
  },
  {
   "cell_type": "code",
   "execution_count": 11,
   "metadata": {},
   "outputs": [
    {
     "name": "stdout",
     "output_type": "stream",
     "text": [
      "The current year is: 2022\n",
      "Tue, 01, March, 2022\n"
     ]
    }
   ],
   "source": [
    "from datetime import datetime\n",
    "\n",
    "def main():\n",
    "    now = datetime.now()\n",
    "    \n",
    "    # %y - Year, %A - weekday, %B - month, %d - day of month\n",
    "    print(now.strftime('The current year is: %Y' ))\n",
    "    print(now.strftime(\"%a, %d, %B, %Y\" ))\n",
    "    \n",
    "main()"
   ]
  },
  {
   "cell_type": "code",
   "execution_count": 26,
   "metadata": {},
   "outputs": [
    {
     "name": "stdout",
     "output_type": "stream",
     "text": [
      "365 days, 5:01:00\n",
      "Today 2022-03-01 23:47:05.629520\n",
      "One year from now it will be 2023-03-01 23:51:54.707689\n",
      "In two weeks and 3 days it will be 2022-03-18 23:51:54.707689\n",
      "One week ago it was Tuesday February 22 2022\n"
     ]
    }
   ],
   "source": [
    "import time\n",
    "import datetime\n",
    "from datetime import timedelta\n",
    "from datetime import date, time, datetime, timedelta\n",
    "\n",
    "print(timedelta(days=365, hours=5, minutes=1))\n",
    "\n",
    "now = datetime.now()\n",
    "print('Today',today_time)\n",
    "\n",
    "print('One year from now it will be', str(now + timedelta(days=365)))\n",
    "\n",
    "print('In two weeks and 3 days it will be', str(now + timedelta(weeks=2, days=3)))\n",
    "\n",
    "#calculate the date 1 week ago formated as a string\n",
    "t = datetime.now() - timedelta(weeks=1)\n",
    "s = t.strftime(\"%A %B %d %Y\")\n",
    "print(\"One week ago it was\", s)"
   ]
  },
  {
   "cell_type": "code",
   "execution_count": 30,
   "metadata": {},
   "outputs": [
    {
     "name": "stdout",
     "output_type": "stream",
     "text": [
      "    January 2022\n",
      "Su Mo Tu We Th Fr Sa\n",
      "                   1\n",
      " 2  3  4  5  6  7  8\n",
      " 9 10 11 12 13 14 15\n",
      "16 17 18 19 20 21 22\n",
      "23 24 25 26 27 28 29\n",
      "30 31\n",
      "\n"
     ]
    }
   ],
   "source": [
    "## Calendar\n",
    "import calendar\n",
    "\n",
    "# Create Plain text calendar\n",
    "c = calendar.TextCalendar(calendar.SUNDAY)\n",
    "str = c.formatmonth(2022, 1, 0, 0)\n",
    "print(str)"
   ]
  },
  {
   "cell_type": "code",
   "execution_count": null,
   "metadata": {},
   "outputs": [],
   "source": []
  }
 ],
 "metadata": {
  "kernelspec": {
   "display_name": "Python 3 (ipykernel)",
   "language": "python",
   "name": "python3"
  },
  "language_info": {
   "codemirror_mode": {
    "name": "ipython",
    "version": 3
   },
   "file_extension": ".py",
   "mimetype": "text/x-python",
   "name": "python",
   "nbconvert_exporter": "python",
   "pygments_lexer": "ipython3",
   "version": "3.9.7"
  }
 },
 "nbformat": 4,
 "nbformat_minor": 4
}
