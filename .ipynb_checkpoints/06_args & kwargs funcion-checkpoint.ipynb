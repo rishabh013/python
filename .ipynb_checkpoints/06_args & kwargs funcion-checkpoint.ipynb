{
 "cells": [
  {
   "cell_type": "code",
   "execution_count": 1,
   "id": "610d2bd8",
   "metadata": {},
   "outputs": [
    {
     "name": "stdout",
     "output_type": "stream",
     "text": [
      "harry\n",
      "Rohan\n",
      "skillf\n",
      "Hammad\n"
     ]
    }
   ],
   "source": [
    "## use args function ##\n",
    "\n",
    "def funargs(*args):\n",
    "    \n",
    "    for item in args:\n",
    "        print(item)\n",
    "    \n",
    "har = [\"harry\", \"Rohan\", \"skillf\", \"Hammad\"]\n",
    "funargs(*har)"
   ]
  },
  {
   "cell_type": "code",
   "execution_count": 3,
   "id": "3ebd5281",
   "metadata": {},
   "outputs": [
    {
     "name": "stdout",
     "output_type": "stream",
     "text": [
      "This is normal\n",
      "harry\n",
      "Rohan\n",
      "skillf\n",
      "Hammad\n"
     ]
    }
   ],
   "source": [
    "## use normal function ##\n",
    "\n",
    "def funargs(normal,*args):\n",
    "    print(normal)\n",
    "    for item in args:\n",
    "        print(item)\n",
    "har = [\"harry\", \"Rohan\", \"skillf\", \"Hammad\"]\n",
    "normal = \"This is normal\"\n",
    "funargs(normal,*har)"
   ]
  },
  {
   "cell_type": "code",
   "execution_count": 4,
   "id": "71460bd9",
   "metadata": {},
   "outputs": [
    {
     "name": "stdout",
     "output_type": "stream",
     "text": [
      "This is normal\n",
      "harry\n",
      "Rohan\n",
      "skillf\n",
      "Hammad\n",
      "rohan monitor\n",
      "sanjay engineer\n",
      "ruchi doctor\n"
     ]
    }
   ],
   "source": [
    "## use kwarge function ##\n",
    "\n",
    "def funargs(normal,*args, **kwargs):\n",
    "    print(normal)\n",
    "    for item in args:\n",
    "        print(item)\n",
    "    for key, value in kwargs.items():\n",
    "        print(key,value)\n",
    "        \n",
    "har = [\"harry\", \"Rohan\", \"skillf\", \"Hammad\"]\n",
    "normal = \"This is normal\"\n",
    "kw = {\"rohan\" : \"monitor\", \"sanjay\" : \"engineer\", \"ruchi\" : \"doctor\" }\n",
    "funargs(normal,*har, **kw)"
   ]
  },
  {
   "cell_type": "code",
   "execution_count": null,
   "id": "73fbde4a",
   "metadata": {},
   "outputs": [],
   "source": []
  }
 ],
 "metadata": {
  "kernelspec": {
   "display_name": "Python 3 (ipykernel)",
   "language": "python",
   "name": "python3"
  },
  "language_info": {
   "codemirror_mode": {
    "name": "ipython",
    "version": 3
   },
   "file_extension": ".py",
   "mimetype": "text/x-python",
   "name": "python",
   "nbconvert_exporter": "python",
   "pygments_lexer": "ipython3",
   "version": "3.9.7"
  }
 },
 "nbformat": 4,
 "nbformat_minor": 5
}
