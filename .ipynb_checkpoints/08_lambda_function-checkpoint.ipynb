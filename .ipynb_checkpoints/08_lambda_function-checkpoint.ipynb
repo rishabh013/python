{
 "cells": [
  {
   "cell_type": "markdown",
   "id": "f7491fb9",
   "metadata": {},
   "source": [
    "# lambda function\n"
   ]
  },
  {
   "cell_type": "code",
   "execution_count": 10,
   "id": "4ba4c075",
   "metadata": {},
   "outputs": [
    {
     "name": "stdout",
     "output_type": "stream",
     "text": [
      "2021-05-27 20:24:58.076868\n",
      "2021\n",
      "5\n",
      "20:24:58.076868\n"
     ]
    }
   ],
   "source": [
    "#1.Write a Python program to extract year, month, date and time using Lambda.#1.\n",
    "import datetime\n",
    "now = datetime.datetime.now()\n",
    "print(now)\n",
    "\n",
    "year = lambda x: x.year\n",
    "month = lambda y: y.month\n",
    "t = lambda x: x.time()\n",
    "print(year(now))\n",
    "print(month(now))\n",
    "print(t(now))"
   ]
  },
  {
   "cell_type": "code",
   "execution_count": 11,
   "id": "5313fd8d",
   "metadata": {},
   "outputs": [
    {
     "name": "stdout",
     "output_type": "stream",
     "text": [
      "True\n",
      "True\n",
      "True\n",
      "False\n",
      "False\n"
     ]
    }
   ],
   "source": [
    "#2.Write a Python program to check whether a given string is number or not using Lambda.\n",
    "nums = lambda q: q.replace(\".\",\"\",1).isdigit()\n",
    "print(nums(\"87.63\"))\n",
    "print(nums('87'))\n",
    "print(nums(\"65.625\"))\n",
    "print(nums(\"A01\"))\n",
    "print(nums(\"-16\"))\n"
   ]
  },
  {
   "cell_type": "code",
   "execution_count": 6,
   "id": "55ca3a7f",
   "metadata": {},
   "outputs": [
    {
     "ename": "NameError",
     "evalue": "name 'is_num' is not defined",
     "output_type": "error",
     "traceback": [
      "\u001b[1;31m---------------------------------------------------------------------------\u001b[0m",
      "\u001b[1;31mNameError\u001b[0m                                 Traceback (most recent call last)",
      "\u001b[1;32m<ipython-input-6-5332108cae37>\u001b[0m in \u001b[0;36m<module>\u001b[1;34m\u001b[0m\n\u001b[0;32m      1\u001b[0m \u001b[0mnums\u001b[0m \u001b[1;33m=\u001b[0m \u001b[1;32mlambda\u001b[0m \u001b[0mr\u001b[0m\u001b[1;33m:\u001b[0m \u001b[0mis_num\u001b[0m\u001b[1;33m(\u001b[0m\u001b[0mr\u001b[0m\u001b[1;33m[\u001b[0m\u001b[1;36m1\u001b[0m\u001b[1;33m:\u001b[0m\u001b[1;33m]\u001b[0m\u001b[1;33m)\u001b[0m \u001b[1;32mif\u001b[0m \u001b[0mr\u001b[0m\u001b[1;33m[\u001b[0m\u001b[1;36m0\u001b[0m\u001b[1;33m]\u001b[0m\u001b[1;33m==\u001b[0m\u001b[1;34m'-'\u001b[0m \u001b[1;32melse\u001b[0m \u001b[0mis_num\u001b[0m\u001b[1;33m(\u001b[0m\u001b[0mr\u001b[0m\u001b[1;33m)\u001b[0m\u001b[1;33m\u001b[0m\u001b[1;33m\u001b[0m\u001b[0m\n\u001b[1;32m----> 2\u001b[1;33m \u001b[0mprint\u001b[0m\u001b[1;33m(\u001b[0m\u001b[0mnums\u001b[0m\u001b[1;33m(\u001b[0m\u001b[1;34m'-16.4'\u001b[0m\u001b[1;33m)\u001b[0m\u001b[1;33m)\u001b[0m\u001b[1;33m\u001b[0m\u001b[1;33m\u001b[0m\u001b[0m\n\u001b[0m\u001b[0;32m      3\u001b[0m \u001b[0mprint\u001b[0m\u001b[1;33m(\u001b[0m\u001b[0mnums\u001b[0m\u001b[1;33m(\u001b[0m\u001b[1;34m\"-16.576\"\u001b[0m\u001b[1;33m)\u001b[0m\u001b[1;33m)\u001b[0m\u001b[1;33m\u001b[0m\u001b[1;33m\u001b[0m\u001b[0m\n",
      "\u001b[1;32m<ipython-input-6-5332108cae37>\u001b[0m in \u001b[0;36m<lambda>\u001b[1;34m(r)\u001b[0m\n\u001b[1;32m----> 1\u001b[1;33m \u001b[0mnums\u001b[0m \u001b[1;33m=\u001b[0m \u001b[1;32mlambda\u001b[0m \u001b[0mr\u001b[0m\u001b[1;33m:\u001b[0m \u001b[0mis_num\u001b[0m\u001b[1;33m(\u001b[0m\u001b[0mr\u001b[0m\u001b[1;33m[\u001b[0m\u001b[1;36m1\u001b[0m\u001b[1;33m:\u001b[0m\u001b[1;33m]\u001b[0m\u001b[1;33m)\u001b[0m \u001b[1;32mif\u001b[0m \u001b[0mr\u001b[0m\u001b[1;33m[\u001b[0m\u001b[1;36m0\u001b[0m\u001b[1;33m]\u001b[0m\u001b[1;33m==\u001b[0m\u001b[1;34m'-'\u001b[0m \u001b[1;32melse\u001b[0m \u001b[0mis_num\u001b[0m\u001b[1;33m(\u001b[0m\u001b[0mr\u001b[0m\u001b[1;33m)\u001b[0m\u001b[1;33m\u001b[0m\u001b[1;33m\u001b[0m\u001b[0m\n\u001b[0m\u001b[0;32m      2\u001b[0m \u001b[0mprint\u001b[0m\u001b[1;33m(\u001b[0m\u001b[0mnums\u001b[0m\u001b[1;33m(\u001b[0m\u001b[1;34m'-16.4'\u001b[0m\u001b[1;33m)\u001b[0m\u001b[1;33m)\u001b[0m\u001b[1;33m\u001b[0m\u001b[1;33m\u001b[0m\u001b[0m\n\u001b[0;32m      3\u001b[0m \u001b[0mprint\u001b[0m\u001b[1;33m(\u001b[0m\u001b[0mnums\u001b[0m\u001b[1;33m(\u001b[0m\u001b[1;34m\"-16.576\"\u001b[0m\u001b[1;33m)\u001b[0m\u001b[1;33m)\u001b[0m\u001b[1;33m\u001b[0m\u001b[1;33m\u001b[0m\u001b[0m\n",
      "\u001b[1;31mNameError\u001b[0m: name 'is_num' is not defined"
     ]
    }
   ],
   "source": [
    "nums = lambda r: is_num(r[1:]) if r[0]=='-' else is_num(r)\n",
    "print(nums('-16.4'))\n",
    "print(nums(\"-16.576\"))"
   ]
  },
  {
   "cell_type": "code",
   "execution_count": 5,
   "id": "2d215fe1",
   "metadata": {},
   "outputs": [
    {
     "ename": "NameError",
     "evalue": "name 'is_num' is not defined",
     "output_type": "error",
     "traceback": [
      "\u001b[1;31m---------------------------------------------------------------------------\u001b[0m",
      "\u001b[1;31mNameError\u001b[0m                                 Traceback (most recent call last)",
      "\u001b[1;32m<ipython-input-5-f488e6bed3bd>\u001b[0m in \u001b[0;36m<module>\u001b[1;34m\u001b[0m\n\u001b[0;32m      1\u001b[0m \u001b[0mtonums\u001b[0m \u001b[1;33m=\u001b[0m \u001b[1;32mlambda\u001b[0m \u001b[0ms\u001b[0m\u001b[1;33m:\u001b[0m \u001b[0mfloat\u001b[0m\u001b[1;33m(\u001b[0m\u001b[0ms\u001b[0m\u001b[1;33m)\u001b[0m \u001b[1;32mif\u001b[0m \u001b[0mis_num\u001b[0m\u001b[1;33m(\u001b[0m\u001b[0ms\u001b[0m\u001b[1;33m)\u001b[0m \u001b[1;32melse\u001b[0m \u001b[1;33m-\u001b[0m\u001b[1;36m1\u001b[0m\u001b[1;33m\u001b[0m\u001b[1;33m\u001b[0m\u001b[0m\n\u001b[1;32m----> 2\u001b[1;33m \u001b[0mprint\u001b[0m\u001b[1;33m(\u001b[0m\u001b[0mtonums\u001b[0m\u001b[1;33m(\u001b[0m\u001b[1;34m\"30y\"\u001b[0m\u001b[1;33m)\u001b[0m\u001b[1;33m)\u001b[0m\u001b[1;33m\u001b[0m\u001b[1;33m\u001b[0m\u001b[0m\n\u001b[0m\u001b[0;32m      3\u001b[0m \u001b[0mprint\u001b[0m\u001b[1;33m(\u001b[0m\u001b[0mtonums\u001b[0m\u001b[1;33m(\u001b[0m\u001b[1;34m'-21.6'\u001b[0m\u001b[1;33m)\u001b[0m\u001b[1;33m,\u001b[0m \u001b[0mtype\u001b[0m\u001b[1;33m(\u001b[0m\u001b[0mtonums\u001b[0m\u001b[1;33m(\u001b[0m\u001b[1;34m'-1,5'\u001b[0m\u001b[1;33m)\u001b[0m\u001b[1;33m)\u001b[0m\u001b[1;33m)\u001b[0m\u001b[1;33m\u001b[0m\u001b[1;33m\u001b[0m\u001b[0m\n",
      "\u001b[1;32m<ipython-input-5-f488e6bed3bd>\u001b[0m in \u001b[0;36m<lambda>\u001b[1;34m(s)\u001b[0m\n\u001b[1;32m----> 1\u001b[1;33m \u001b[0mtonums\u001b[0m \u001b[1;33m=\u001b[0m \u001b[1;32mlambda\u001b[0m \u001b[0ms\u001b[0m\u001b[1;33m:\u001b[0m \u001b[0mfloat\u001b[0m\u001b[1;33m(\u001b[0m\u001b[0ms\u001b[0m\u001b[1;33m)\u001b[0m \u001b[1;32mif\u001b[0m \u001b[0mis_num\u001b[0m\u001b[1;33m(\u001b[0m\u001b[0ms\u001b[0m\u001b[1;33m)\u001b[0m \u001b[1;32melse\u001b[0m \u001b[1;33m-\u001b[0m\u001b[1;36m1\u001b[0m\u001b[1;33m\u001b[0m\u001b[1;33m\u001b[0m\u001b[0m\n\u001b[0m\u001b[0;32m      2\u001b[0m \u001b[0mprint\u001b[0m\u001b[1;33m(\u001b[0m\u001b[0mtonums\u001b[0m\u001b[1;33m(\u001b[0m\u001b[1;34m\"30y\"\u001b[0m\u001b[1;33m)\u001b[0m\u001b[1;33m)\u001b[0m\u001b[1;33m\u001b[0m\u001b[1;33m\u001b[0m\u001b[0m\n\u001b[0;32m      3\u001b[0m \u001b[0mprint\u001b[0m\u001b[1;33m(\u001b[0m\u001b[0mtonums\u001b[0m\u001b[1;33m(\u001b[0m\u001b[1;34m'-21.6'\u001b[0m\u001b[1;33m)\u001b[0m\u001b[1;33m,\u001b[0m \u001b[0mtype\u001b[0m\u001b[1;33m(\u001b[0m\u001b[0mtonums\u001b[0m\u001b[1;33m(\u001b[0m\u001b[1;34m'-1,5'\u001b[0m\u001b[1;33m)\u001b[0m\u001b[1;33m)\u001b[0m\u001b[1;33m)\u001b[0m\u001b[1;33m\u001b[0m\u001b[1;33m\u001b[0m\u001b[0m\n",
      "\u001b[1;31mNameError\u001b[0m: name 'is_num' is not defined"
     ]
    }
   ],
   "source": [
    "tonums = lambda s: float(s) if is_num(s) else -1\n",
    "print(tonums(\"30y\"))\n",
    "print(tonums('-21.6'), type(tonums('-1,5')))"
   ]
  },
  {
   "cell_type": "code",
   "execution_count": 4,
   "id": "93367fe2",
   "metadata": {},
   "outputs": [
    {
     "name": "stdout",
     "output_type": "stream",
     "text": [
      "True\n",
      "False\n"
     ]
    }
   ],
   "source": [
    "#3.Write a Python program to find whether a given string starts with a given character using Lambda\n",
    "starts_with = lambda x: True if x.startswith(\"P\") else False\n",
    "print(starts_with(\"Python\"))\n",
    "print(starts_with(\"Torgon\"))"
   ]
  },
  {
   "cell_type": "code",
   "execution_count": 15,
   "id": "3a86b303",
   "metadata": {},
   "outputs": [
    {
     "name": "stdout",
     "output_type": "stream",
     "text": [
      "[0, 1, 1, 2, 3]\n"
     ]
    }
   ],
   "source": [
    "#10. Write a Python program to create Fibonacci series upto n using Lambda.\n",
    "\n",
    "from functools import reduce  \n",
    "fib = lambda n: reduce(lambda x, _: x+[x[-1]+x[-2]], range(n-2), [0, 1])\n",
    "print(fib(5))"
   ]
  },
  {
   "cell_type": "code",
   "execution_count": 16,
   "id": "f96621e5",
   "metadata": {},
   "outputs": [
    {
     "name": "stdout",
     "output_type": "stream",
     "text": [
      "[1, 2, 8, 9]\n"
     ]
    }
   ],
   "source": [
    "#11.Write a Python program to find intersection of two given arrays using Lambda.\n",
    "arr1 = [1, 2, 3, 5, 7, 8, 9, 10]\n",
    "arr2 = [1, 2, 4, 8, 9]\n",
    "result = list(filter(lambda x: x in arr1, arr2))\n",
    "print(result)"
   ]
  },
  {
   "cell_type": "code",
   "execution_count": 17,
   "id": "79751a6c",
   "metadata": {},
   "outputs": [
    {
     "name": "stdout",
     "output_type": "stream",
     "text": [
      "[2, 5, 7, 8, 9, -10, -3, -1]\n"
     ]
    }
   ],
   "source": [
    "#12.Write a Python program to rearrange positive and negative numbers in a given array using Lambda.\n",
    "array = [-1, 2, -3, 5, 7, 8, 9, -10]\n",
    "result = sorted(array, key = lambda x: 0 if x==0 else -1/x)\n",
    "print(result)"
   ]
  },
  {
   "cell_type": "code",
   "execution_count": 18,
   "id": "50b5240d",
   "metadata": {},
   "outputs": [
    {
     "name": "stdout",
     "output_type": "stream",
     "text": [
      "3\n",
      "5\n"
     ]
    }
   ],
   "source": [
    "#13.Write a Python program to count the even, odd numbers in a given array of integers using Lambda.\n",
    "array = [1, 2, 3, 5, 7, 8, 9, 10]\n",
    "evens = len(list(filter(lambda x: x%2==0, array)))\n",
    "odds = len(list(filter(lambda x: x%2!=0, array)))\n",
    "print(evens)\n",
    "print(odds)\n"
   ]
  },
  {
   "cell_type": "code",
   "execution_count": 19,
   "id": "b579f76b",
   "metadata": {},
   "outputs": [
    {
     "name": "stdout",
     "output_type": "stream",
     "text": [
      "[5, 7, 9]\n"
     ]
    }
   ],
   "source": [
    "#15.Write a Python program to add two given lists using map and lambda.\n",
    "list1 = [1, 2, 3]\n",
    "list2 = [4, 5, 6]\n",
    "result = list(map(lambda x, y: x+y, list1, list2))\n",
    "print(result)"
   ]
  },
  {
   "cell_type": "code",
   "execution_count": 20,
   "id": "a698da9a",
   "metadata": {},
   "outputs": [
    {
     "name": "stdout",
     "output_type": "stream",
     "text": [
      "[19, 65, 57, 39, 152, 190]\n"
     ]
    }
   ],
   "source": [
    "#17.Write a Python program to find numbers divisible by nineteen or thirteen from a list of numbers using Lambda.\n",
    "nums = [19, 65, 57, 39, 152, 639, 121, 44, 90, 190]\n",
    "result = list(filter(lambda x: (x%19 == 0 or x%13 == 0), nums))\n",
    "print(result)\n"
   ]
  },
  {
   "cell_type": "code",
   "execution_count": 21,
   "id": "52bc0c84",
   "metadata": {},
   "outputs": [
    {
     "name": "stdout",
     "output_type": "stream",
     "text": [
      "['php', 'aaa']\n"
     ]
    }
   ],
   "source": [
    "#18.Write a Python program to find palindromes in a given list of strings using Lambda.\n",
    "texts = [\"php\", \"w3r\", \"Python\", \"abcd\", \"Java\", \"aaa\"]\n",
    "result = list(filter(lambda x: (x == \"\".join(reversed(x))), texts))\n",
    "print(result)"
   ]
  },
  {
   "cell_type": "code",
   "execution_count": 22,
   "id": "7df9a207",
   "metadata": {},
   "outputs": [
    {
     "name": "stdout",
     "output_type": "stream",
     "text": [
      "['bcda', 'cbda', 'adcb']\n"
     ]
    }
   ],
   "source": [
    "#19.Write a Python program to find all anagrams of a string in a given list of strings using lambda.\n",
    "from collections import Counter\n",
    "nums = ['bcda', 'abce', 'cbda', 'cbea', 'adcb']\n",
    "str = 'abcd'\n",
    "result = list(filter(lambda x: (Counter(str) == Counter(x)), nums))\n",
    "print(result)\n",
    "#correct code"
   ]
  },
  {
   "cell_type": "code",
   "execution_count": 45,
   "id": "d7195b5a",
   "metadata": {},
   "outputs": [
    {
     "name": "stdout",
     "output_type": "stream",
     "text": [
      "['sdf', '23', 'safs8', '5', 'sdfsd8', 'sdfs', '56', '21sfs', '20', '5']\n",
      "[5, 5, 20, 23, 56]\n",
      "20 23 56 "
     ]
    }
   ],
   "source": [
    "# 20. Write a Python program to find the numbers of a given string and store them in a list, display\n",
    "# the numbers which are bigger than the length of the list in sorted form. Use lambda function to\n",
    "# solve the problem\n",
    "\n",
    "str1 = \"sdf 23 safs8 5 sdfsd8 sdfs 56 21sfs 20 5\"\n",
    "func = str1.split(' ')\n",
    "print(func)\n",
    "lenght = len(func)\n",
    "number = sorted([int(x) for x in func if x.isdigit()])\n",
    "print(number)\n",
    "for i in ((filter(lambda x:x>lenght,number))):\n",
    "    print(i,end=' ')"
   ]
  },
  {
   "cell_type": "code",
   "execution_count": null,
   "id": "00786e9e",
   "metadata": {},
   "outputs": [],
   "source": []
  },
  {
   "cell_type": "code",
   "execution_count": null,
   "id": "7af2b116",
   "metadata": {},
   "outputs": [],
   "source": []
  }
 ],
 "metadata": {
  "kernelspec": {
   "display_name": "Python 3 (ipykernel)",
   "language": "python",
   "name": "python3"
  },
  "language_info": {
   "codemirror_mode": {
    "name": "ipython",
    "version": 3
   },
   "file_extension": ".py",
   "mimetype": "text/x-python",
   "name": "python",
   "nbconvert_exporter": "python",
   "pygments_lexer": "ipython3",
   "version": "3.9.7"
  }
 },
 "nbformat": 4,
 "nbformat_minor": 5
}
