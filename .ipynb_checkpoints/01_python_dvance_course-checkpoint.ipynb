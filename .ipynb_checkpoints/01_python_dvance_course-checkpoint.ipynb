{
 "cells": [
  {
   "cell_type": "code",
   "execution_count": 1,
   "id": "a6b4d9f8",
   "metadata": {},
   "outputs": [
    {
     "data": {
      "text/plain": [
       "'Geeky shows you tube channel'"
      ]
     },
     "execution_count": 1,
     "metadata": {},
     "output_type": "execute_result"
    }
   ],
   "source": [
    "\"Geeky shows you tube channel\""
   ]
  },
  {
   "cell_type": "markdown",
   "id": "b6202126",
   "metadata": {},
   "source": [
    "### Enumerate function"
   ]
  },
  {
   "cell_type": "markdown",
   "id": "ce4c72b1",
   "metadata": {},
   "source": [
    "* **enumerate allow us to iterate through a sequence but it keeps track of both the index and element**"
   ]
  },
  {
   "cell_type": "code",
   "execution_count": 2,
   "id": "4387ebb4",
   "metadata": {},
   "outputs": [
    {
     "name": "stdout",
     "output_type": "stream",
     "text": [
      "0   key1\n",
      "1   key2\n",
      "2   key3\n",
      "3   key4\n"
     ]
    }
   ],
   "source": [
    "l= ['key1', 'key2', 'key3', 'key4']\n",
    "for index,i in enumerate(l):\n",
    "    print(index,\" \", i)"
   ]
  },
  {
   "cell_type": "markdown",
   "id": "27d591e2",
   "metadata": {},
   "source": [
    "### zip function"
   ]
  },
  {
   "cell_type": "code",
   "execution_count": 3,
   "id": "c7755553",
   "metadata": {},
   "outputs": [
    {
     "name": "stdout",
     "output_type": "stream",
     "text": [
      "key1 10\n",
      "key2 20\n",
      "key3 30\n",
      "key4 40\n"
     ]
    }
   ],
   "source": [
    "d1 = ['key1', 'key2', 'key3', 'key4']\n",
    "d2 = [10,20,30,40]\n",
    "for (i, j) in zip(d1, d2):\n",
    "    print(i,j)"
   ]
  },
  {
   "cell_type": "markdown",
   "id": "acddfc52",
   "metadata": {},
   "source": [
    "### join function"
   ]
  },
  {
   "cell_type": "code",
   "execution_count": 4,
   "id": "4918d50b",
   "metadata": {},
   "outputs": [
    {
     "name": "stdout",
     "output_type": "stream",
     "text": [
      "key1, key2, key3, key4\n",
      "key1 and key2 and key3 and key4 and "
     ]
    }
   ],
   "source": [
    "d1 = ['key1', 'key2', 'key3', 'key4']\n",
    "a = \", \".join(d1)\n",
    "print(a)\n",
    "\n",
    "for i in d1:\n",
    "    print(i, \"and\", end =\" \")"
   ]
  },
  {
   "cell_type": "markdown",
   "id": "ca624fdf",
   "metadata": {},
   "source": [
    "### Iterator"
   ]
  },
  {
   "cell_type": "markdown",
   "id": "959d1c28",
   "metadata": {},
   "source": [
    "* **Iterator fetch one value at a time**                                        \n",
    "If we have 100 values and we want to fetch one by one value use iterator"
   ]
  },
  {
   "cell_type": "code",
   "execution_count": 5,
   "id": "2893f525",
   "metadata": {},
   "outputs": [
    {
     "name": "stdout",
     "output_type": "stream",
     "text": [
      "R\n",
      "i\n",
      "s\n",
      "h\n"
     ]
    }
   ],
   "source": [
    "name= \"Rishabhvishwakarma\"\n",
    "vals = iter(name)\n",
    "print(vals.__next__())\n",
    "print(vals.__next__())\n",
    "print(next(vals))\n",
    "print(next(vals))"
   ]
  },
  {
   "cell_type": "code",
   "execution_count": 6,
   "id": "175a2f7d",
   "metadata": {},
   "outputs": [
    {
     "name": "stdout",
     "output_type": "stream",
     "text": [
      "1\n",
      "2\n"
     ]
    }
   ],
   "source": [
    "class topten:\n",
    "    def __init__(self):\n",
    "        self.num = 1\n",
    "    def __iter__(self):\n",
    "        return self\n",
    "    def __next__(self):\n",
    "        val = self.num\n",
    "        self.num += 1\n",
    "        return val\n",
    "values = topten()\n",
    "print(values.__next__())\n",
    "print(values.__next__())"
   ]
  },
  {
   "cell_type": "markdown",
   "id": "592e4b6e",
   "metadata": {},
   "source": [
    "### List comphrehensions"
   ]
  },
  {
   "cell_type": "code",
   "execution_count": 7,
   "id": "71aa40e8",
   "metadata": {},
   "outputs": [
    {
     "name": "stdout",
     "output_type": "stream",
     "text": [
      "['apple', 'banana', 'mango']\n"
     ]
    }
   ],
   "source": [
    "fruits = [\"apple\", \"banana\", \"cherry\", \"kiwi\", \"mango\"]\n",
    "newlist = [x for x in fruits if \"a\" in x]\n",
    "print(newlist)"
   ]
  },
  {
   "cell_type": "markdown",
   "id": "6ee13dee",
   "metadata": {},
   "source": [
    "## Polymorphism\n",
    "* Duck Typing\n",
    "* Operator overloading\n",
    "* Method overloading\n",
    "* Method overriding"
   ]
  },
  {
   "cell_type": "markdown",
   "id": "a924deab",
   "metadata": {},
   "source": [
    "#### Duck Typing"
   ]
  },
  {
   "cell_type": "code",
   "execution_count": 8,
   "id": "b4f4ec46",
   "metadata": {},
   "outputs": [
    {
     "name": "stdout",
     "output_type": "stream",
     "text": [
      "compiling\n",
      "Running\n",
      "None\n"
     ]
    }
   ],
   "source": [
    "class Pycharm:\n",
    "    def execute(self):\n",
    "        print(\"compiling\")\n",
    "        print(\"Running\")\n",
    "\n",
    "class laptop:\n",
    "    def code (self, ide):\n",
    "        ide.execute()\n",
    "\n",
    "ide = Pycharm()\n",
    "lap1 = laptop()\n",
    "print(lap1.code(ide))"
   ]
  },
  {
   "cell_type": "markdown",
   "id": "008d0890",
   "metadata": {},
   "source": [
    "### Multi Threading"
   ]
  },
  {
   "cell_type": "code",
   "execution_count": 12,
   "id": "4dd518b8",
   "metadata": {},
   "outputs": [
    {
     "name": "stdout",
     "output_type": "stream",
     "text": [
      "hello\n",
      "hello\n",
      "hello\n",
      "hello\n",
      "hello\n",
      "Hi\n",
      "Hi\n",
      "Hi\n",
      "Hi\n",
      "Hi\n"
     ]
    }
   ],
   "source": [
    "from time import sleep\n",
    "\n",
    "class tablet:\n",
    "    def run(self):\n",
    "        for i in range(5):\n",
    "            print(\"hello\")\n",
    "            sleep(1)\n",
    "            \n",
    "class laptop:\n",
    "    def run(self):\n",
    "        for i in range(5):\n",
    "            print(\"Hi\")\n",
    "            sleep(1)\n",
    "            \n",
    "t1 = tablet()\n",
    "t2 = laptop()\n",
    "\n",
    "t1.run()\n",
    "t2.run()"
   ]
  },
  {
   "cell_type": "code",
   "execution_count": 17,
   "id": "8f23c354",
   "metadata": {},
   "outputs": [
    {
     "name": "stdout",
     "output_type": "stream",
     "text": [
      "hello\n",
      "Hi\n",
      "hello\n",
      "Hi\n",
      "hello\n",
      "Hi\n",
      "hello\n",
      "Hi\n",
      "hello\n",
      "Hi\n",
      "Bye\n"
     ]
    }
   ],
   "source": [
    "from time import sleep\n",
    "from threading import *\n",
    "\n",
    "class tablet(Thread):\n",
    "    def run(self):\n",
    "        for i in range(5):\n",
    "            print(\"hello\")\n",
    "            sleep(1)\n",
    "            \n",
    "class laptop(Thread):\n",
    "    def run(self):\n",
    "        for i in range(5):\n",
    "            print(\"Hi\")\n",
    "            sleep(1)\n",
    "            \n",
    "t1 = tablet()\n",
    "t2 = laptop()\n",
    "\n",
    "t1.start()\n",
    "sleep(0.2)\n",
    "t2.start()\n",
    "\n",
    "t1.join()\n",
    "t2.join()\n",
    "print(\"Bye\")"
   ]
  },
  {
   "cell_type": "code",
   "execution_count": null,
   "id": "5d3eb514",
   "metadata": {},
   "outputs": [],
   "source": [
    "### 4 topic left to stydy\n",
    "\n",
    "Polymorphism\n",
    "cashing\n",
    "public, protect, private\n",
    "Abstractaction and encapsulation\n",
    "generator or yield function"
   ]
  }
 ],
 "metadata": {
  "kernelspec": {
   "display_name": "Python 3",
   "language": "python",
   "name": "python3"
  },
  "language_info": {
   "codemirror_mode": {
    "name": "ipython",
    "version": 3
   },
   "file_extension": ".py",
   "mimetype": "text/x-python",
   "name": "python",
   "nbconvert_exporter": "python",
   "pygments_lexer": "ipython3",
   "version": "3.8.10"
  }
 },
 "nbformat": 4,
 "nbformat_minor": 5
}
