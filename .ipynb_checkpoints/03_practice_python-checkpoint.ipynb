{
 "cells": [
  {
   "cell_type": "markdown",
   "id": "95e034f0",
   "metadata": {},
   "source": [
    "# String"
   ]
  },
  {
   "cell_type": "code",
   "execution_count": 1,
   "id": "5f880cb0",
   "metadata": {},
   "outputs": [
    {
     "data": {
      "text/plain": [
       "6"
      ]
     },
     "execution_count": 1,
     "metadata": {},
     "output_type": "execute_result"
    }
   ],
   "source": [
    "def srg(sr):\n",
    "    count = 0\n",
    "    for x in sr:\n",
    "        count +=1\n",
    "    return count\n",
    "srg(\"jhssgh\")"
   ]
  },
  {
   "cell_type": "code",
   "execution_count": 2,
   "id": "2687caab",
   "metadata": {},
   "outputs": [
    {
     "data": {
      "text/plain": [
       "{'g': 2, 'o': 3, 'l': 1, 'e': 1, '.': 1, 'c': 1, 'm': 1}"
      ]
     },
     "execution_count": 2,
     "metadata": {},
     "output_type": "execute_result"
    }
   ],
   "source": [
    "def char_frequency(str1):\n",
    "    dict = {}\n",
    "    for n in str1:\n",
    "        keys = dict.keys()\n",
    "        if n in keys:\n",
    "            dict[n] += 1\n",
    "        else:\n",
    "            dict[n] = 1\n",
    "    return dict\n",
    "char_frequency('google.com')"
   ]
  },
  {
   "cell_type": "code",
   "execution_count": 3,
   "id": "9288d2d1",
   "metadata": {},
   "outputs": [
    {
     "name": "stdout",
     "output_type": "stream",
     "text": [
      "scol\n"
     ]
    }
   ],
   "source": [
    "def str(str2):\n",
    "    if len(str2)<2:\n",
    "        return \"\"\n",
    "    return str2[:2] + str2[-2:]\n",
    "print(str(\"school\"))"
   ]
  },
  {
   "cell_type": "code",
   "execution_count": 4,
   "id": "9b66bc49",
   "metadata": {},
   "outputs": [
    {
     "data": {
      "text/plain": [
       "'resta$t'"
      ]
     },
     "execution_count": 4,
     "metadata": {},
     "output_type": "execute_result"
    }
   ],
   "source": [
    "def string(str1):\n",
    "    char = str1[0]\n",
    "    str1 = str1.replace(char,'$')\n",
    "    str1 = char + str1[1:]\n",
    "    \n",
    "    return str1\n",
    "string(\"restart\")\n",
    "    "
   ]
  },
  {
   "cell_type": "code",
   "execution_count": 5,
   "id": "d0288c88",
   "metadata": {},
   "outputs": [
    {
     "data": {
      "text/plain": [
       "'abz xyc'"
      ]
     },
     "execution_count": 5,
     "metadata": {},
     "output_type": "execute_result"
    }
   ],
   "source": [
    "def swap(str1, str2):\n",
    "    new_a = str1[:2] + str2[2:]\n",
    "    new_b = str2[:2] + str1[2:]\n",
    "    return new_a + \" \" + new_b \n",
    "swap(\"abc\",\"xyz\")"
   ]
  },
  {
   "cell_type": "code",
   "execution_count": 6,
   "id": "9f309b12",
   "metadata": {},
   "outputs": [
    {
     "name": "stdout",
     "output_type": "stream",
     "text": [
      "stringly\n",
      "schooling\n"
     ]
    }
   ],
   "source": [
    "def add_string(str):\n",
    "    length = len(str)\n",
    "    if length>2:\n",
    "        if str[-3:] == \"ing\":\n",
    "            str += \"ly\"\n",
    "        else:\n",
    "            str += \"ing\"\n",
    "    return str\n",
    "\n",
    "print(add_string(\"string\"))\n",
    "print(add_string(\"school\")) "
   ]
  },
  {
   "cell_type": "code",
   "execution_count": 7,
   "id": "b87a0ac4",
   "metadata": {},
   "outputs": [
    {
     "data": {
      "text/plain": [
       "[(3, 'PHP'), (7, 'Backend'), (9, 'Exercises')]"
      ]
     },
     "execution_count": 7,
     "metadata": {},
     "output_type": "execute_result"
    }
   ],
   "source": [
    "# 8.Write a Python function that takes a list of words and return the longest word and the length of the longest one\n",
    "\n",
    "def find_longest_word(words_list):\n",
    "    word_len = []\n",
    "    for x in words_list:\n",
    "        word_len.append((len(x),x))\n",
    "    word_len.sort()\n",
    "    return word_len\n",
    "\n",
    "find_longest_word([\"PHP\", \"Exercises\", \"Backend\"])"
   ]
  },
  {
   "cell_type": "code",
   "execution_count": 8,
   "id": "21df35ff",
   "metadata": {},
   "outputs": [
    {
     "name": "stdout",
     "output_type": "stream",
     "text": [
      "\n",
      "Longest word:  Exercises\n",
      "Length of the longest word:  9\n"
     ]
    }
   ],
   "source": [
    "def find_longest_word(words_list):\n",
    "    word_len = []\n",
    "    for x in words_list:\n",
    "        word_len.append((len(x),x))\n",
    "    word_len.sort()\n",
    "    return word_len[-1][0], word_len[-1][1]\n",
    "\n",
    "result = find_longest_word([\"PHP\", \"Exercises\", \"Backend\"])\n",
    "print(\"\\nLongest word: \",result[1])\n",
    "print(\"Length of the longest word: \",result[0])\n"
   ]
  },
  {
   "cell_type": "code",
   "execution_count": 1,
   "id": "5cd3cd92",
   "metadata": {},
   "outputs": [
    {
     "data": {
      "text/plain": [
       "'wloe'"
      ]
     },
     "execution_count": 1,
     "metadata": {},
     "output_type": "execute_result"
    }
   ],
   "source": [
    "# 11. Write a Python program to remove the characters which have odd index values of a given string.\n",
    "\n",
    "def remove_odd(items):\n",
    "    result = \"\"\n",
    "    for i in range(len(items)):\n",
    "        if i%2==0:\n",
    "            result = result + items[i]\n",
    "    return result\n",
    "remove_odd(\"welcome\")     "
   ]
  },
  {
   "cell_type": "code",
   "execution_count": 7,
   "id": "1ce0a94c",
   "metadata": {},
   "outputs": [
    {
     "data": {
      "text/plain": [
       "{'hello': 1, 'kya': 2, 'ho': 1, 'raha': 1, 'hai': 1}"
      ]
     },
     "execution_count": 7,
     "metadata": {},
     "output_type": "execute_result"
    }
   ],
   "source": [
    "# 12. Write a Python program to count the occurrences of each word in a given sentence.\n",
    "\n",
    "def count_occurance(str):\n",
    "    count = dict()\n",
    "    word = str.split()\n",
    "    for n in word:\n",
    "        if n in count:\n",
    "            count[n] +=1\n",
    "        else:\n",
    "            count[n] = 1\n",
    "    return count\n",
    "count_occurance(\"hello kya ho raha hai kya\")"
   ]
  },
  {
   "cell_type": "code",
   "execution_count": 11,
   "id": "2d5048c5",
   "metadata": {},
   "outputs": [
    {
     "name": "stdout",
     "output_type": "stream",
     "text": [
      "Enter the str/nkya ho raha hain\n",
      "KYA HO RAHA HAIN\n"
     ]
    }
   ],
   "source": [
    "user= input(\"Enter the str/n\")\n",
    "print(user.upper())  #user.lower()"
   ]
  },
  {
   "cell_type": "code",
   "execution_count": 12,
   "id": "f918f17c",
   "metadata": {},
   "outputs": [
    {
     "name": "stdout",
     "output_type": "stream",
     "text": [
      "Input comma separated sequence of wordsgreen, red yellow, green, black\n",
      " black, green, red yellow,green\n"
     ]
    }
   ],
   "source": [
    "items = input(\"Input comma separated sequence of words\")\n",
    "words = [word for word in items.split(\",\")]\n",
    "print(\",\".join(sorted(list(set(words)))))"
   ]
  },
  {
   "cell_type": "code",
   "execution_count": 19,
   "id": "27abcdea",
   "metadata": {},
   "outputs": [
    {
     "data": {
      "text/plain": [
       "'welcome to kolkata india'"
      ]
     },
     "execution_count": 19,
     "metadata": {},
     "output_type": "execute_result"
    }
   ],
   "source": [
    "# 16. Write a Python function to insert a string in the middle of a string.\n",
    "\n",
    "def insert_sting_middle(str, word):\n",
    "    return str[:11] + word + \" \"str[11:]\n",
    "insert_sting_middle(\"welcome to india\" , \"kolkata\")"
   ]
  },
  {
   "cell_type": "code",
   "execution_count": 1,
   "id": "388264e5",
   "metadata": {},
   "outputs": [
    {
     "name": "stdout",
     "output_type": "stream",
     "text": [
      "onononon\n",
      "sesesese\n"
     ]
    }
   ],
   "source": [
    "def insert_str(str):\n",
    "    sub_str = str[-2:]\n",
    "    return sub_str*4\n",
    "print(insert_str(\"python\"))\n",
    "print(insert_str(\"Excercise\"))"
   ]
  },
  {
   "cell_type": "code",
   "execution_count": 2,
   "id": "254d83a6",
   "metadata": {},
   "outputs": [
    {
     "name": "stdout",
     "output_type": "stream",
     "text": [
      "pyt\n"
     ]
    }
   ],
   "source": [
    "def first_three(str):\n",
    "    length = len(str)\n",
    "    if length < 3:\n",
    "        print(str)\n",
    "    else:\n",
    "        print(str[0:3])\n",
    "first_three('python')"
   ]
  },
  {
   "cell_type": "code",
   "execution_count": 3,
   "id": "c8203d9d",
   "metadata": {},
   "outputs": [
    {
     "name": "stdout",
     "output_type": "stream",
     "text": [
      "https://www.w3resource.com\n"
     ]
    }
   ],
   "source": [
    "# 19. Write a Python program to get the last part of a string before a specified character\n",
    "\n",
    "def lst_str(str):\n",
    "    print(str.rsplit('/',1)[0])\n",
    "lst_str(\"https://www.w3resource.com/python-exercises\")"
   ]
  },
  {
   "cell_type": "code",
   "execution_count": 4,
   "id": "b1a35813",
   "metadata": {},
   "outputs": [
    {
     "data": {
      "text/plain": [
       "'dcba'"
      ]
     },
     "execution_count": 4,
     "metadata": {},
     "output_type": "execute_result"
    }
   ],
   "source": [
    "def rev_str(str):\n",
    "    if len(str)%4==0:\n",
    "        return ''.join(reversed(str))\n",
    "    return str\n",
    "rev_str(\"abcd\")"
   ]
  },
  {
   "cell_type": "code",
   "execution_count": 5,
   "id": "c825c5f3",
   "metadata": {},
   "outputs": [
    {
     "name": "stdout",
     "output_type": "stream",
     "text": [
      "Python Exercises\n"
     ]
    }
   ],
   "source": [
    "# 23. Write a Python program to remove a newline in Python.\n",
    "str = 'Python Exercises\\n'\n",
    "print(str.rstrip())"
   ]
  },
  {
   "cell_type": "code",
   "execution_count": 6,
   "id": "7d15642f",
   "metadata": {},
   "outputs": [
    {
     "name": "stdout",
     "output_type": "stream",
     "text": [
      "True\n"
     ]
    }
   ],
   "source": [
    "# 24. Write a Python program to check whether a string starts with specified characters.\n",
    "\n",
    "string = \"w3resource.com\"\n",
    "print(string.startswith(\"w3r\"))\n"
   ]
  },
  {
   "cell_type": "code",
   "execution_count": null,
   "id": "20c3a367",
   "metadata": {},
   "outputs": [],
   "source": []
  },
  {
   "cell_type": "code",
   "execution_count": null,
   "id": "c622bfce",
   "metadata": {},
   "outputs": [],
   "source": []
  },
  {
   "cell_type": "code",
   "execution_count": null,
   "id": "22a4b73c",
   "metadata": {},
   "outputs": [],
   "source": []
  },
  {
   "cell_type": "markdown",
   "id": "d0fff7fa",
   "metadata": {},
   "source": [
    "# List [ ]"
   ]
  },
  {
   "cell_type": "code",
   "execution_count": 4,
   "id": "91bff7ca",
   "metadata": {},
   "outputs": [
    {
     "data": {
      "text/plain": [
       "20"
      ]
     },
     "execution_count": 4,
     "metadata": {},
     "output_type": "execute_result"
    }
   ],
   "source": [
    "def sum_value(lst):\n",
    "    sum = 0\n",
    "    for x in lst:\n",
    "        sum += x\n",
    "    return sum\n",
    "sum_value([2,3,4,5,6])\n",
    "    "
   ]
  },
  {
   "cell_type": "code",
   "execution_count": 8,
   "id": "74b03bf5",
   "metadata": {},
   "outputs": [
    {
     "data": {
      "text/plain": [
       "720"
      ]
     },
     "execution_count": 8,
     "metadata": {},
     "output_type": "execute_result"
    }
   ],
   "source": [
    "def mul_value(lst):\n",
    "    sum = 1\n",
    "    for x in lst:\n",
    "        sum = sum * x\n",
    "    return sum\n",
    "mul_value([2,3,4,5,6])"
   ]
  },
  {
   "cell_type": "code",
   "execution_count": 16,
   "id": "e89d28e4",
   "metadata": {},
   "outputs": [
    {
     "data": {
      "text/plain": [
       "30"
      ]
     },
     "execution_count": 16,
     "metadata": {},
     "output_type": "execute_result"
    }
   ],
   "source": [
    "def largest_value(ls):\n",
    "    value = ls[0]\n",
    "    for x in ls:\n",
    "        if x > value:\n",
    "            value = x\n",
    "    return value\n",
    "largest_value([2,30,4,5,6,24])"
   ]
  },
  {
   "cell_type": "code",
   "execution_count": 20,
   "id": "b537a903",
   "metadata": {},
   "outputs": [
    {
     "data": {
      "text/plain": [
       "2"
      ]
     },
     "execution_count": 20,
     "metadata": {},
     "output_type": "execute_result"
    }
   ],
   "source": [
    "def count_str(ls):\n",
    "    count = 0\n",
    "    for x in ls:\n",
    "        if len(x) > 1 and x[0]==x[-1]:\n",
    "            count +=1\n",
    "    return count\n",
    "count_str(['abc','xyz','aba','a22a'])       "
   ]
  },
  {
   "cell_type": "code",
   "execution_count": 23,
   "id": "9f695dde",
   "metadata": {},
   "outputs": [
    {
     "name": "stdout",
     "output_type": "stream",
     "text": [
      "[10, 20, 30, 40, 50, 60]\n"
     ]
    }
   ],
   "source": [
    "dup = [10,20,30,30,40,50,60,40,50,10,20]\n",
    "new_lst = []\n",
    "for x in dup:\n",
    "    if x not in new_lst:\n",
    "        new_lst.append(x)\n",
    "print(new_lst)"
   ]
  },
  {
   "cell_type": "code",
   "execution_count": 18,
   "id": "267e35e2",
   "metadata": {},
   "outputs": [
    {
     "data": {
      "text/plain": [
       "2"
      ]
     },
     "execution_count": 18,
     "metadata": {},
     "output_type": "execute_result"
    }
   ],
   "source": [
    "def smallest_value(ls):\n",
    "    value = ls[0]\n",
    "    for x in ls:\n",
    "        if x < value:\n",
    "            value = x\n",
    "    return value\n",
    "smallest_value([2,30,4,5,6,24])"
   ]
  },
  {
   "cell_type": "code",
   "execution_count": 2,
   "id": "df8bcaa2",
   "metadata": {},
   "outputs": [
    {
     "name": "stdout",
     "output_type": "stream",
     "text": [
      "[1, 4, 9, 16, 25]\n",
      "[256, 289, 324, 361]\n"
     ]
    }
   ],
   "source": [
    "def value():\n",
    "    l = list()\n",
    "    for i in range(1,21):\n",
    "        l.append(i*i)\n",
    "    print(l[:5])\n",
    "    print(l[-5:-1])\n",
    "value()"
   ]
  },
  {
   "cell_type": "code",
   "execution_count": 4,
   "id": "d0aecf3f",
   "metadata": {},
   "outputs": [
    {
     "name": "stdout",
     "output_type": "stream",
     "text": [
      "apple\n"
     ]
    }
   ],
   "source": [
    "list = ['a','p','p','l','e']\n",
    "a = ''.join(list)\n",
    "print(a)"
   ]
  },
  {
   "cell_type": "code",
   "execution_count": 12,
   "id": "9e9ff643",
   "metadata": {},
   "outputs": [
    {
     "name": "stdout",
     "output_type": "stream",
     "text": [
      "7\n"
     ]
    }
   ],
   "source": [
    "#22. Write a Python program to find the index of an item in a specified list.\n",
    "list1 = [1,2,3,4,5,6,8,9,10]\n",
    "print(list1.index(9))"
   ]
  },
  {
   "cell_type": "code",
   "execution_count": 13,
   "id": "493c577c",
   "metadata": {},
   "outputs": [
    {
     "name": "stdout",
     "output_type": "stream",
     "text": [
      "[10, 20, 30, 40, 50, 60, 70, 80, 90, 100, 110, 120]\n"
     ]
    }
   ],
   "source": [
    "# 23. Write a Python program to flatten a shallow list.\n",
    "\n",
    "lst = [[10,20,30,40],[50,60,70,80],[90,100,110,120]]\n",
    "flatlst = []\n",
    "for x in lst:\n",
    "    for y in x:\n",
    "        flatlst.append(y)\n",
    "print(flatlst)\n",
    "        "
   ]
  },
  {
   "cell_type": "code",
   "execution_count": 6,
   "id": "713a18b2",
   "metadata": {},
   "outputs": [
    {
     "ename": "AttributeError",
     "evalue": "module 'random' has no attribute 'rand'",
     "output_type": "error",
     "traceback": [
      "\u001b[1;31m---------------------------------------------------------------------------\u001b[0m",
      "\u001b[1;31mAttributeError\u001b[0m                            Traceback (most recent call last)",
      "\u001b[1;32m<ipython-input-6-6da96484a993>\u001b[0m in \u001b[0;36m<module>\u001b[1;34m\u001b[0m\n\u001b[0;32m      1\u001b[0m \u001b[1;32mimport\u001b[0m \u001b[0mrandom\u001b[0m\u001b[1;33m\u001b[0m\u001b[1;33m\u001b[0m\u001b[0m\n\u001b[0;32m      2\u001b[0m \u001b[0mls\u001b[0m \u001b[1;33m=\u001b[0m \u001b[1;33m[\u001b[0m\u001b[1;36m2\u001b[0m\u001b[1;33m,\u001b[0m\u001b[1;36m3\u001b[0m\u001b[1;33m,\u001b[0m\u001b[1;36m5\u001b[0m\u001b[1;33m,\u001b[0m\u001b[1;36m4\u001b[0m\u001b[1;33m,\u001b[0m\u001b[1;36m5\u001b[0m\u001b[1;33m]\u001b[0m\u001b[1;33m\u001b[0m\u001b[1;33m\u001b[0m\u001b[0m\n\u001b[1;32m----> 3\u001b[1;33m \u001b[0mn\u001b[0m \u001b[1;33m=\u001b[0m \u001b[0mrandom\u001b[0m\u001b[1;33m.\u001b[0m\u001b[0mrand\u001b[0m\u001b[1;33m(\u001b[0m\u001b[0mls\u001b[0m\u001b[1;33m)\u001b[0m\u001b[1;33m\u001b[0m\u001b[1;33m\u001b[0m\u001b[0m\n\u001b[0m\u001b[0;32m      4\u001b[0m \u001b[0mprint\u001b[0m\u001b[1;33m(\u001b[0m\u001b[0mn\u001b[0m\u001b[1;33m)\u001b[0m\u001b[1;33m\u001b[0m\u001b[1;33m\u001b[0m\u001b[0m\n",
      "\u001b[1;31mAttributeError\u001b[0m: module 'random' has no attribute 'rand'"
     ]
    }
   ],
   "source": [
    "# 28. Write a Python program to find the second smallest number in a list.\n",
    "ls1 = [5,6,7,8,9,2,4]\n",
    "def second_smallest(num):\n",
    "    \n"
   ]
  },
  {
   "cell_type": "code",
   "execution_count": 8,
   "id": "cef454c3",
   "metadata": {},
   "outputs": [
    {
     "data": {
      "text/plain": [
       "{2: 2, 3: 2, 4: 1, 5: 1, 7: 2, 8: 1, 6: 1}"
      ]
     },
     "execution_count": 8,
     "metadata": {},
     "output_type": "execute_result"
    }
   ],
   "source": [
    "# 30. Write a Python program to get the frequency of the elements in a list\n",
    "def list_lr(items):\n",
    "    dict = {}\n",
    "    for n in items:\n",
    "        keys = dict.keys()\n",
    "        if n in keys:\n",
    "            dict[n] +=1\n",
    "        else:\n",
    "            dict[n] = 1\n",
    "    return dict\n",
    "list_lr([2,3,4,5,2,3,7,8,6,7]) "
   ]
  },
  {
   "cell_type": "code",
   "execution_count": 19,
   "id": "df617d7a",
   "metadata": {},
   "outputs": [
    {
     "data": {
      "text/plain": [
       "7"
      ]
     },
     "execution_count": 19,
     "metadata": {},
     "output_type": "execute_result"
    }
   ],
   "source": [
    "# 31. Write a Python program to count the number of elements in a list within a specified range\n",
    "\n",
    "def count_lst(items):\n",
    "    count = 0\n",
    "    for x in items:\n",
    "        count +=1\n",
    "    return count\n",
    "count_lst([2,3,4,24,5,5,8])      "
   ]
  },
  {
   "cell_type": "code",
   "execution_count": 28,
   "id": "0b1ad085",
   "metadata": {},
   "outputs": [
    {
     "data": {
      "text/plain": [
       "3"
      ]
     },
     "execution_count": 28,
     "metadata": {},
     "output_type": "execute_result"
    }
   ],
   "source": [
    "def coun_ls(ls, min, max):\n",
    "    count = 0\n",
    "    for x in range(min,max):\n",
    "        if min <= x <= max :\n",
    "            count += 1\n",
    "    return count\n",
    "coun_ls([7,8,9,10,11,12,13,14,15,17,18], 15,18 )"
   ]
  },
  {
   "cell_type": "code",
   "execution_count": 20,
   "id": "45cc3081",
   "metadata": {},
   "outputs": [],
   "source": [
    "## Write a Python program to create a list by concatenating a given list which range goes from 1 to n.\n"
   ]
  },
  {
   "cell_type": "code",
   "execution_count": 28,
   "id": "1009db5f",
   "metadata": {},
   "outputs": [
    {
     "data": {
      "text/plain": [
       "[2, 6, 8]"
      ]
     },
     "execution_count": 28,
     "metadata": {},
     "output_type": "execute_result"
    }
   ],
   "source": [
    "# 37. Write a Python program to find common items from two lists\n",
    "\n",
    "def common_list(ls1, ls2):\n",
    "    list3 = []\n",
    "    for x in ls1:\n",
    "        for y in ls2:\n",
    "            if x==y:\n",
    "                list3.append(x)\n",
    "    return list3\n",
    "common_list([2,4,6,8,9],[2,5,6,8,1])"
   ]
  },
  {
   "cell_type": "code",
   "execution_count": 29,
   "id": "784b0cfa",
   "metadata": {},
   "outputs": [
    {
     "name": "stdout",
     "output_type": "stream",
     "text": [
      "{'White', 'Green'}\n"
     ]
    }
   ],
   "source": [
    "color1 = \"Red\", \"Green\", \"Orange\", \"White\"\n",
    "color2 = \"Black\", \"Green\", \"White\", \"Pink\"\n",
    "print(set(color1) & set(color2))"
   ]
  },
  {
   "cell_type": "code",
   "execution_count": 31,
   "id": "bb580b83",
   "metadata": {},
   "outputs": [
    {
     "name": "stdout",
     "output_type": "stream",
     "text": [
      "113350"
     ]
    }
   ],
   "source": [
    "#39. Write a Python program to convert a list of multiple integers into a single integer.\n",
    "\n",
    "lst =  [11, 33, 50]\n",
    "for x in lst:\n",
    "    print(x, end = \"\")"
   ]
  },
  {
   "cell_type": "code",
   "execution_count": 34,
   "id": "717588b5",
   "metadata": {},
   "outputs": [
    {
     "name": "stdout",
     "output_type": "stream",
     "text": [
      "Missing values in second list:  c,b,a\n",
      "Additional values in second list:  g,h\n"
     ]
    }
   ],
   "source": [
    "# 42. Write a Python program to find missing and additional values in two lists.\n",
    "\n",
    "list1 = ['a','b','c','d','e','f']\n",
    "list2 = ['d','e','f','g','h']\n",
    "print('Missing values in second list: ', ','.join(set(list1).difference(list2)))\n",
    "print('Additional values in second list: ', ','.join(set(list2).difference(list1)))"
   ]
  },
  {
   "cell_type": "code",
   "execution_count": 7,
   "id": "6e2e9cbe",
   "metadata": {},
   "outputs": [
    {
     "name": "stdout",
     "output_type": "stream",
     "text": [
      "('Black', '#000000', 'rgb(0, 0, 0)')\n",
      "('Red', '#FF0000', 'rgb(255, 0, 0)')\n",
      "('Yellow', '#FFFF00', 'rgb(255, 255, 0)')\n"
     ]
    }
   ],
   "source": [
    "color = [(\"Black\", \"#000000\", \"rgb(0, 0, 0)\"), (\"Red\", \"#FF0000\", \"rgb(255, 0, 0)\"),\n",
    "         (\"Yellow\", \"#FFFF00\", \"rgb(255, 255, 0)\")]\n",
    "var1, var2, var3 = color\n",
    "print(var1)\n",
    "print(var2)\n",
    "print(var3)"
   ]
  },
  {
   "cell_type": "code",
   "execution_count": 8,
   "id": "1826f208",
   "metadata": {},
   "outputs": [
    {
     "name": "stdout",
     "output_type": "stream",
     "text": [
      "[1, 2, 3, 4, 5, 6, 7, 8, 9, 10]\n"
     ]
    }
   ],
   "source": [
    "# 45. Write a Python program to convert a pair of values into a sorted unique array.\n",
    "\n",
    "L = [(1, 2), (3, 4), (1, 2), (5, 6), (7, 8), (1, 2), (3, 4), (3, 4), (7, 8), (9, 10)]\n",
    "l1 = []\n",
    "for x in L:\n",
    "    for y in x:\n",
    "        if y not in l1:\n",
    "            l1.append(y)\n",
    "l1.sort()\n",
    "print(l1)"
   ]
  },
  {
   "cell_type": "code",
   "execution_count": 9,
   "id": "6971f0bf",
   "metadata": {},
   "outputs": [
    {
     "name": "stdout",
     "output_type": "stream",
     "text": [
      "[{'color_name': 'Black', 'color_code': '#000000'}, {'color_name': 'Red', 'color_code': '#FF0000'}, {'color_name': 'Maroon', 'color_code': '#800000'}, {'color_name': 'Yellow', 'color_code': '#FFFF00'}]\n"
     ]
    }
   ],
   "source": [
    "# 49. Write a Python program to convert list to list of dictionaries.\n",
    "\n",
    "color_name = [\"Black\", \"Red\", \"Maroon\", \"Yellow\"]\n",
    "color_code = [\"#000000\", \"#FF0000\", \"#800000\", \"#FFFF00\"]\n",
    "zipped = [{'color_name': f, 'color_code': c} for f, c in zip(color_name, color_code)]\n",
    "print(zipped)"
   ]
  },
  {
   "cell_type": "code",
   "execution_count": null,
   "id": "65ffe7ab",
   "metadata": {},
   "outputs": [],
   "source": []
  },
  {
   "cell_type": "code",
   "execution_count": null,
   "id": "754b5389",
   "metadata": {},
   "outputs": [],
   "source": []
  },
  {
   "cell_type": "code",
   "execution_count": null,
   "id": "051595fa",
   "metadata": {},
   "outputs": [],
   "source": []
  },
  {
   "cell_type": "markdown",
   "id": "f21d9ebf",
   "metadata": {},
   "source": [
    "# Tuple()"
   ]
  },
  {
   "cell_type": "code",
   "execution_count": 10,
   "id": "7ca44086",
   "metadata": {},
   "outputs": [
    {
     "name": "stdout",
     "output_type": "stream",
     "text": [
      "(1, 2, 3, 4, 9)\n",
      "(1, 2, 3, 4, 9, 15, 17, 19, 1, 2, 3, 4, 9)\n",
      "(1, 2, 3, 4, 9, 15, 17, 19, 1, 2, 3, 4, 9, 30)\n"
     ]
    }
   ],
   "source": [
    "# 5. Write a Python program to add an item in a tuple. \n",
    "\n",
    "tup = (1,2,3,4)\n",
    "tup = tup + (9,)\n",
    "print(tup)\n",
    "\n",
    "tup = tup[:5] + (15,17,19) + tup[:5]\n",
    "print(tup)\n",
    "\n",
    "lstx = list(tup)\n",
    "lstx.append(30)\n",
    "tuplex = tuple(lstx)\n",
    "print(tuplex)"
   ]
  },
  {
   "cell_type": "code",
   "execution_count": 11,
   "id": "84ca9afa",
   "metadata": {},
   "outputs": [
    {
     "name": "stdout",
     "output_type": "stream",
     "text": [
      "3\n"
     ]
    }
   ],
   "source": [
    "# 9. Write a Python program to find the repeated items of a tuple.\n",
    "\n",
    "t1 = (2,3,4,5,6,5,4,9,2,8,9,4)\n",
    "print(t1.count(4))"
   ]
  },
  {
   "cell_type": "code",
   "execution_count": null,
   "id": "a4b30e65",
   "metadata": {},
   "outputs": [],
   "source": []
  }
 ],
 "metadata": {
  "kernelspec": {
   "display_name": "Python 3 (ipykernel)",
   "language": "python",
   "name": "python3"
  },
  "language_info": {
   "codemirror_mode": {
    "name": "ipython",
    "version": 3
   },
   "file_extension": ".py",
   "mimetype": "text/x-python",
   "name": "python",
   "nbconvert_exporter": "python",
   "pygments_lexer": "ipython3",
   "version": "3.9.7"
  }
 },
 "nbformat": 4,
 "nbformat_minor": 5
}
