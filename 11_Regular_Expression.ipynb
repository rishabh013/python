{
 "cells": [
  {
   "cell_type": "code",
   "execution_count": 26,
   "id": "f26a14de",
   "metadata": {},
   "outputs": [],
   "source": [
    "import re"
   ]
  },
  {
   "cell_type": "markdown",
   "id": "d3845d6e",
   "metadata": {},
   "source": [
    "https://github.com/nikhilkumarsingh/RegEx-In-Python/blob/master/01.%20Introduction.ipynb"
   ]
  },
  {
   "cell_type": "code",
   "execution_count": 27,
   "id": "1fd12568",
   "metadata": {},
   "outputs": [],
   "source": [
    "# Topics - findall, search, split, sub, finditer"
   ]
  },
  {
   "cell_type": "markdown",
   "id": "efc69bb2",
   "metadata": {},
   "source": [
    "match()             Determine if the RE matches at the beginning of the string.                             \n",
    "search()         \tScan through a string, looking for any location where this RE matches.                  \n",
    "findall()       \tFind all substrings where the RE matches, and returns them as a list.                 \n",
    "finditer()\t       Find all substrings where the RE matches, and returns them as an iterator.                "
   ]
  },
  {
   "cell_type": "code",
   "execution_count": 28,
   "id": "9f8dce63",
   "metadata": {},
   "outputs": [],
   "source": [
    "# meta charactor\n",
    "\n",
    "[]  Represent a character class\n",
    "^   Matches the beginning\n",
    "$   Matches the end\n",
    ".   Matches any character except newline\n",
    "?   Matches zero or one occurrence.\n",
    "|   Means OR (Matches with any of the characters separated by it.\n",
    "*   Any number of occurrences (including 0 occurrences)\n",
    "+   One or more occurrences\n",
    "{}  Indicate number of occurrences of a preceding RE to match.\n",
    "()  Enclose a group of REs"
   ]
  },
  {
   "cell_type": "code",
   "execution_count": 33,
   "id": "a51ffd15",
   "metadata": {},
   "outputs": [],
   "source": [
    "\\d   Matches any decimal digit, this is equivalent to the set class [0-9].\n",
    "\\D   Matches any non-digit character.[0-9]\n",
    "\\s   Matches any whitespace character.[\\t\\n\\f\\v]\n",
    "\\S   Matches any non-whitespace character[^\\t\\n\\f\\v]\n",
    "\\w   Matches any alphanumeric character, this is equivalent to the class [a-zA-Z0-9_].\n",
    "\\W   Matches any non-alphanumeric character [^a-zA-Z0-9_]."
   ]
  },
  {
   "cell_type": "code",
   "execution_count": 36,
   "id": "b03c4785",
   "metadata": {},
   "outputs": [
    {
     "name": "stdout",
     "output_type": "stream",
     "text": [
      "['Words', 'words', 'Words']\n",
      "['Word', 's', 'words', 'Words']\n",
      "['On', '12th', 'Jan', '2016', 'at', '11', '02', 'AM']\n",
      "['On ', 'th Jan ', ', at ', ':', ' AM']\n"
     ]
    }
   ],
   "source": [
    "from re import split\n",
    "print(split('\\W+', 'Words, words , Words'))\n",
    "print(split('\\W+', \"Word's words Words\"))\n",
    "print(split('\\W+', 'On 12th Jan 2016, at 11:02 AM'))\n",
    "print(split('\\d+', 'On 12th Jan 2016, at 11:02 AM'))"
   ]
  },
  {
   "cell_type": "markdown",
   "id": "eb6a5e15",
   "metadata": {},
   "source": [
    "## match(string[, pos[, endpos]])"
   ]
  },
  {
   "cell_type": "markdown",
   "id": "9a36d13f",
   "metadata": {},
   "source": [
    "A match is checked only at the beginning (by default).                                  \n",
    "\n",
    "Checking starts from pos index of the string. (default is 0)                                    \n",
    "\n",
    "Checking is done until endpos index of string. endpos is set as a very large integer (by default).            \n",
    "\n",
    "Returns None if no match found.                                                           \n",
    "\n",
    "If a match is found, a Match object is returned, containing information about the match: where it starts and ends, the substring it matched, and more."
   ]
  },
  {
   "cell_type": "code",
   "execution_count": 39,
   "id": "d336a5e2",
   "metadata": {},
   "outputs": [
    {
     "name": "stdout",
     "output_type": "stream",
     "text": [
      "<re.Match object; span=(0, 5), match='hello'>\n"
     ]
    }
   ],
   "source": [
    "pattern = re.compile(\"hello\")\n",
    "match = pattern.match(\"hello world\")\n",
    "print(match)"
   ]
  },
  {
   "cell_type": "code",
   "execution_count": 40,
   "id": "cf1b9981",
   "metadata": {},
   "outputs": [
    {
     "data": {
      "text/plain": [
       "<re.Match object; span=(4, 9), match='hello'>"
      ]
     },
     "execution_count": 40,
     "metadata": {},
     "output_type": "execute_result"
    }
   ],
   "source": [
    "pattern.match(\"say hello\", pos=4) "
   ]
  },
  {
   "cell_type": "markdown",
   "id": "9ad1c98f",
   "metadata": {},
   "source": [
    "## search(string[, pos[, endpos]])"
   ]
  },
  {
   "cell_type": "markdown",
   "id": "d3d9e4c3",
   "metadata": {},
   "source": [
    "A match is checked throughtout the string.                                            \n",
    "\n",
    "Same behaviour of pos and endpos as the match() function.                                      \n",
    "\n",
    "Returns None if no match found.                                                         \n",
    "\n",
    "If a match is found, a Match object is returned.                                                   \n"
   ]
  },
  {
   "cell_type": "code",
   "execution_count": 41,
   "id": "63805cc0",
   "metadata": {},
   "outputs": [],
   "source": [
    "pattern = re.compile(\"hello\")"
   ]
  },
  {
   "cell_type": "code",
   "execution_count": 44,
   "id": "9f5b59a4",
   "metadata": {},
   "outputs": [
    {
     "data": {
      "text/plain": [
       "<re.Match object; span=(4, 9), match='hello'>"
      ]
     },
     "execution_count": 44,
     "metadata": {},
     "output_type": "execute_result"
    }
   ],
   "source": [
    "pattern.search('say hello')"
   ]
  },
  {
   "cell_type": "markdown",
   "id": "4c1e1fd9",
   "metadata": {},
   "source": [
    "## findall(string[, pos[, endpos]])"
   ]
  },
  {
   "cell_type": "markdown",
   "id": "0cd36f13",
   "metadata": {},
   "source": [
    "Finds all non-overlapping substrings where the match is found, and returns them as a list.          \n",
    "\n",
    "Same behaviour of pos and endpos as the match() and search() function.                     "
   ]
  },
  {
   "cell_type": "code",
   "execution_count": 45,
   "id": "ff77c30c",
   "metadata": {},
   "outputs": [
    {
     "data": {
      "text/plain": [
       "['hello', 'hello']"
      ]
     },
     "execution_count": 45,
     "metadata": {},
     "output_type": "execute_result"
    }
   ],
   "source": [
    "pattern.findall(\"say hello hello\")"
   ]
  },
  {
   "cell_type": "code",
   "execution_count": 52,
   "id": "7819716b",
   "metadata": {},
   "outputs": [
    {
     "name": "stdout",
     "output_type": "stream",
     "text": [
      "['1', '1', '4', '1', '8', '8', '6']\n",
      "['11', '4', '1886']\n"
     ]
    }
   ],
   "source": [
    "text = \"I went to him at 11 A.M. on 4th July 1886\"\n",
    "p = re.compile('\\d')\n",
    "print(p.findall(text))\n",
    "\n",
    "p = re.compile('\\d+')\n",
    "print(p.findall(text))"
   ]
  },
  {
   "cell_type": "code",
   "execution_count": 53,
   "id": "ae89d4ee",
   "metadata": {},
   "outputs": [
    {
     "name": "stdout",
     "output_type": "stream",
     "text": [
      "['H', 'e', 's', 'a', 'i', 'd', 'i', 'n', 's', 'o', 'm', 'e', '_', 'l', 'a', 'n', 'g']\n",
      "['He', 'said', 'in', 'some_lang']\n",
      "[' ', ' ', '*', ' ', ' ', '.']\n"
     ]
    }
   ],
   "source": [
    "text = \"He said * in some_lang.\"\n",
    "p = re.compile('\\w')\n",
    "print(p.findall(text))\n",
    "\n",
    "p = re.compile('\\w+')\n",
    "print(p.findall(text))\n",
    "\n",
    "p = re.compile('\\W')\n",
    "print(p.findall(text))"
   ]
  },
  {
   "cell_type": "code",
   "execution_count": 55,
   "id": "8a1da5d7",
   "metadata": {},
   "outputs": [
    {
     "name": "stdout",
     "output_type": "stream",
     "text": [
      "['e', 'a', 'd', 'e', 'a', 'e', 'd']\n"
     ]
    }
   ],
   "source": [
    "import re\n",
    "text = \"Aye, Mr sad Girlwomsen amend\"\n",
    "p = re.compile('[a-e]')\n",
    "print(p.findall(text))"
   ]
  },
  {
   "cell_type": "code",
   "execution_count": 54,
   "id": "ff15bb71",
   "metadata": {},
   "outputs": [
    {
     "name": "stdout",
     "output_type": "stream",
     "text": [
      "['(995)-613-72']\n",
      "['9956178018', '(995)-613-72']\n"
     ]
    }
   ],
   "source": [
    "text = '''because 9956178018 CONCATENATE may not be available in future versions of Excel.(995)-613-72'''\n",
    "pattern = '\\(\\d{3}\\)-\\d{3}-\\d{2}'\n",
    "matches = re.findall(pattern, text)\n",
    "print(matches)\n",
    "pattern2 = '\\(\\d{3}\\)-\\d{3}-\\d{2}|\\d{10}'\n",
    "matches2 = re.findall(pattern2, text)\n",
    "print(matches2)"
   ]
  },
  {
   "cell_type": "markdown",
   "id": "ca476361",
   "metadata": {},
   "source": [
    "## finditer(string[, pos[, endpos]])"
   ]
  },
  {
   "cell_type": "markdown",
   "id": "6e58a08b",
   "metadata": {},
   "source": [
    "Finds all non-overlapping substrings where the match is found, and returns them as a list.           \n",
    "\n",
    "Same behaviour of pos and endpos as the match() and search() function.                            \n",
    "\n"
   ]
  },
  {
   "cell_type": "code",
   "execution_count": 46,
   "id": "0eb90d25",
   "metadata": {},
   "outputs": [],
   "source": [
    "matches = pattern.finditer(\"say hello hello\")"
   ]
  },
  {
   "cell_type": "code",
   "execution_count": 47,
   "id": "97bff21e",
   "metadata": {},
   "outputs": [
    {
     "name": "stdout",
     "output_type": "stream",
     "text": [
      "(4, 9)\n",
      "(10, 15)\n"
     ]
    }
   ],
   "source": [
    "for match in matches:\n",
    "    print(match.span())\n"
   ]
  },
  {
   "cell_type": "code",
   "execution_count": null,
   "id": "5e398e18",
   "metadata": {},
   "outputs": [],
   "source": []
  },
  {
   "cell_type": "code",
   "execution_count": 48,
   "id": "5c609465",
   "metadata": {},
   "outputs": [],
   "source": [
    "txt = \"This book costs $15.\"\n",
    "pattern = re.compile(\"$15\")"
   ]
  },
  {
   "cell_type": "code",
   "execution_count": 49,
   "id": "20b5bb12",
   "metadata": {},
   "outputs": [],
   "source": [
    "pattern.search(txt)"
   ]
  },
  {
   "cell_type": "markdown",
   "id": "e610a8e6",
   "metadata": {},
   "source": [
    "### No match found. Why?\n",
    "$ is a metacharacter and has a special meaning for regex engine. Here, we want to treat it like a literal.     \n",
    "\n",
    "In order to treat a metacharacter like a literal, you need to escape it using \\ character.     \n",
    "\n"
   ]
  },
  {
   "cell_type": "code",
   "execution_count": 50,
   "id": "2d67e86d",
   "metadata": {},
   "outputs": [],
   "source": [
    "pattern = re.compile(\"\\$15\")"
   ]
  },
  {
   "cell_type": "code",
   "execution_count": 51,
   "id": "3cf94177",
   "metadata": {},
   "outputs": [
    {
     "data": {
      "text/plain": [
       "<re.Match object; span=(16, 19), match='$15'>"
      ]
     },
     "execution_count": 51,
     "metadata": {},
     "output_type": "execute_result"
    }
   ],
   "source": [
    "pattern.search(txt)\n"
   ]
  },
  {
   "cell_type": "code",
   "execution_count": 56,
   "id": "b781f8d5",
   "metadata": {},
   "outputs": [
    {
     "name": "stdout",
     "output_type": "stream",
     "text": [
      "<re.Match object; span=(23, 26), match='sen'>\n"
     ]
    }
   ],
   "source": [
    "import re\n",
    "text = \"Aye, Mr and sad Girlwomsen and amend\"\n",
    "#p = re.compile('and')\n",
    "#p = re.compile('[a-e]')\n",
    "#p = re.compile('^Aye')\n",
    "#p = re.compile('end$')\n",
    "#p = re.compile('an*')\n",
    "#p = re.compile('an+')\n",
    "#p = re.compile('an{1}')\n",
    "#p = re.compile('(an){1}')\n",
    "p = re.compile('and$|sen') #either or case\n",
    "#p = re.compile('.')\n",
    "matches = p.finditer(text)\n",
    "\n",
    "for match in matches:\n",
    "    print(match)"
   ]
  },
  {
   "cell_type": "code",
   "execution_count": 3,
   "id": "d4f52a27",
   "metadata": {},
   "outputs": [
    {
     "name": "stdout",
     "output_type": "stream",
     "text": [
      "<re.Match object; span=(39, 42), match='sir'>\n"
     ]
    }
   ],
   "source": [
    "import re\n",
    "mydata = ''' My name is Rishabh and how are you my sir ramesh'''\n",
    "patt = re.compile(r'sir')\n",
    "matches = patt.finditer(mydata)\n",
    "for match in matches:\n",
    "    print(match)"
   ]
  },
  {
   "cell_type": "markdown",
   "id": "bc8f3f17",
   "metadata": {},
   "source": [
    "## Day -3"
   ]
  },
  {
   "cell_type": "code",
   "execution_count": 4,
   "id": "e7997dd0",
   "metadata": {},
   "outputs": [],
   "source": [
    "txt = \"\"\"\n",
    "Yesterday, I was driving my car without a driving licence. The traffic police stopped me and asked me for my \n",
    "license. I told them that I forgot my licence at home. \n",
    "\"\"\""
   ]
  },
  {
   "cell_type": "code",
   "execution_count": 5,
   "id": "bf94b8c2",
   "metadata": {},
   "outputs": [],
   "source": [
    "pattern = re.compile(\"licen[cs]e\")"
   ]
  },
  {
   "cell_type": "code",
   "execution_count": 6,
   "id": "daf3e4b9",
   "metadata": {},
   "outputs": [
    {
     "data": {
      "text/plain": [
       "['licence', 'license', 'licence']"
      ]
     },
     "execution_count": 6,
     "metadata": {},
     "output_type": "execute_result"
    }
   ],
   "source": [
    "pattern.findall(txt)"
   ]
  },
  {
   "cell_type": "markdown",
   "id": "97cca958",
   "metadata": {},
   "source": [
    "### Let us consider an example in which we want to retrieve all the years from the given text."
   ]
  },
  {
   "cell_type": "code",
   "execution_count": 7,
   "id": "23e888c5",
   "metadata": {},
   "outputs": [],
   "source": [
    "txt = \"\"\"\n",
    "The first season of Indian Premiere League (IPL) was played in 2008. \n",
    "The second season was played in 2009 in South Africa. \n",
    "Last season was played in 2018 and won by Chennai Super Kings (CSK).\n",
    "CSK won the title in 2010 and 2011 as well.\n",
    "Mumbai Indians (MI) has also won the title 3 times in 2013, 2015 and 2017.\n",
    "\"\"\""
   ]
  },
  {
   "cell_type": "code",
   "execution_count": 8,
   "id": "9bb1b9e9",
   "metadata": {},
   "outputs": [],
   "source": [
    "pattern = re.compile(\"[1-9][0-9][0-9][0-9]\")"
   ]
  },
  {
   "cell_type": "code",
   "execution_count": 9,
   "id": "5a7d788a",
   "metadata": {},
   "outputs": [
    {
     "data": {
      "text/plain": [
       "['2008', '2009', '2018', '2010', '2011', '2013', '2015', '2017']"
      ]
     },
     "execution_count": 9,
     "metadata": {},
     "output_type": "execute_result"
    }
   ],
   "source": [
    "pattern.findall(txt)"
   ]
  },
  {
   "cell_type": "code",
   "execution_count": null,
   "id": "503002a9",
   "metadata": {},
   "outputs": [],
   "source": [
    "[^A-Z0-9] # It means the chacter should not be  A-Z  and 0-9"
   ]
  },
  {
   "cell_type": "code",
   "execution_count": 10,
   "id": "74a174c7",
   "metadata": {},
   "outputs": [],
   "source": [
    "pattern = re.compile(\"[1-9]\\d\\d\\d\")"
   ]
  },
  {
   "cell_type": "code",
   "execution_count": 11,
   "id": "a0d7d7fb",
   "metadata": {},
   "outputs": [
    {
     "data": {
      "text/plain": [
       "['2008', '2009', '2018', '2010', '2011', '2013', '2015', '2017']"
      ]
     },
     "execution_count": 11,
     "metadata": {},
     "output_type": "execute_result"
    }
   ],
   "source": [
    "pattern.findall(txt)"
   ]
  },
  {
   "cell_type": "markdown",
   "id": "7857d823",
   "metadata": {},
   "source": [
    "Consider a scenario where you want to find all occurances of and, or, the in a given text.\n",
    "\n",
    "One way is to write and execute 3 separate regular expressions. Using alteration, it can be done in a single regular expression!"
   ]
  },
  {
   "cell_type": "code",
   "execution_count": 12,
   "id": "6b77771d",
   "metadata": {},
   "outputs": [],
   "source": [
    "txt = \"\"\"\n",
    "the most common conjunctions are and, or and but.\n",
    "\"\"\"\n"
   ]
  },
  {
   "cell_type": "code",
   "execution_count": 13,
   "id": "0e89081e",
   "metadata": {},
   "outputs": [
    {
     "data": {
      "text/plain": [
       "['the', 'and', 'or', 'and']"
      ]
     },
     "execution_count": 13,
     "metadata": {},
     "output_type": "execute_result"
    }
   ],
   "source": [
    "pattern = re.compile(\"and|or|the\")\n",
    "pattern.findall(txt)"
   ]
  },
  {
   "cell_type": "code",
   "execution_count": 14,
   "id": "7e839d3f",
   "metadata": {},
   "outputs": [],
   "source": [
    "# Consider one more example now in which we want to search the substrings What is and Who is.\n",
    "txt = \"\"\"\n",
    "What is your name?\n",
    "Who is that guy?\n",
    "\"\"\""
   ]
  },
  {
   "cell_type": "code",
   "execution_count": 15,
   "id": "c9e608fc",
   "metadata": {},
   "outputs": [
    {
     "data": {
      "text/plain": [
       "['What', 'Who is']"
      ]
     },
     "execution_count": 15,
     "metadata": {},
     "output_type": "execute_result"
    }
   ],
   "source": [
    "pattern = re.compile(\"What|Who is\")\n",
    "pattern.findall(txt)"
   ]
  },
  {
   "cell_type": "markdown",
   "id": "3091fb84",
   "metadata": {},
   "source": [
    "## Quantifiers\n",
    "Quantifiers are the mechanisms to define how a character, metacharacter, or character set can be repeated."
   ]
  },
  {
   "cell_type": "raw",
   "id": "6db1862e",
   "metadata": {},
   "source": [
    "Symbol      Name\t                    Quantification of previous character\n",
    "?\t        Question Mark\t            Optional (0 or 1 repetitions)\n",
    "*\t        Asterisk\t                Zero or more times\n",
    "+\t        Plus Sign\t                One or more times\n",
    "{n,m}\t    Curly Braces\t            Between n and m times"
   ]
  },
  {
   "cell_type": "markdown",
   "id": "8388c0a6",
   "metadata": {},
   "source": [
    "Ex.1 Find all the matches for dog and dogs in the given text."
   ]
  },
  {
   "cell_type": "code",
   "execution_count": 16,
   "id": "0c6b7709",
   "metadata": {},
   "outputs": [],
   "source": [
    "txt = \"\"\"\n",
    "I have 2 dogs. One dog is 1 year old and other one is 2 years old. Both dogs are very cute! \n",
    "\"\"\""
   ]
  },
  {
   "cell_type": "code",
   "execution_count": 17,
   "id": "a0fbff14",
   "metadata": {},
   "outputs": [
    {
     "data": {
      "text/plain": [
       "['dogs', 'dog', 'dogs']"
      ]
     },
     "execution_count": 17,
     "metadata": {},
     "output_type": "execute_result"
    }
   ],
   "source": [
    "pattern = re.compile(\"dogs?\")\n",
    "pattern.findall(txt)"
   ]
  },
  {
   "cell_type": "markdown",
   "id": "7ff53906",
   "metadata": {},
   "source": [
    "Ex.2 Find all filenames starting with file and ending with .txt in the given text."
   ]
  },
  {
   "cell_type": "code",
   "execution_count": 18,
   "id": "3aa820aa",
   "metadata": {},
   "outputs": [],
   "source": [
    "txt = \"\"\"\n",
    "file1.txt\n",
    "file_one.txt\n",
    "file.txt\n",
    "fil.txt\n",
    "file.xml\n",
    "file-1.txt\n",
    "\"\"\""
   ]
  },
  {
   "cell_type": "code",
   "execution_count": 20,
   "id": "aeb409ca",
   "metadata": {},
   "outputs": [
    {
     "data": {
      "text/plain": [
       "['file1.txt', 'file_one.txt', 'file.txt', 'file-1.txt']"
      ]
     },
     "execution_count": 20,
     "metadata": {},
     "output_type": "execute_result"
    }
   ],
   "source": [
    "pattern = re.compile(\"file[\\w-]*\\.txt\")\n",
    "pattern.findall(txt)"
   ]
  },
  {
   "cell_type": "markdown",
   "id": "538cdc86",
   "metadata": {},
   "source": [
    "Ex3. Find all filenames starting with file followed by 1 or more digits and ending with .txt in the given text."
   ]
  },
  {
   "cell_type": "code",
   "execution_count": 21,
   "id": "ce8cc5f5",
   "metadata": {},
   "outputs": [],
   "source": [
    "txt = \"\"\"\n",
    "file1.txt\n",
    "file_one.txt\n",
    "file09.txt\n",
    "fil.txt\n",
    "file23.xml\n",
    "file.txt\n",
    "\"\"\""
   ]
  },
  {
   "cell_type": "code",
   "execution_count": 23,
   "id": "8c69722c",
   "metadata": {},
   "outputs": [
    {
     "data": {
      "text/plain": [
       "['file1.txt', 'file09.txt']"
      ]
     },
     "execution_count": 23,
     "metadata": {},
     "output_type": "execute_result"
    }
   ],
   "source": [
    "pattern = re.compile(\"file\\d+\\.txt\")\n",
    "pattern.findall(txt)"
   ]
  },
  {
   "cell_type": "markdown",
   "id": "5f8e9aa8",
   "metadata": {},
   "source": [
    "Ex4. Find years in the given text."
   ]
  },
  {
   "cell_type": "code",
   "execution_count": 24,
   "id": "bd25da15",
   "metadata": {},
   "outputs": [],
   "source": [
    "txt = \"\"\"\n",
    "The first season of Indian Premiere League (IPL) was played in 2008. \n",
    "The second season was played in 2009 in South Africa. \n",
    "Last season was played in 2018 and won by Chennai Super Kings (CSK).\n",
    "CSK won the title in 2010 and 2011 as well.\n",
    "Mumbai Indians (MI) has also won the title 3 times in 2013, 2015 and 2017.\n",
    "\"\"\""
   ]
  },
  {
   "cell_type": "code",
   "execution_count": 25,
   "id": "f43fa352",
   "metadata": {},
   "outputs": [
    {
     "data": {
      "text/plain": [
       "['2008', '2009', '2018', '2010', '2011', '2013', '2015', '2017']"
      ]
     },
     "execution_count": 25,
     "metadata": {},
     "output_type": "execute_result"
    }
   ],
   "source": [
    "pattern = re.compile(\"\\d\\d\\d\\d\")\n",
    "pattern.findall(txt)"
   ]
  },
  {
   "cell_type": "code",
   "execution_count": 26,
   "id": "ff73538a",
   "metadata": {},
   "outputs": [
    {
     "data": {
      "text/plain": [
       "['2008', '2009', '2018', '2010', '2011', '2013', '2015', '2017']"
      ]
     },
     "execution_count": 26,
     "metadata": {},
     "output_type": "execute_result"
    }
   ],
   "source": [
    "pattern = re.compile(\"\\d{4}\")\n",
    "pattern.findall(txt)"
   ]
  },
  {
   "cell_type": "markdown",
   "id": "c0bc9bda",
   "metadata": {},
   "source": [
    "Ex5. In the given text, filter out all 4 or more digit numbers."
   ]
  },
  {
   "cell_type": "code",
   "execution_count": 28,
   "id": "49c79c6a",
   "metadata": {},
   "outputs": [],
   "source": [
    "txt = \"\"\"\n",
    "123143\n",
    "432\n",
    "5657\n",
    "4435\n",
    "54\n",
    "65111\n",
    "\"\"\""
   ]
  },
  {
   "cell_type": "code",
   "execution_count": 29,
   "id": "4bb4a5fc",
   "metadata": {},
   "outputs": [
    {
     "data": {
      "text/plain": [
       "['123143', '5657', '4435', '65111']"
      ]
     },
     "execution_count": 29,
     "metadata": {},
     "output_type": "execute_result"
    }
   ],
   "source": [
    "pattern = re.compile(\"\\d{4,}\")\n",
    "pattern.findall(txt)"
   ]
  },
  {
   "cell_type": "markdown",
   "id": "fb3b7374",
   "metadata": {},
   "source": [
    "Ex6.Telephone numbers can be of the form: 555-555-5555, 555 555 5555, 5555555555"
   ]
  },
  {
   "cell_type": "code",
   "execution_count": 30,
   "id": "1bcdc572",
   "metadata": {},
   "outputs": [],
   "source": [
    "txt = \"\"\"\n",
    "555-555-5555\n",
    "555 555 5555\n",
    "5555555555\n",
    "\"\"\""
   ]
  },
  {
   "cell_type": "code",
   "execution_count": 32,
   "id": "1c84229e",
   "metadata": {},
   "outputs": [
    {
     "data": {
      "text/plain": [
       "['555-555-5555', '555 555 5555', '5555555555']"
      ]
     },
     "execution_count": 32,
     "metadata": {},
     "output_type": "execute_result"
    }
   ],
   "source": [
    "pattern = re.compile(\"\\d{3}[-\\s]?\\d{3}[-\\s]?\\d{4}\")\n",
    "pattern.findall(txt)"
   ]
  },
  {
   "cell_type": "markdown",
   "id": "86c7d1cc",
   "metadata": {},
   "source": [
    "# Part 7 has completed"
   ]
  },
  {
   "cell_type": "markdown",
   "id": "5cf87f94",
   "metadata": {},
   "source": [
    "1.Write a Python program to check that a string contains only a certain set of characters (in this case a-z, A-Z and 0-9)."
   ]
  },
  {
   "cell_type": "code",
   "execution_count": 25,
   "id": "49e8eaa3",
   "metadata": {},
   "outputs": [
    {
     "ename": "TypeError",
     "evalue": "findall() missing 1 required positional argument: 'string'",
     "output_type": "error",
     "traceback": [
      "\u001b[0;31m---------------------------------------------------------------------------\u001b[0m",
      "\u001b[0;31mTypeError\u001b[0m                                 Traceback (most recent call last)",
      "\u001b[0;32m/tmp/ipykernel_298924/4164566868.py\u001b[0m in \u001b[0;36m<module>\u001b[0;34m\u001b[0m\n\u001b[1;32m      1\u001b[0m \u001b[0mtext\u001b[0m \u001b[0;34m=\u001b[0m \u001b[0;34m'Rishabhvishwakarma013@gmail.com'\u001b[0m\u001b[0;34m\u001b[0m\u001b[0;34m\u001b[0m\u001b[0m\n\u001b[1;32m      2\u001b[0m \u001b[0;34m\u001b[0m\u001b[0m\n\u001b[0;32m----> 3\u001b[0;31m \u001b[0md1\u001b[0m \u001b[0;34m=\u001b[0m \u001b[0mre\u001b[0m\u001b[0;34m.\u001b[0m\u001b[0mfindall\u001b[0m\u001b[0;34m(\u001b[0m\u001b[0;34mr'[^a-zA-Z0-9]'\u001b[0m\u001b[0;34m)\u001b[0m\u001b[0;34m\u001b[0m\u001b[0;34m\u001b[0m\u001b[0m\n\u001b[0m\u001b[1;32m      4\u001b[0m \u001b[0mvar1\u001b[0m \u001b[0;34m=\u001b[0m \u001b[0md1\u001b[0m\u001b[0;34m.\u001b[0m\u001b[0msearch\u001b[0m\u001b[0;34m(\u001b[0m\u001b[0mtext\u001b[0m\u001b[0;34m)\u001b[0m\u001b[0;34m\u001b[0m\u001b[0;34m\u001b[0m\u001b[0m\n\u001b[1;32m      5\u001b[0m \u001b[0;32mreturn\u001b[0m \u001b[0mvar1\u001b[0m\u001b[0;34m\u001b[0m\u001b[0;34m\u001b[0m\u001b[0m\n",
      "\u001b[0;31mTypeError\u001b[0m: findall() missing 1 required positional argument: 'string'"
     ]
    }
   ],
   "source": [
    "text = 'Rishabhvishwakarma013@gmail.com'\n",
    "\n",
    "d1 = re.findall(r'[^a-zA-Z0-9]')\n",
    "var1 = d1.search(text)\n",
    "return var1"
   ]
  },
  {
   "cell_type": "code",
   "execution_count": null,
   "id": "bc00125c",
   "metadata": {},
   "outputs": [],
   "source": []
  }
 ],
 "metadata": {
  "kernelspec": {
   "display_name": "Python 3",
   "language": "python",
   "name": "python3"
  },
  "language_info": {
   "codemirror_mode": {
    "name": "ipython",
    "version": 3
   },
   "file_extension": ".py",
   "mimetype": "text/x-python",
   "name": "python",
   "nbconvert_exporter": "python",
   "pygments_lexer": "ipython3",
   "version": "3.8.10"
  }
 },
 "nbformat": 4,
 "nbformat_minor": 5
}
