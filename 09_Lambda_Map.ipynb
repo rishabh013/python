{
 "cells": [
  {
   "cell_type": "code",
   "execution_count": 4,
   "id": "47398dab",
   "metadata": {},
   "outputs": [
    {
     "name": "stdout",
     "output_type": "stream",
     "text": [
      "[3, 6, 12, 18, 24, 15]\n"
     ]
    }
   ],
   "source": [
    "#1. Write a Python program to triple all numbers of a given list of integers. Use Python map.\n",
    "nums = (1, 2, 4, 6, 8, 5)\n",
    "triple = list(map(lambda n: n*3, nums))\n",
    "print(triple)"
   ]
  },
  {
   "cell_type": "code",
   "execution_count": 7,
   "id": "b02ea817",
   "metadata": {},
   "outputs": [
    {
     "name": "stdout",
     "output_type": "stream",
     "text": [
      "[12, 15, 18]\n"
     ]
    }
   ],
   "source": [
    "#2. Write a Python program to add three given lists using Python map and lambda.\n",
    "nums1 = [1, 2, 3] \n",
    "nums2 = [4, 5, 6] \n",
    "nums3 = [7, 8, 9]\n",
    "one_number = list(map(lambda x,y,z: x+y+z, nums1,nums2,nums3 ))\n",
    "print(one_number)"
   ]
  },
  {
   "cell_type": "code",
   "execution_count": 8,
   "id": "c6a6536b",
   "metadata": {},
   "outputs": [
    {
     "name": "stdout",
     "output_type": "stream",
     "text": [
      "[['R', 'e', 'd'], ['B', 'l', 'u', 'e'], ['B', 'l', 'a', 'c', 'k'], ['W', 'h', 'i', 't', 'e'], ['P', 'i', 'n', 'k']]\n"
     ]
    }
   ],
   "source": [
    "#3.Write a Python program to listify the list of given strings individually using Python map.\n",
    "color = ['Red', 'Blue', 'Black', 'White', 'Pink']\n",
    "result = list(map(list, color)) \n",
    "print(result)"
   ]
  },
  {
   "cell_type": "code",
   "execution_count": 12,
   "id": "3568f2dc",
   "metadata": {},
   "outputs": [
    {
     "name": "stdout",
     "output_type": "stream",
     "text": [
      "[10, 400, 27000, 2560000, 312500000, 46656000000, 8235430000000, 1677721600000000, 387420489000000000, 100000000000000000000]\n"
     ]
    }
   ],
   "source": [
    "# 4. Write a Python program to create a list containing the power of said number in bases raised to\n",
    "# the corresponding number in the index using Python map.\n",
    "bases_num = [10, 20, 30, 40, 50, 60, 70, 80, 90, 100]\n",
    "index = [1, 2, 3, 4, 5, 6, 7, 8, 9, 10]\n",
    "result = list(map(pow, bases_num, index))\n",
    "print(result)"
   ]
  },
  {
   "cell_type": "code",
   "execution_count": 13,
   "id": "eda912e1",
   "metadata": {},
   "outputs": [
    {
     "name": "stdout",
     "output_type": "stream",
     "text": [
      "[16, 25, 4, 81]\n"
     ]
    }
   ],
   "source": [
    "#5.Write a Python program to square the elements of a list using map() function.\n",
    "def square_num(n):\n",
    "     return n * n\n",
    "nums = [4, 5, 2, 9]\n",
    "result = map(square_num, nums)\n",
    "print(list(result))"
   ]
  },
  {
   "cell_type": "code",
   "execution_count": 17,
   "id": "b66d2fce",
   "metadata": {},
   "outputs": [
    {
     "name": "stdout",
     "output_type": "stream",
     "text": [
      "{('F', 'f'), ('I', 'i'), ('A', 'a'), ('E', 'e'), ('B', 'b'), ('U', 'u'), ('O', 'o')}\n"
     ]
    }
   ],
   "source": [
    "# 6. Write a Python program to convert all the characters in uppercase and lowercase and eliminate\n",
    "# duplicate letters from a given sequence. Use map() functiondef change_cases(s):\n",
    "def change_cases(s):\n",
    "    return str(s).upper(), str(s).lower()\n",
    "chars = {'a', 'b', 'E', 'f', 'a', 'i', 'o', 'U', 'a'}\n",
    "result = map(change_cases, chars)\n",
    "print(set(result))"
   ]
  },
  {
   "cell_type": "code",
   "execution_count": 1,
   "id": "990ca928",
   "metadata": {},
   "outputs": [
    {
     "name": "stdout",
     "output_type": "stream",
     "text": [
      "[(3, -1), (6, 2), (11, -1), (12, 4)]\n"
     ]
    }
   ],
   "source": [
    "#7.Write a Python program to add two given lists and find the difference between lists. Use map() function.\n",
    "\n",
    "def add_sub(x,y):\n",
    "    return x+y,x-y\n",
    "num1 = [1, 4, 5, 8]\n",
    "num2 = [2, 2, 6, 4]\n",
    "result = map(add_sub, num1, num2)\n",
    "print(list(result))\n",
    "#code ok"
   ]
  },
  {
   "cell_type": "code",
   "execution_count": 2,
   "id": "48685ea1",
   "metadata": {},
   "outputs": [
    {
     "name": "stdout",
     "output_type": "stream",
     "text": [
      "['2', '3', '5', '7']\n",
      "('4', '5', '8', '3')\n"
     ]
    }
   ],
   "source": [
    "#8.Write a Python program to convert a given list of integers and a tuple of integers in a list of strings.\n",
    "nums_list = [2, 3, 5, 7]\n",
    "nums_tuple = [4, 5, 8, 3]\n",
    "result_list = map(str, nums_list)\n",
    "result_tuple = map(str, nums_tuple)\n",
    "print(list(result_list))\n",
    "print(tuple(result_tuple))\n",
    "#code ok"
   ]
  },
  {
   "cell_type": "code",
   "execution_count": 3,
   "id": "d304cfea",
   "metadata": {},
   "outputs": [
    {
     "name": "stdout",
     "output_type": "stream",
     "text": [
      "['Alberto Franco', 'Gino Mcneill', 'Ryan Parkes', 'Eesha Hinton']\n",
      "['15/05/2002', '17/05/2002', '16/02/1999', '25/09/1998']\n",
      "['35', '37', '39', '35']\n"
     ]
    }
   ],
   "source": [
    "#9.Write a Python program to create a new list taking specificelements from \n",
    "# a tuple and convert a string value to integer.\n",
    "\n",
    "student_data  = [('Alberto Franco','15/05/2002','35kg'), ('Gino Mcneill','17/05/2002','37kg'),\n",
    "                 ('Ryan Parkes','16/02/1999', '39kg'), ('Eesha Hinton','25/09/1998', '35kg')]\n",
    "student_name = list(map(lambda x: x[0], student_data))\n",
    "student_dob = list(map(lambda x: x[1], student_data))\n",
    "student_weight = list(map(lambda x: x[2][:-2], student_data))\n",
    "print(student_name)\n",
    "print(student_dob)\n",
    "print(student_weight)"
   ]
  },
  {
   "cell_type": "code",
   "execution_count": null,
   "id": "941eab38",
   "metadata": {},
   "outputs": [],
   "source": []
  }
 ],
 "metadata": {
  "kernelspec": {
   "display_name": "Python 3",
   "language": "python",
   "name": "python3"
  },
  "language_info": {
   "codemirror_mode": {
    "name": "ipython",
    "version": 3
   },
   "file_extension": ".py",
   "mimetype": "text/x-python",
   "name": "python",
   "nbconvert_exporter": "python",
   "pygments_lexer": "ipython3",
   "version": "3.8.8"
  }
 },
 "nbformat": 4,
 "nbformat_minor": 5
}
