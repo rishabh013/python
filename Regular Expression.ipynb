{
 "cells": [
  {
   "cell_type": "code",
   "execution_count": 26,
   "id": "6ba427dc",
   "metadata": {},
   "outputs": [],
   "source": [
    "# Topics - findall, search, split, sub, finditer"
   ]
  },
  {
   "cell_type": "code",
   "execution_count": 12,
   "id": "a16f58c0",
   "metadata": {},
   "outputs": [],
   "source": [
    "# meta charactor\n",
    "\n",
    "# []  Represent a character class\n",
    "# ^   Matches the beginning\n",
    "# $   Matches the end\n",
    "# .   Matches any character except newline\n",
    "# ?   Matches zero or one occurrence.\n",
    "# |   Means OR (Matches with any of the characters\n",
    "#     separated by it.\n",
    "# *   Any number of occurrences (including 0 occurrences)\n",
    "# +   One or more occurrences\n",
    "# {}  Indicate number of occurrences of a preceding RE \n",
    "#     to match.\n",
    "# ()  Enclose a group of REs"
   ]
  },
  {
   "cell_type": "code",
   "execution_count": 27,
   "id": "4c7f0be7",
   "metadata": {},
   "outputs": [
    {
     "name": "stdout",
     "output_type": "stream",
     "text": [
      "['e', 'a', 'd', 'e', 'a', 'e', 'd']\n"
     ]
    }
   ],
   "source": [
    "import re\n",
    "text = \"Aye, Mr sad Girlwomsen amend\"\n",
    "p = re.compile('[a-e]')\n",
    "print(p.findall(text))"
   ]
  },
  {
   "cell_type": "code",
   "execution_count": 25,
   "id": "749665ef",
   "metadata": {},
   "outputs": [
    {
     "name": "stdout",
     "output_type": "stream",
     "text": [
      "<re.Match object; span=(23, 26), match='sen'>\n"
     ]
    }
   ],
   "source": [
    "import re\n",
    "text = \"Aye, Mr and sad Girlwomsen and amend\"\n",
    "#p = re.compile('and')\n",
    "#p = re.compile('[a-e]')\n",
    "#p = re.compile('^Aye')\n",
    "#p = re.compile('end$')\n",
    "#p = re.compile('an*')\n",
    "#p = re.compile('an+')\n",
    "#p = re.compile('an{1}')\n",
    "#p = re.compile('(an){1}')\n",
    "p = re.compile('and$|sen') #either or case\n",
    "#p = re.compile('.')\n",
    "matches = p.finditer(text)\n",
    "\n",
    "for match in matches:\n",
    "    print(match)"
   ]
  },
  {
   "cell_type": "code",
   "execution_count": null,
   "id": "4137fed4",
   "metadata": {},
   "outputs": [],
   "source": [
    "# \\d   Matches any decimal digit, this is equivalent\n",
    "#      to the set class [0-9].\n",
    "# \\D   Matches any non-digit character.\n",
    "# \\s   Matches any whitespace character.\n",
    "# \\S   Matches any non-whitespace character\n",
    "# \\w   Matches any alphanumeric character, this is\n",
    "#      equivalent to the class [a-zA-Z0-9_].\n",
    "# \\W   Matches any non-alphanumeric character."
   ]
  },
  {
   "cell_type": "code",
   "execution_count": 29,
   "id": "b6fc2046",
   "metadata": {},
   "outputs": [
    {
     "name": "stdout",
     "output_type": "stream",
     "text": [
      "['1', '1', '4', '1', '8', '8', '6']\n",
      "['11', '4', '1886']\n"
     ]
    }
   ],
   "source": [
    "text = \"I went to him at 11 A.M. on 4th July 1886\"\n",
    "p = re.compile('\\d')\n",
    "print(p.findall(text))\n",
    "\n",
    "p = re.compile('\\d+')\n",
    "print(p.findall(text))"
   ]
  },
  {
   "cell_type": "code",
   "execution_count": 32,
   "id": "7ab77c44",
   "metadata": {},
   "outputs": [
    {
     "name": "stdout",
     "output_type": "stream",
     "text": [
      "['H', 'e', 's', 'a', 'i', 'd', 'i', 'n', 's', 'o', 'm', 'e', '_', 'l', 'a', 'n', 'g']\n",
      "['He', 'said', 'in', 'some_lang']\n",
      "[' ', ' ', '*', ' ', ' ', '.']\n"
     ]
    }
   ],
   "source": [
    "text = \"He said * in some_lang.\"\n",
    "p = re.compile('\\w')\n",
    "print(p.findall(text))\n",
    "\n",
    "p = re.compile('\\w+')\n",
    "print(p.findall(text))\n",
    "\n",
    "p = re.compile('\\W')\n",
    "print(p.findall(text))"
   ]
  },
  {
   "cell_type": "code",
   "execution_count": 34,
   "id": "06faccae",
   "metadata": {},
   "outputs": [
    {
     "name": "stdout",
     "output_type": "stream",
     "text": [
      "['Words', 'words', 'Words']\n",
      "['Word', 's', 'words', 'Words']\n",
      "['On', '12th', 'Jan', '2016', 'at', '11', '02', 'AM']\n",
      "['On ', 'th Jan ', ', at ', ':', ' AM']\n"
     ]
    }
   ],
   "source": [
    "from re import split\n",
    "print(split('\\W+', 'Words, words , Words'))\n",
    "print(split('\\W+', \"Word's words Words\"))\n",
    "print(split('\\W+', 'On 12th Jan 2016, at 11:02 AM'))\n",
    "print(split('\\d+', 'On 12th Jan 2016, at 11:02 AM'))"
   ]
  }
 ],
 "metadata": {
  "kernelspec": {
   "display_name": "Python 3",
   "language": "python",
   "name": "python3"
  },
  "language_info": {
   "codemirror_mode": {
    "name": "ipython",
    "version": 3
   },
   "file_extension": ".py",
   "mimetype": "text/x-python",
   "name": "python",
   "nbconvert_exporter": "python",
   "pygments_lexer": "ipython3",
   "version": "3.8.8"
  }
 },
 "nbformat": 4,
 "nbformat_minor": 5
}
